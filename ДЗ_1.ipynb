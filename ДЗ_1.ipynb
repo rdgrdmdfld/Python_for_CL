{
  "nbformat": 4,
  "nbformat_minor": 0,
  "metadata": {
    "colab": {
      "provenance": [],
      "authorship_tag": "ABX9TyM/eYPJhBTs4s0fOSMfpPXs",
      "include_colab_link": true
    },
    "kernelspec": {
      "name": "python3",
      "display_name": "Python 3"
    },
    "language_info": {
      "name": "python"
    }
  },
  "cells": [
    {
      "cell_type": "markdown",
      "metadata": {
        "id": "view-in-github",
        "colab_type": "text"
      },
      "source": [
        "<a href=\"https://colab.research.google.com/github/rdgrdmdfld/Python_for_CL/blob/main/%D0%94%D0%97_1.ipynb\" target=\"_parent\"><img src=\"https://colab.research.google.com/assets/colab-badge.svg\" alt=\"Open In Colab\"/></a>"
      ]
    },
    {
      "cell_type": "code",
      "execution_count": null,
      "metadata": {
        "colab": {
          "base_uri": "https://localhost:8080/"
        },
        "id": "HZTIyPRf1WMe",
        "outputId": "67fc68f7-d7a8-4a60-83d7-149a26de5dd0"
      },
      "outputs": [
        {
          "output_type": "stream",
          "name": "stdout",
          "text": [
            "Оцените силу вашей душевной боли по шкале от 0 до 10: 5\n",
            "У вас высокий уровень тревоги, будто все дедлайны загорелись разом.\n"
          ]
        }
      ],
      "source": [
        "# определитель душевной боли\n",
        "\n",
        "a = float(input('Оцените силу вашей душевной боли по шкале от 0 до 10: '))\n",
        "if a < 0.7:\n",
        "    print('Кажется, вы испытываете легкое огорчение. Как человек в короткой поездке в метро, забывший дома наушники')\n",
        "elif 0.7 <= a <= 4.2:\n",
        "    print('Вы встревожены - почти как человек, которому придется звонить по телефону, и это в эпоху мессенджеров! То самое чувство, когда начинаете нервно репетировать в голове диалог...')\n",
        "elif 4.3 <= a <= 6.9:\n",
        "  print ('У вас высокий уровень тревоги, будто все дедлайны загорелись разом.')\n",
        "elif 7.0 <= a <= 10:\n",
        "  print ('Критический уровень тревоги. Берегите себя!')\n",
        "else:\n",
        "  print ('Что-то пошло не так... Пожалуйста, ведите значение от 0 до 10.')\n"
      ]
    },
    {
      "cell_type": "code",
      "source": [
        "# предсказание\n",
        "import random\n",
        "\n",
        "hse_prediction = [\n",
        "    ['Слушайте каждого. Идеи приходят отовсюду.'],\n",
        "    ['Скоро контрольная точка по нелюбимому предмету('],\n",
        "    ['В новом году обещаю себе смотреть не больше трех серий сериала за раз'],\n",
        "    ['Угостите преподавателя конфеткой!'],\n",
        "    ['Хорошие новости придут к вам по  Яндекс почте.'],\n",
        "    ['Что ни делается - все к лучшему, и даже первая пара, ожидающая Вас в обновлённом расписании.'],\n",
        "    ['Делайте то, чего просит душа и тело - не идите на пары!'],\n",
        "    ['Пора собирать чемоданы: Вас ждет экспедиция на Сахалин!'],\n",
        "    ['Пришло время сдать все долги.'],\n",
        "    ['Вы не получите автомат по физре в следующем полугодии.'],\n",
        "    ['В новом году обещаю себе спать'],\n",
        "    ['Если вы ждали знака - то ВОТ ОН! Срочно участвуйте в ближайшей конференции!'],\n",
        "    ['Вам повысят стипендию на 1000 рублей в этом году.'],\n",
        "    ['Ураааааааааааа! Завтра одни только  лекции!'],\n",
        "    ['Все лучшее происходит,когда Вас нет на паре!'],\n",
        "    ['На мобильность только в Питер'],\n",
        "    ['В новом году обещаю себе защитить диссертацию'],\n",
        "    ['В новом году обещаю себе запомнить имена одногруппников'],\n",
        "    ['Через час Вы снова проголодаетесь. Шоколад можно найти в магазине.']\n",
        "        ]\n",
        "\n",
        "prediction = []\n",
        "for m in hse_prediction:\n",
        "  if not m[0].startswith('В новом году'):\n",
        "    prediction.append(m)\n",
        "result = random.choice(prediction)\n",
        "print(*result)"
      ],
      "metadata": {
        "colab": {
          "base_uri": "https://localhost:8080/"
        },
        "id": "Fg_47brZs3J_",
        "outputId": "00b2bbb0-4b0c-434e-b2bb-15a4fb7314ab"
      },
      "execution_count": null,
      "outputs": [
        {
          "output_type": "stream",
          "name": "stdout",
          "text": [
            "Пришло время сдать все долги.\n"
          ]
        }
      ]
    },
    {
      "cell_type": "code",
      "source": [
        "# открытки\n",
        "postcards = {\n",
        "    \"Maria\": \"London\",\n",
        "    \"Lorenzo\": \"Milan\",\n",
        "    \"Oleg\": \"Canberra\",\n",
        "    \"Hans\": \"Calgary\",\n",
        "    \"Mark\": \"Milan\",\n",
        "    \"Alex\": \"Krakow\",\n",
        "    \"Julia\": \"Murmansk\"\n",
        "\n",
        "}\n",
        "# добавить две открытки\n",
        "postcards[\"Petra\"] = \"Paris\"\n",
        "postcards [\"Ivan\"] = \"Moscow\"\n",
        "print(postcards)\n",
        "# заменить значение в словаре\n",
        "postcards[\"Oleg\"] = \"Sydney\"\n",
        "print(postcards)\n",
        "# вывести уникальные значения городов\n",
        "postcards_values = list(postcards.values())\n",
        "print(postcards_values)\n",
        "cities = set(postcards_values)\n",
        "print(cities)\n",
        "print(len(set(cities)))"
      ],
      "metadata": {
        "colab": {
          "base_uri": "https://localhost:8080/"
        },
        "id": "NnjuDllMH7dQ",
        "outputId": "d7c6c731-9726-4a97-c532-ea7424873177"
      },
      "execution_count": 16,
      "outputs": [
        {
          "output_type": "stream",
          "name": "stdout",
          "text": [
            "{'Maria': 'London', 'Lorenzo': 'Milan', 'Oleg': 'Canberra', 'Hans': 'Calgary', 'Mark': 'Milan', 'Alex': 'Krakow', 'Julia': 'Murmansk', 'Petra': 'Paris', 'Ivan': 'Moscow'}\n",
            "{'Maria': 'London', 'Lorenzo': 'Milan', 'Oleg': 'Sydney', 'Hans': 'Calgary', 'Mark': 'Milan', 'Alex': 'Krakow', 'Julia': 'Murmansk', 'Petra': 'Paris', 'Ivan': 'Moscow'}\n",
            "['London', 'Milan', 'Sydney', 'Calgary', 'Milan', 'Krakow', 'Murmansk', 'Paris', 'Moscow']\n",
            "{'Milan', 'Krakow', 'Calgary', 'London', 'Sydney', 'Moscow', 'Paris', 'Murmansk'}\n",
            "8\n"
          ]
        }
      ]
    }
  ]
}