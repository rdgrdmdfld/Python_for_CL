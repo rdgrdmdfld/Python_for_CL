{
  "nbformat": 4,
  "nbformat_minor": 0,
  "metadata": {
    "colab": {
      "provenance": [],
      "authorship_tag": "ABX9TyN8KS3CapNABRkb8+XX0Vpv",
      "include_colab_link": true
    },
    "kernelspec": {
      "name": "python3",
      "display_name": "Python 3"
    },
    "language_info": {
      "name": "python"
    }
  },
  "cells": [
    {
      "cell_type": "markdown",
      "metadata": {
        "id": "view-in-github",
        "colab_type": "text"
      },
      "source": [
        "<a href=\"https://colab.research.google.com/github/AnnSenina/Python_for_CL/blob/main/homeworks/Hw2.ipynb\" target=\"_parent\"><img src=\"https://colab.research.google.com/assets/colab-badge.svg\" alt=\"Open In Colab\"/></a>"
      ]
    },
    {
      "cell_type": "markdown",
      "source": [
        "#Работа с файлами, pandas + парсинг\n",
        "Собираем корпус эко-новостей с сайта новостного издания \"Ведомости\"\n",
        "\n",
        "[По этой ссылке можно найти главную страницу](https://www.vedomosti.ru/ecology)\n",
        "\n",
        "Что нам предстоит сделать:\n",
        "\n",
        "достать все заголовки новостей в главной страницы + текст каждой новости\n",
        "\n",
        "сохранить в датафрейм с колонками \"ссылка\", \"дата\", \"заголовок\", \"текст\"\n",
        "\n",
        "сохранить датафрейм в файл\n",
        "\n",
        "положить код и получившийся файл в свой репозиторий на гитхабе"
      ],
      "metadata": {
        "id": "YrHvu0z94BQ2"
      }
    },
    {
      "cell_type": "code",
      "execution_count": null,
      "metadata": {
        "id": "kQUDEUeq39_d"
      },
      "outputs": [],
      "source": []
    }
  ]
}
