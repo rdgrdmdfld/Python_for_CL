{
  "nbformat": 4,
  "nbformat_minor": 0,
  "metadata": {
    "colab": {
      "provenance": []
    },
    "kernelspec": {
      "name": "python3",
      "display_name": "Python 3"
    },
    "language_info": {
      "name": "python"
    }
  },
  "cells": [
    {
      "cell_type": "markdown",
      "source": [
        "# Логика регулярных выражений (и зачем они нужны)\n",
        "\n",
        "регулярное выражение — это последовательность символов, используемая для поиска и(или) замены некоторого паттерна в строке (тексте или файле)\n",
        "\n",
        "регулярные выражения хороши, когда нам нужно вытащить из текста повторяющийся паттерн: номер телефона, конкретную фразу, адреса и тд.\n",
        "\n",
        "[онлайн-редактор для регулярных выражений](https://regex101.com/r/F8dY80/3)"
      ],
      "metadata": {
        "id": "ChZf-6ZfIk_v"
      }
    },
    {
      "cell_type": "markdown",
      "source": [
        "<table width=\"100%\"><tbody><tr><th style=\"text-align: center;\" width=\"90\"><strong>Оператор</strong></th><th style=\"text-align: center;\" width=\"680\"><strong>Описание</strong></th></tr><tr><td width=\"90\"><tt>.</tt></td><td width=\"680\">Один любой символ, кроме новой строки <tt>\\n</tt>.</td></tr><tr><td width=\"90\"><tt>?</tt></td><td width=\"680\">0 или 1 вхождение шаблона слева</td></tr><tr><td width=\"90\"><tt>+</tt></td><td width=\"680\">1 и более вхождений шаблона слева</td></tr><tr><td width=\"90\"><tt>*</tt></td><td width=\"680\">0 и более вхождений шаблона слева</td></tr><tr><td width=\"90\"><tt>\\w</tt></td><td width=\"680\">Любая цифра или буква (<tt>\\W</tt> —&nbsp;все, кроме буквы или цифры)</td></tr><tr><td width=\"90\"><tt>\\d</tt></td><td width=\"680\">Любая цифра [0-9] (<tt>\\D</tt> —&nbsp;все, кроме цифры)</td></tr><tr><td width=\"90\"><tt>\\s</tt></td><td width=\"680\">Любой пробельный символ (<tt>\\S</tt> —&nbsp;любой непробельный символ)</td></tr><tr><td width=\"90\"><tt>\\b</tt></td><td width=\"680\">Граница слова</td></tr><tr><td width=\"90\"><tt>[..]</tt></td><td width=\"680\">Один из символов в скобках (<tt>[^..]</tt> —&nbsp;любой символ, кроме тех, что в скобках)</td></tr><tr><td width=\"90\"><tt>\\</tt></td><td width=\"680\">Экранирование специальных символов (<tt>\\.</tt> означает точку или <tt>\\+</tt> —&nbsp;знак «плюс»)</td></tr><tr><td width=\"90\"><tt>^</tt> и <tt>$</tt></td><td width=\"680\">Начало и конец строки соответственно</td></tr><tr><td width=\"90\"><tt>{n,m}</tt></td><td width=\"680\">От <tt>n</tt> до <tt>m</tt> вхождений (<tt>{,m}</tt> —&nbsp;от 0 до <tt>m</tt>)</td></tr><tr><td width=\"90\"><tt>a|b</tt></td><td width=\"680\">Соответствует <tt>a</tt> или <tt>b</tt></td></tr><tr><td width=\"90\"><tt>()</tt></td><td width=\"680\">Группирует выражение и возвращает найденный текст</td></tr><tr><td width=\"90\"><tt>\\t</tt>, <tt>\\n</tt>, <tt>\\r</tt></td><td width=\"680\">Символ табуляции, новой строки и возврата каретки соответственно</td></tr></tbody></table>\n",
        "\n",
        "\n",
        "[здесь](https://www.rexegg.com/regex-quickstart.html) развернутая таблица синтаксиса"
      ],
      "metadata": {
        "id": "XpHRKDczJAE0"
      }
    },
    {
      "cell_type": "markdown",
      "source": [
        "#Регулярные выражения в питоне"
      ],
      "metadata": {
        "id": "dMd547IoJF1e"
      }
    },
    {
      "cell_type": "markdown",
      "source": [
        "чтобы начать работать с регулярными выражениями в питоне, нам нужно импортировать модуль ``re`` или установить библиотеку regex: pip install regex\n",
        "\n",
        "* здесь [ссылка](https://docs.python.org/3/library/re.html) на его документацию и [ссылка на тьюториал](https://docs.python.org/3/howto/regex.html#regex-howto) \n",
        "\n",
        "а так выглядят основные функции модуля re \n",
        "\n",
        "<div class=\"table\"><table>\n",
        "<thead>\n",
        "<tr>\n",
        "<th>Функция</th>\n",
        "<th>Что делает</th>\n",
        "</tr>\n",
        "</thead>\n",
        "<tbody>\n",
        "<tr>\n",
        "<td><code>re.match(pattern, string)</code></td>\n",
        "<td>Найти по заданному шаблону <code>pattern</code> первое совпадение в начале строки<code>string</code></td>\n",
        "</tr>\n",
        "<tr>\n",
        "<td><code>re.search(pattern, string)</code></td>\n",
        "<td>Найти в строке <code>string</code> первую строчку, подходящую под шаблон <code>pattern</code> <br>ищет по всей строке, но возвращает только первое найденное совпадение</br></td>\n",
        "</tr>\n",
        "<tr>\n",
        "<td><code>re.fullmatch(pattern, string)</code></td>\n",
        "<td>Проверить, подходит ли строка <code>string</code> под шаблон <code>pattern</code></td>\n",
        "</tr>\n",
        "<tr>\n",
        "<td><code>re.split(pattern, string, maxsplit=0)</code></td>\n",
        "<td>Аналог <code>str.split()</code>, только разделение происходит по подстрокам, подходящим под шаблон <code>pattern</code></td>\n",
        "</tr>\n",
        "<tr>\n",
        "<td><code>re.findall(pattern, string)</code></td>\n",
        "<td>Найти в строке <code>string</code> все непересекающиеся шаблоны <code>pattern</code></td>\n",
        "</tr>\n",
        "<tr>\n",
        "<td><code>re.sub(pattern, replace, string)</code></td>\n",
        "<td>Заменить в строке <code>string</code> все непересекающиеся шаблоны <code>pattern</code> на <code>replace</code></td>\n",
        "</tr>\n",
        "</tbody>\n",
        "</table></div>\n",
        "\n",
        "\n",
        "Давайте попробуем!"
      ],
      "metadata": {
        "id": "YHfoChoPJMKz"
      }
    },
    {
      "cell_type": "code",
      "source": [
        "!pip install regex\n",
        "#pip3 install regex"
      ],
      "metadata": {
        "colab": {
          "base_uri": "https://localhost:8080/"
        },
        "id": "KBxC9gdVJ6g4",
        "outputId": "78849b0d-98bc-43eb-af72-2069f18105fc"
      },
      "execution_count": null,
      "outputs": [
        {
          "output_type": "stream",
          "name": "stdout",
          "text": [
            "Looking in indexes: https://pypi.org/simple, https://us-python.pkg.dev/colab-wheels/public/simple/\n",
            "Requirement already satisfied: regex in /usr/local/lib/python3.7/dist-packages (2022.6.2)\n"
          ]
        }
      ]
    },
    {
      "cell_type": "code",
      "source": [
        "import re \n",
        "# для PyCharm - оставьте эту строку в исполняемом файле"
      ],
      "metadata": {
        "id": "-tCatrzoKY73"
      },
      "execution_count": null,
      "outputs": []
    },
    {
      "cell_type": "code",
      "source": [
        "text =  \"Hello my dear friend Amy.\\nHello again!\"\n",
        "\n",
        "print(text)"
      ],
      "metadata": {
        "id": "yl5NI3NdKXj7",
        "colab": {
          "base_uri": "https://localhost:8080/"
        },
        "outputId": "fc7e56da-acf1-4a0a-b9bf-678e8f24f02a"
      },
      "execution_count": null,
      "outputs": [
        {
          "output_type": "stream",
          "name": "stdout",
          "text": [
            "Hello my dear friend Amy.\n",
            "Hello again!\n"
          ]
        }
      ]
    },
    {
      "cell_type": "markdown",
      "source": [
        "##.match(pattern, string)\n",
        "\n",
        "метод ищет подстроку по заданному шаблону в начале строки"
      ],
      "metadata": {
        "id": "re5jEdbNKqc0"
      }
    },
    {
      "cell_type": "code",
      "source": [
        "result = re.match(r'Hello', text)\n",
        "# «r» перед строкой шаблона показывает, что это «сырая» строка в Python\n",
        "# не рассматривай \\ как экранирующий символ\n",
        "\n",
        "print(result)\n",
        "# попробуйте найти hello вместо Hello"
      ],
      "metadata": {
        "id": "WURVdNNyKYki",
        "colab": {
          "base_uri": "https://localhost:8080/"
        },
        "outputId": "52d5148b-e7b6-4de8-c1fa-7f8e5f12d21a"
      },
      "execution_count": null,
      "outputs": [
        {
          "output_type": "stream",
          "name": "stdout",
          "text": [
            "<re.Match object; span=(0, 5), match='Hello'>\n"
          ]
        }
      ]
    },
    {
      "cell_type": "markdown",
      "source": [
        "Строка найдена, но не показывается. По умолчанию, print покажет сам объект (найденный паттерн) и его мета-данные.\n",
        "\n",
        "Чтобы вывести содержимое, используем метод .group() Он показывает вхождения искомого паттерна"
      ],
      "metadata": {
        "id": "imI1AI6-L5SR"
      }
    },
    {
      "cell_type": "code",
      "source": [
        "print(result.group())"
      ],
      "metadata": {
        "colab": {
          "base_uri": "https://localhost:8080/"
        },
        "id": "kv0Ha7KHLqh3",
        "outputId": "7120b5da-68b7-4d3f-b48c-edbbe06997a2"
      },
      "execution_count": null,
      "outputs": [
        {
          "output_type": "stream",
          "name": "stdout",
          "text": [
            "Hello\n"
          ]
        }
      ]
    },
    {
      "cell_type": "code",
      "source": [
        "# попробуйте найти hello вместо Hello\n",
        "result = re.match(r'hello', text)\n",
        "print(result) # такая подстрока не начинает наш текст\n",
        "print(result.group())"
      ],
      "metadata": {
        "colab": {
          "base_uri": "https://localhost:8080/",
          "height": 225
        },
        "id": "3PHWflz1q7_1",
        "outputId": "2b53d1fd-1bb2-4396-f688-e5a95057229f"
      },
      "execution_count": null,
      "outputs": [
        {
          "output_type": "stream",
          "name": "stdout",
          "text": [
            "None\n"
          ]
        },
        {
          "output_type": "error",
          "ename": "AttributeError",
          "evalue": "ignored",
          "traceback": [
            "\u001b[0;31m---------------------------------------------------------------------------\u001b[0m",
            "\u001b[0;31mAttributeError\u001b[0m                            Traceback (most recent call last)",
            "\u001b[0;32m<ipython-input-9-2ee1344d4034>\u001b[0m in \u001b[0;36m<module>\u001b[0;34m\u001b[0m\n\u001b[1;32m      2\u001b[0m \u001b[0mresult\u001b[0m \u001b[0;34m=\u001b[0m \u001b[0mre\u001b[0m\u001b[0;34m.\u001b[0m\u001b[0mmatch\u001b[0m\u001b[0;34m(\u001b[0m\u001b[0;34mr'hello'\u001b[0m\u001b[0;34m,\u001b[0m \u001b[0mtext\u001b[0m\u001b[0;34m)\u001b[0m\u001b[0;34m\u001b[0m\u001b[0;34m\u001b[0m\u001b[0m\n\u001b[1;32m      3\u001b[0m \u001b[0mprint\u001b[0m\u001b[0;34m(\u001b[0m\u001b[0mresult\u001b[0m\u001b[0;34m)\u001b[0m\u001b[0;34m\u001b[0m\u001b[0;34m\u001b[0m\u001b[0m\n\u001b[0;32m----> 4\u001b[0;31m \u001b[0mprint\u001b[0m\u001b[0;34m(\u001b[0m\u001b[0mresult\u001b[0m\u001b[0;34m.\u001b[0m\u001b[0mgroup\u001b[0m\u001b[0;34m(\u001b[0m\u001b[0;34m)\u001b[0m\u001b[0;34m)\u001b[0m\u001b[0;34m\u001b[0m\u001b[0;34m\u001b[0m\u001b[0m\n\u001b[0m",
            "\u001b[0;31mAttributeError\u001b[0m: 'NoneType' object has no attribute 'group'"
          ]
        }
      ]
    },
    {
      "cell_type": "markdown",
      "source": [
        "##.fullmatch(pattern, string)\n",
        "проверяет, является ли паттерн полным совпадением со строкой"
      ],
      "metadata": {
        "id": "Y8wO9kjbMIMB"
      }
    },
    {
      "cell_type": "code",
      "source": [
        "result = re.fullmatch(r'Hello my dear friend Amy', 'Hello my dear friend Amy')\n",
        "\n",
        "print(result)\n",
        "\n",
        "print(result.group())"
      ],
      "metadata": {
        "id": "Tv_Y97q5MHrt",
        "colab": {
          "base_uri": "https://localhost:8080/"
        },
        "outputId": "ee4c0573-f568-460d-b7ea-624eea71b363"
      },
      "execution_count": null,
      "outputs": [
        {
          "output_type": "stream",
          "name": "stdout",
          "text": [
            "<re.Match object; span=(0, 24), match='Hello my dear friend Amy'>\n",
            "Hello my dear friend Amy\n"
          ]
        }
      ]
    },
    {
      "cell_type": "code",
      "source": [
        "res2 = re.fullmatch(r'Hello my dear friend Amy.\\nHello again!', text) # сравниваем текст и переменную text\n",
        "\n",
        "print(res2)\n",
        "\n",
        "print(res2.group())"
      ],
      "metadata": {
        "id": "gZ0SsV_BMR_2",
        "colab": {
          "base_uri": "https://localhost:8080/"
        },
        "outputId": "9296c177-4bbd-4b47-ca70-a5e2514a3b1f"
      },
      "execution_count": null,
      "outputs": [
        {
          "output_type": "stream",
          "name": "stdout",
          "text": [
            "<re.Match object; span=(0, 38), match='Hello my dear friend Amy.\\nHello again!'>\n",
            "Hello my dear friend Amy.\n",
            "Hello again!\n"
          ]
        }
      ]
    },
    {
      "cell_type": "code",
      "source": [
        "res3 = re.fullmatch(r'Hello my dear friend Amy.', text) # сравниваем текст и переменную text\n",
        "\n",
        "print(res3) # они не (полностью) совпадают\n",
        "\n",
        "print(res3.group())"
      ],
      "metadata": {
        "id": "KEBNjRFtMkWx",
        "colab": {
          "base_uri": "https://localhost:8080/",
          "height": 225
        },
        "outputId": "a1b3c0c6-ca77-4901-f041-566fe102e528"
      },
      "execution_count": null,
      "outputs": [
        {
          "output_type": "stream",
          "name": "stdout",
          "text": [
            "None\n"
          ]
        },
        {
          "output_type": "error",
          "ename": "AttributeError",
          "evalue": "ignored",
          "traceback": [
            "\u001b[0;31m---------------------------------------------------------------------------\u001b[0m",
            "\u001b[0;31mAttributeError\u001b[0m                            Traceback (most recent call last)",
            "\u001b[0;32m<ipython-input-12-465a1a56f963>\u001b[0m in \u001b[0;36m<module>\u001b[0;34m\u001b[0m\n\u001b[1;32m      3\u001b[0m \u001b[0mprint\u001b[0m\u001b[0;34m(\u001b[0m\u001b[0mres3\u001b[0m\u001b[0;34m)\u001b[0m\u001b[0;34m\u001b[0m\u001b[0;34m\u001b[0m\u001b[0m\n\u001b[1;32m      4\u001b[0m \u001b[0;34m\u001b[0m\u001b[0m\n\u001b[0;32m----> 5\u001b[0;31m \u001b[0mprint\u001b[0m\u001b[0;34m(\u001b[0m\u001b[0mres3\u001b[0m\u001b[0;34m.\u001b[0m\u001b[0mgroup\u001b[0m\u001b[0;34m(\u001b[0m\u001b[0;34m)\u001b[0m\u001b[0;34m)\u001b[0m\u001b[0;34m\u001b[0m\u001b[0;34m\u001b[0m\u001b[0m\n\u001b[0m",
            "\u001b[0;31mAttributeError\u001b[0m: 'NoneType' object has no attribute 'group'"
          ]
        }
      ]
    },
    {
      "cell_type": "markdown",
      "source": [
        "##.search(pattern, string)\n",
        "ищет паттерн по всей длине строки\n",
        "\n",
        "Внимание! search ищет не только в начале строки, в отличие от match\n",
        "\n",
        "! Вернется первое совпадение\n",
        "\n",
        "Примеры: [разница search и match](https://docs.python.org/3/library/re.html#search-vs-match)"
      ],
      "metadata": {
        "id": "RDPd2ww2NJnP"
      }
    },
    {
      "cell_type": "code",
      "source": [
        "result = re.search(r'Hello', text)\n",
        "# print(result)\n",
        "\n",
        "print(result)\n",
        "\n",
        "print(result.group())"
      ],
      "metadata": {
        "id": "DaOLEobrMMMo",
        "colab": {
          "base_uri": "https://localhost:8080/"
        },
        "outputId": "a95a7787-6fc6-4bc0-8366-e2cec566f279"
      },
      "execution_count": null,
      "outputs": [
        {
          "output_type": "stream",
          "name": "stdout",
          "text": [
            "<re.Match object; span=(0, 5), match='Hello'>\n",
            "Hello\n"
          ]
        }
      ]
    },
    {
      "cell_type": "code",
      "source": [
        "# попробуйте найти второе вхождение слова Hello\n",
        "# 'Hello my dear friend Amy.\\nHello again!'\n",
        "result = re.search(r'\\sHello', text) # любой пробельный символ\n",
        "result = re.search(r'\\nHello', text)\n",
        "# по умолчанию возвращает только первое совпадение \n",
        "\n",
        "print(result)\n",
        "\n",
        "print(result.group())"
      ],
      "metadata": {
        "id": "tlymS4wdN5-u",
        "colab": {
          "base_uri": "https://localhost:8080/"
        },
        "outputId": "f72f5199-eb9f-49ce-aa73-fa5a9f2edbb3"
      },
      "execution_count": null,
      "outputs": [
        {
          "output_type": "stream",
          "name": "stdout",
          "text": [
            "<re.Match object; span=(25, 31), match='\\nHello'>\n",
            "\n",
            "Hello\n"
          ]
        }
      ]
    },
    {
      "cell_type": "markdown",
      "source": [
        "## .split(pattern, string, maxsplit=0)\n",
        "\n",
        "Похож на знакомый нам ```.split()```. Метод разделяет строку по заданному шаблону"
      ],
      "metadata": {
        "id": "5OlSaiJQOFnr"
      }
    },
    {
      "cell_type": "code",
      "source": [
        "result = re.split(r'\\s',text) # любой пробельный символ\n",
        "\n",
        "print(result)\n",
        "# обратите внимание: здесь результат можно сразу напечатать без метода .group()"
      ],
      "metadata": {
        "id": "gOuC4kfSMMHb",
        "colab": {
          "base_uri": "https://localhost:8080/"
        },
        "outputId": "41ce8cd4-e379-4a2e-93e5-071e0edfb4fa"
      },
      "execution_count": null,
      "outputs": [
        {
          "output_type": "stream",
          "name": "stdout",
          "text": [
            "['Hello', 'my', 'dear', 'friend', 'Amy.', 'Hello', 'again!']\n"
          ]
        }
      ]
    },
    {
      "cell_type": "code",
      "source": [
        "res2 = re.split(\"\\.\\s\", text) # \\s - любой пробельный символ, включая перенос строки, табуляцию и т.д.\n",
        "\n",
        "print(res2)"
      ],
      "metadata": {
        "id": "Rc3bXj6kMMEv",
        "colab": {
          "base_uri": "https://localhost:8080/"
        },
        "outputId": "2b6df92f-c3ad-4bbf-f4bf-f0e245ad19a3"
      },
      "execution_count": null,
      "outputs": [
        {
          "output_type": "stream",
          "name": "stdout",
          "text": [
            "['Hello my dear friend Amy', 'Hello again!']\n"
          ]
        }
      ]
    },
    {
      "cell_type": "code",
      "source": [
        "res3 = re.split(\"[\\.!]\\s\", text + '\\nHow are you?')\n",
        "\n",
        "print(text + '\\nHow are you?')\n",
        "\n",
        "print(res3)"
      ],
      "metadata": {
        "id": "bIdItZTUOjFT",
        "colab": {
          "base_uri": "https://localhost:8080/"
        },
        "outputId": "b036c709-5fd1-4756-c02e-0abadeda2379"
      },
      "execution_count": null,
      "outputs": [
        {
          "output_type": "stream",
          "name": "stdout",
          "text": [
            "Hello my dear friend Amy.\n",
            "Hello again!\n",
            "How are you?\n",
            "['Hello my dear friend Amy', 'Hello again', 'How are you?']\n"
          ]
        }
      ]
    },
    {
      "cell_type": "code",
      "source": [
        "res3 = re.split(\"[\\.!\\?]\", text + '\\nHow are you?')\n",
        "\n",
        "print(res3)\n",
        "\n",
        "res3 = re.split(\"[\\.!\\?]\\s\", text + '\\nHow are you?')\n",
        "\n",
        "print(res3)\n",
        "\n",
        "res3 = re.split(\"[\\.!]\\s|\\?\", text + '\\nHow are you?')\n",
        "\n",
        "\n",
        "# . + ? *\n",
        "#res3 = re.split(\"[\\.!?]\\s|?$\", text + '\\nHow are you?')\n",
        "# . - любой символ\n",
        "# \\. - точка, экранируем\n",
        "# ? - 0 или 1 любой символ\n",
        "# \\? - воспросительный знак\n",
        "#print(text + '\\nHow are you?')\n",
        "\n",
        "# сложно придумать, как убрать ?\n",
        "\n",
        "s = ''.join(res3)\n",
        "print(s.strip('?'))\n",
        "\n",
        "for i in range(len(res3)):\n",
        "  res3[i] = res3[i].strip('?')\n",
        "print(res3)"
      ],
      "metadata": {
        "colab": {
          "base_uri": "https://localhost:8080/"
        },
        "id": "fV6ld-PRvhmk",
        "outputId": "ca0cbffc-7e82-4607-e486-90e3118340aa"
      },
      "execution_count": null,
      "outputs": [
        {
          "output_type": "stream",
          "name": "stdout",
          "text": [
            "['Hello my dear friend Amy', '\\nHello again', '\\nHow are you', '']\n",
            "['Hello my dear friend Amy', 'Hello again', 'How are you?']\n",
            "Hello my dear friend AmyHello againHow are you\n",
            "['Hello my dear friend Amy', 'Hello again', 'How are you', '']\n"
          ]
        }
      ]
    },
    {
      "cell_type": "markdown",
      "source": [
        "maxsplit - опциональный аргумент.\n",
        "Если его указать, то разделение будет произведено не более указанного количества раз"
      ],
      "metadata": {
        "id": "ziWG33jTS2kW"
      }
    },
    {
      "cell_type": "code",
      "source": [
        "result = re.split(r' ', text, maxsplit=4)\n",
        "\n",
        "print(result)"
      ],
      "metadata": {
        "id": "ArxookZKOjC6",
        "colab": {
          "base_uri": "https://localhost:8080/"
        },
        "outputId": "efc28886-7cf9-47e3-da31-6c4970fa4ca3"
      },
      "execution_count": null,
      "outputs": [
        {
          "output_type": "stream",
          "name": "stdout",
          "text": [
            "['Hello', 'my', 'dear', 'friend', 'Amy.\\nHello again!']\n"
          ]
        }
      ]
    },
    {
      "cell_type": "markdown",
      "source": [
        "##.findall(pattern, string)"
      ],
      "metadata": {
        "id": "S7gK1rYXTFZC"
      }
    },
    {
      "cell_type": "code",
      "source": [
        "result = re.findall(r'my', text)\n",
        "print(result)\n",
        "\n",
        "# вопрос: чем отличается от match и search?"
      ],
      "metadata": {
        "id": "i23EEEsUTFCv",
        "colab": {
          "base_uri": "https://localhost:8080/"
        },
        "outputId": "ce30af3c-d630-4ebd-dc5a-75aae0a87bc0"
      },
      "execution_count": null,
      "outputs": [
        {
          "output_type": "stream",
          "name": "stdout",
          "text": [
            "[]\n"
          ]
        }
      ]
    },
    {
      "cell_type": "code",
      "source": [
        "# попробуйте с буквой e  или r\n",
        "result = re.findall(r'\\w*my', text)\n",
        "print(result)\n",
        "\n",
        "# вопрос: чем отличается от match и search?"
      ],
      "metadata": {
        "id": "K0DzmtNiOjAT",
        "colab": {
          "base_uri": "https://localhost:8080/"
        },
        "outputId": "527221aa-d5b6-4be8-c605-43a9362a85cd"
      },
      "execution_count": null,
      "outputs": [
        {
          "output_type": "stream",
          "name": "stdout",
          "text": [
            "[]\n"
          ]
        }
      ]
    },
    {
      "cell_type": "code",
      "source": [
        "res2 = re.findall(r\"m.*\", text) # добавляем квантификатор *\n",
        "\n",
        "print(res2)"
      ],
      "metadata": {
        "id": "EnyHxegiOi9m",
        "colab": {
          "base_uri": "https://localhost:8080/"
        },
        "outputId": "4816c7d8-8313-44aa-f734-be9827669db6"
      },
      "execution_count": null,
      "outputs": [
        {
          "output_type": "stream",
          "name": "stdout",
          "text": [
            "[]\n"
          ]
        }
      ]
    },
    {
      "cell_type": "code",
      "source": [
        "res3 = re.findall(r\"m.*\", text + \"I'm glad to see you!\")\n",
        "\n",
        "print(res3)"
      ],
      "metadata": {
        "id": "JfguGM3QTk1b"
      },
      "execution_count": null,
      "outputs": []
    },
    {
      "cell_type": "markdown",
      "source": [
        "##Бонус для .findall \n",
        "разные примеры"
      ],
      "metadata": {
        "id": "YOIdgnuaVlAd"
      }
    },
    {
      "cell_type": "code",
      "source": [
        "import re"
      ],
      "metadata": {
        "id": "YAOfr-oJR6aG"
      },
      "execution_count": null,
      "outputs": []
    },
    {
      "cell_type": "code",
      "source": [
        "twister = \"Two toads, terribly tired, trotted along the road.\\nSaid toad number 1 12 to the toad number Two:\\n'I'm tired, and I'm carrying the load.\"\n",
        "print(re.findall(r'.+', twister))\n",
        "print(re.findall(r'\\d+', twister))\n",
        "print(re.findall(r'[0-9]+', twister))\n",
        "print(re.findall(r'[0-9]', twister))\n",
        "print(re.findall(r'\\D+', twister))\n",
        "print(re.findall(r'\\w+', twister))\n",
        "print(re.findall(r'\\W+', twister))\n",
        "print(re.findall(r'\\w', twister))\n",
        "print(re.findall(r'\\s+', twister))\n",
        "print(re.findall(r'\\S+', twister))"
      ],
      "metadata": {
        "id": "OhbY4_O3uB6Y",
        "colab": {
          "base_uri": "https://localhost:8080/"
        },
        "outputId": "74015764-8acc-4d9e-c959-8aab9565bce0"
      },
      "execution_count": null,
      "outputs": [
        {
          "output_type": "stream",
          "name": "stdout",
          "text": [
            "['Two toads, terribly tired, trotted along the road.', 'Said toad number 1 12 to the toad number Two:', \"'I'm tired, and I'm carrying the load.\"]\n",
            "['1', '12']\n",
            "['1', '12']\n",
            "['1', '1', '2']\n",
            "['Two toads, terribly tired, trotted along the road.\\nSaid toad number ', ' ', \" to the toad number Two:\\n'I'm tired, and I'm carrying the load.\"]\n",
            "['Two', 'toads', 'terribly', 'tired', 'trotted', 'along', 'the', 'road', 'Said', 'toad', 'number', '1', '12', 'to', 'the', 'toad', 'number', 'Two', 'I', 'm', 'tired', 'and', 'I', 'm', 'carrying', 'the', 'load']\n",
            "[' ', ', ', ' ', ', ', ' ', ' ', ' ', '.\\n', ' ', ' ', ' ', ' ', ' ', ' ', ' ', ' ', ' ', \":\\n'\", \"'\", ' ', ', ', ' ', \"'\", ' ', ' ', ' ', '.']\n",
            "['T', 'w', 'o', 't', 'o', 'a', 'd', 's', 't', 'e', 'r', 'r', 'i', 'b', 'l', 'y', 't', 'i', 'r', 'e', 'd', 't', 'r', 'o', 't', 't', 'e', 'd', 'a', 'l', 'o', 'n', 'g', 't', 'h', 'e', 'r', 'o', 'a', 'd', 'S', 'a', 'i', 'd', 't', 'o', 'a', 'd', 'n', 'u', 'm', 'b', 'e', 'r', '1', '1', '2', 't', 'o', 't', 'h', 'e', 't', 'o', 'a', 'd', 'n', 'u', 'm', 'b', 'e', 'r', 'T', 'w', 'o', 'I', 'm', 't', 'i', 'r', 'e', 'd', 'a', 'n', 'd', 'I', 'm', 'c', 'a', 'r', 'r', 'y', 'i', 'n', 'g', 't', 'h', 'e', 'l', 'o', 'a', 'd']\n",
            "[' ', ' ', ' ', ' ', ' ', ' ', ' ', '\\n', ' ', ' ', ' ', ' ', ' ', ' ', ' ', ' ', ' ', '\\n', ' ', ' ', ' ', ' ', ' ', ' ']\n",
            "['Two', 'toads,', 'terribly', 'tired,', 'trotted', 'along', 'the', 'road.', 'Said', 'toad', 'number', '1', '12', 'to', 'the', 'toad', 'number', 'Two:', \"'I'm\", 'tired,', 'and', \"I'm\", 'carrying', 'the', 'load.']\n"
          ]
        }
      ]
    },
    {
      "cell_type": "code",
      "source": [
        "twister = \"Two toads, terribly tired, trotted along the road.\\nSaid toad number 1 12 to the toad number Two:\\n'I'm tired, and I'm carrying the load.\"\n",
        "print(re.findall(r'[trl]oad', twister))\n",
        "print(re.findall(r'[trl]oad\\b', twister))\n",
        "print(re.findall(r'[^s]oad\\b', twister))\n",
        "print(re.findall(r'[rl]oad\\b', twister))\n",
        "print(re.findall(r'[A-Za-z]+', twister))"
      ],
      "metadata": {
        "id": "qWp9oqixuMF7",
        "colab": {
          "base_uri": "https://localhost:8080/"
        },
        "outputId": "c30f0a77-b12b-4c3d-d713-eee60d6420f4"
      },
      "execution_count": null,
      "outputs": [
        {
          "output_type": "stream",
          "name": "stdout",
          "text": [
            "['toad', 'road', 'toad', 'toad', 'load']\n",
            "['road', 'toad', 'toad', 'load']\n",
            "['road', 'toad', 'toad', 'load']\n",
            "['road', 'load']\n",
            "['Two', 'toads', 'terribly', 'tired', 'trotted', 'along', 'the', 'road', 'Said', 'toad', 'number', 'to', 'the', 'toad', 'number', 'Two', 'I', 'm', 'tired', 'and', 'I', 'm', 'carrying', 'the', 'load']\n"
          ]
        }
      ]
    },
    {
      "cell_type": "code",
      "source": [
        "s = 'Кошка и ёжик играют с мячом, but dog does not play with ball'\n",
        "print(re.findall(r'[A-Za-z]+', s))\n",
        "print(re.findall(r'[а-яА-ЯЁё]+', s))\n",
        "print(re.findall(r'[а-яА-ЯЁёA-Za-z]+', s))"
      ],
      "metadata": {
        "id": "G_1SV3bQxhR-",
        "colab": {
          "base_uri": "https://localhost:8080/"
        },
        "outputId": "8ed57fd3-8a56-4e05-a13c-4326186a5895"
      },
      "execution_count": null,
      "outputs": [
        {
          "output_type": "stream",
          "name": "stdout",
          "text": [
            "['but', 'dog', 'does', 'not', 'play', 'with', 'ball']\n",
            "['Кошка', 'и', 'ёжик', 'играют', 'с', 'мячом']\n",
            "['Кошка', 'и', 'ёжик', 'играют', 'с', 'мячом', 'but', 'dog', 'does', 'not', 'play', 'with', 'ball']\n"
          ]
        }
      ]
    },
    {
      "cell_type": "code",
      "source": [
        "# извлечь дату: день месяц год\n",
        "text = \"12 ноября 2011 года произошло удивительное событие. А 13 ноября 2012 - еще удивительнее. Даже не будем \\nговорить, что произошло 2 декабря 2011 года и 25 декабря 2012 года.\"\n",
        "print(re.findall(r'\\d+', text))\n",
        "print(re.findall(r'\\d{1,2}\\s\\w+\\s\\d{4}', text))\n",
        "print(re.findall(r'\\d{1,2} \\w+ \\d{4}', text))"
      ],
      "metadata": {
        "id": "eT419DU_zCr6",
        "colab": {
          "base_uri": "https://localhost:8080/"
        },
        "outputId": "ef73cfcf-6e34-42e9-a18b-ddbbaea257a9"
      },
      "execution_count": null,
      "outputs": [
        {
          "output_type": "stream",
          "name": "stdout",
          "text": [
            "['12', '2011', '13', '2012', '2', '2011', '25', '2012']\n",
            "['12 ноября 2011', '13 ноября 2012', '2 декабря 2011', '25 декабря 2012']\n",
            "['12 ноября 2011', '13 ноября 2012', '2 декабря 2011', '25 декабря 2012']\n"
          ]
        }
      ]
    },
    {
      "cell_type": "code",
      "source": [
        "# найти приглагательное с основой 'удивительн'\n",
        "text = \"12 ноября 2011 года произошло удивительное событие, удивительного. А 13 ноября 2012 - еще удивительнее. Даже не будем \\nговорить, что произошло 2 декабря 2011 года и 25 декабря 2012 года.\"\n",
        "print(re.findall(r'удивительн..', text))\n",
        "print(re.findall(r'удивительн.{2,3}', text))"
      ],
      "metadata": {
        "id": "dX4HtuHu00WR",
        "colab": {
          "base_uri": "https://localhost:8080/"
        },
        "outputId": "d61d6863-eaa4-49e3-90e6-628d93ea404e"
      },
      "execution_count": null,
      "outputs": [
        {
          "output_type": "stream",
          "name": "stdout",
          "text": [
            "['удивительное', 'удивительног', 'удивительнее']\n",
            "['удивительное ', 'удивительного', 'удивительнее.']\n"
          ]
        }
      ]
    },
    {
      "cell_type": "code",
      "source": [
        "# найти все годы\n",
        "text2 = \"По имеющимся данным, в Екатеринбургской губернии на май 1916 года было занято 50611 военнопленных,\\nиз них 34194 на фабричных и заводских работах, 5731 на «казённых», 5060 на сельскохозяйственных,\\n4145 на железнодорожных, 913 на городских и земских, 568 на прочих.\"\n",
        "print(re.findall(r'\\d{4}', text2)) # не годы!\n",
        "print(re.findall(r'19\\d{2}', text2)) \n",
        "print(re.findall(r'\\d{4} г', text2))\n",
        "print(re.findall(r'\\d{1,4} г', text2)) # даже до 10 века\n",
        "print(re.findall(r'\\d{1,4}\\sг', text2)) # даже до 10 века, аналогично\n",
        "print(re.findall(r'(\\d{1,4})\\sг', text2)) # () - позволяют включить в список только нужную часть найденного выражения"
      ],
      "metadata": {
        "id": "ylB4YFqI3Df0",
        "colab": {
          "base_uri": "https://localhost:8080/"
        },
        "outputId": "f58f83ea-2062-48ec-e7fc-f22ed7eb4c7b"
      },
      "execution_count": null,
      "outputs": [
        {
          "output_type": "stream",
          "name": "stdout",
          "text": [
            "['1916', '5061', '3419', '5731', '5060', '4145']\n",
            "['1916']\n",
            "['1916 г']\n",
            "['1916 г']\n",
            "['1916 г']\n",
            "['1916']\n"
          ]
        }
      ]
    },
    {
      "cell_type": "code",
      "source": [
        "# найти все пары имен\n",
        "names = \"1NoahEmma2LiamOlivia3MasonSophia4JacobIsabella5WilliamAva6EthanMia7MichaelEmily\"\n",
        "print(re.findall(r'\\d[A-Z][a-z]+[A-Z][a-z]+', names))\n",
        "print(re.findall(r'\\d([A-Z][a-z]+)([A-Z][a-z]+)', names))"
      ],
      "metadata": {
        "id": "WbwVvExq4kJO",
        "colab": {
          "base_uri": "https://localhost:8080/"
        },
        "outputId": "9f6f9ad7-f972-4edb-ed1c-ae205ca5657d"
      },
      "execution_count": null,
      "outputs": [
        {
          "output_type": "stream",
          "name": "stdout",
          "text": [
            "['1NoahEmma', '2LiamOlivia', '3MasonSophia', '4JacobIsabella', '5WilliamAva', '6EthanMia', '7MichaelEmily']\n",
            "[('Noah', 'Emma'), ('Liam', 'Olivia'), ('Mason', 'Sophia'), ('Jacob', 'Isabella'), ('William', 'Ava'), ('Ethan', 'Mia'), ('Michael', 'Emily')]\n"
          ]
        }
      ]
    },
    {
      "cell_type": "code",
      "source": [
        "# найти #я не могу...\n",
        "tweets = \"#я не могу молчать #я не могу кричать #я не могу #я справлюсь я не могу молчать #я не могу жить #я все могу #с кем ни бывает\"\n",
        "print(re.findall(r'#я не могу \\w*', tweets))"
      ],
      "metadata": {
        "id": "J5v6fR5C6MBL",
        "colab": {
          "base_uri": "https://localhost:8080/"
        },
        "outputId": "86e75a8b-d9ed-45c6-acdb-5ab3e44d5c9f"
      },
      "execution_count": null,
      "outputs": [
        {
          "output_type": "stream",
          "name": "stdout",
          "text": [
            "['#я не могу молчать', '#я не могу кричать', '#я не могу ', '#я не могу жить']\n"
          ]
        }
      ]
    },
    {
      "cell_type": "code",
      "source": [
        "# найти даты, написанные в формате дд.мм.гггг через точку\n",
        "data = '20.05.1963, 55, 12.12.2000, 17, 15/15/1111'\n",
        "print(re.findall(r'\\d+.\\d+.\\d+', data)) # . - любой символ\n",
        "print(re.findall(r'\\d+\\.\\d+\\.\\d+', data)) # \\. экранирование (обычная точка, а не любой символ)"
      ],
      "metadata": {
        "id": "Jy3jiSMm6uzW",
        "colab": {
          "base_uri": "https://localhost:8080/"
        },
        "outputId": "1d829700-9b94-4da6-d35c-ec6c220c6e1f"
      },
      "execution_count": null,
      "outputs": [
        {
          "output_type": "stream",
          "name": "stdout",
          "text": [
            "['20.05.1963', '12.12.2000', '15/15/1111']\n",
            "['20.05.1963', '12.12.2000']\n"
          ]
        }
      ]
    },
    {
      "cell_type": "code",
      "source": [
        "import random\n",
        "import re\n",
        "\n",
        "hse_prediction = [\n",
        "    ['Слушайте каждого. Идеи приходят отовсюду.'],\n",
        "    ['Скоро контрольная точка по нелюбимому предмету('],\n",
        "    ['В новом году обещаю себе смотреть не больше трех серий сериала за раз'],\n",
        "    ['Угостите преподавателя конфеткой!'],\n",
        "    ['Хорошие новости придут к вам по  Яндекс почте.'],\n",
        "    ['Что ни делается - все к лучшему, и даже первая пара, ожидающая Вас в обновлённом расписании.'],\n",
        "    ['Делайте то, чего просит душа и тело - не идите на пары!'],\n",
        "    ['Пора собирать чемоданы: Вас ждет экспедиция на Сахалин!'],\n",
        "    ['Пришло время сдать все долги.'],\n",
        "    ['Вы не получите автомат по физре в следующем полугодии.'],\n",
        "    ['В новом году обещаю себе спать'],\n",
        "    ['Если вы ждали знака - то ВОТ ОН! Срочно участвуйте в ближайшей конференции!'],\n",
        "    ['Вам повысят стипендию на 1000 рублей в этом году.'],\n",
        "    ['Ураааааааааааа! Завтра одни только  лекции!'],\n",
        "    ['Все лучшее происходит,когда Вас нет на паре!'],\n",
        "    ['На мобильность только в Питер'],\n",
        "    ['В новом году обещаю себе защитить диссертацию'],\n",
        "    ['В новом году обещаю себе запомнить имена одногруппников'],\n",
        "    ['Через час  Вы снова проголодаетесь. Шоколад можно найти в магазине.']\n",
        "        ]\n",
        "\n",
        "# ваш код здесь\n",
        "cor_prediction = []\n",
        "for i in hse_prediction:\n",
        "  try:\n",
        "    if re.match(r'В новом году', i[0]).group() == 'В новом году': # срез строки, startswith....\n",
        "      pass\n",
        "  except:\n",
        "    cor_prediction.append(i[0])\n",
        "\n",
        "print(cor_prediction)\n",
        "print(random.choice(cor_prediction))\n",
        "# match, search"
      ],
      "metadata": {
        "colab": {
          "base_uri": "https://localhost:8080/"
        },
        "id": "MeaCFwL2AHta",
        "outputId": "16f13b6e-b1b5-4fdc-9039-709a5b69aa76"
      },
      "execution_count": null,
      "outputs": [
        {
          "output_type": "stream",
          "name": "stdout",
          "text": [
            "['Слушайте каждого. Идеи приходят отовсюду.', 'Скоро контрольная точка по нелюбимому предмету(', 'Угостите преподавателя конфеткой!', 'Хорошие новости придут к вам по  Яндекс почте.', 'Что ни делается - все к лучшему, и даже первая пара, ожидающая Вас в обновлённом расписании.', 'Делайте то, чего просит душа и тело - не идите на пары!', 'Пора собирать чемоданы: Вас ждет экспедиция на Сахалин!', 'Пришло время сдать все долги.', 'Вы не получите автомат по физре в следующем полугодии.', 'Если вы ждали знака - то ВОТ ОН! Срочно участвуйте в ближайшей конференции!', 'Вам повысят стипендию на 1000 рублей в этом году.', 'Ураааааааааааа! Завтра одни только  лекции!', 'Все лучшее происходит,когда Вас нет на паре!', 'На мобильность только в Питер', 'Через час  Вы снова проголодаетесь. Шоколад можно найти в магазине.']\n",
            "Ураааааааааааа! Завтра одни только  лекции!\n"
          ]
        }
      ]
    },
    {
      "cell_type": "code",
      "source": [
        "import random\n",
        "import re\n",
        "\n",
        "hse_prediction = [\n",
        "    ['Слушайте каждого. Идеи приходят отовсюду.'],\n",
        "    ['Скоро контрольная точка по нелюбимому предмету('],\n",
        "    ['В новом году обещаю себе смотреть не больше трех серий сериала за раз'],\n",
        "    ['Угостите преподавателя конфеткой!'],\n",
        "    ['Хорошие новости придут к вам по  Яндекс почте.'],\n",
        "    ['Что ни делается - все к лучшему, и даже первая пара, ожидающая Вас в обновлённом расписании.'],\n",
        "    ['Делайте то, чего просит душа и тело - не идите на пары!'],\n",
        "    ['Пора собирать чемоданы: Вас ждет экспедиция на Сахалин!'],\n",
        "    ['Пришло время сдать все долги.'],\n",
        "    ['Вы не получите автомат по физре в следующем полугодии.'],\n",
        "    ['В новом году обещаю себе спать'],\n",
        "    ['Если вы ждали знака - то ВОТ ОН! Срочно участвуйте в ближайшей конференции!'],\n",
        "    ['Вам повысят стипендию на 1000 рублей в новом году.'],\n",
        "    ['Ураааааааааааа! Завтра одни только  лекции!'],\n",
        "    ['Все лучшее происходит,когда Вас нет на паре!'],\n",
        "    ['На мобильность только в Питер'],\n",
        "    ['В новом году обещаю себе защитить диссертацию'],\n",
        "    ['В новом году обещаю себе запомнить имена одногруппников'],\n",
        "    ['Через час  Вы снова проголодаетесь. Шоколад можно найти в магазине.']\n",
        "        ]\n",
        "\n",
        "# ваш код здесь\n",
        "cor_prediction = []\n",
        "for i in hse_prediction:\n",
        "  try:\n",
        "    if re.search(r'[Вв] новом году', i[0]).group() == 'В новом году': # срез строки, startswith....\n",
        "      pass\n",
        "  except:\n",
        "    cor_prediction.append(i[0])\n",
        "\n",
        "print(cor_prediction)\n",
        "print(random.choice(cor_prediction))\n",
        "# match, search\n",
        "print('Вам повысят стипендию на 1000 рублей в новом году.' in cor_prediction)\n",
        "print(['Вам повысят стипендию на 1000 рублей в новом году.'] in hse_prediction)"
      ],
      "metadata": {
        "colab": {
          "base_uri": "https://localhost:8080/"
        },
        "id": "fNmmrSsCCkQ1",
        "outputId": "72f0b4f7-476c-41d6-8f15-c336f3355923"
      },
      "execution_count": null,
      "outputs": [
        {
          "output_type": "stream",
          "name": "stdout",
          "text": [
            "['Слушайте каждого. Идеи приходят отовсюду.', 'Скоро контрольная точка по нелюбимому предмету(', 'Угостите преподавателя конфеткой!', 'Хорошие новости придут к вам по  Яндекс почте.', 'Что ни делается - все к лучшему, и даже первая пара, ожидающая Вас в обновлённом расписании.', 'Делайте то, чего просит душа и тело - не идите на пары!', 'Пора собирать чемоданы: Вас ждет экспедиция на Сахалин!', 'Пришло время сдать все долги.', 'Вы не получите автомат по физре в следующем полугодии.', 'Если вы ждали знака - то ВОТ ОН! Срочно участвуйте в ближайшей конференции!', 'Ураааааааааааа! Завтра одни только  лекции!', 'Все лучшее происходит,когда Вас нет на паре!', 'На мобильность только в Питер', 'Через час  Вы снова проголодаетесь. Шоколад можно найти в магазине.']\n",
            "Слушайте каждого. Идеи приходят отовсюду.\n",
            "False\n",
            "True\n"
          ]
        }
      ]
    },
    {
      "cell_type": "code",
      "source": [
        "import random\n",
        "import re\n",
        "\n",
        "hse_prediction = [\n",
        "    ['Слушайте каждого. Идеи приходят отовсюду.'],\n",
        "    ['Скоро контрольная точка по нелюбимому предмету('],\n",
        "    ['В новом году обещаю себе смотреть не больше трех серий сериала за раз'],\n",
        "    ['Угостите преподавателя конфеткой!'],\n",
        "    ['Хорошие новости придут к вам по  Яндекс почте.'],\n",
        "    ['Что ни делается - все к лучшему, и даже первая пара, ожидающая Вас в обновлённом расписании.'],\n",
        "    ['Делайте то, чего просит душа и тело - не идите на пары!'],\n",
        "    ['Пора собирать чемоданы: Вас ждет экспедиция на Сахалин!'],\n",
        "    ['Пришло время сдать все долги.'],\n",
        "    ['Вы не получите автомат по физре в следующем полугодии.'],\n",
        "    ['В новом году обещаю себе спать'],\n",
        "    ['Если вы ждали знака - то ВОТ ОН! Срочно участвуйте в ближайшей конференции!'],\n",
        "    ['Вам повысят стипендию на 1000 рублей в этом году.'],\n",
        "    ['Ураааааааааааа! Завтра одни только  лекции!'],\n",
        "    ['Все лучшее происходит,когда Вас нет на паре!'],\n",
        "    ['На мобильность только в Питер'],\n",
        "    ['В новом году обещаю себе защитить диссертацию'],\n",
        "    ['В новом году обещаю себе запомнить имена одногруппников'],\n",
        "    ['Через час  Вы снова проголодаетесь. Шоколад можно найти в магазине.'],\n",
        "        ]\n",
        "\n",
        "\n",
        "# разделить поиск и удаление\n",
        "indexes = []\n",
        "for i in hse_prediction:\n",
        "  try:\n",
        "    if re.match(r'В новом году', i[0]).group() == 'В новом году': # срез строки, startswith...\n",
        "      ind = hse_prediction.index(i) # исходный список меняется, меняются индексы\n",
        "      indexes.append(ind)\n",
        "  except:\n",
        "    pass\n",
        "\n",
        "indexes.reverse()\n",
        "\n",
        "for i in indexes:\n",
        "  del hse_prediction[i]\n",
        "print(indexes)\n",
        "\n",
        "print(hse_prediction)\n",
        "print(*random.choice(hse_prediction))\n",
        "\n",
        "#del hse_prediction[17]\n",
        "#del hse_prediction[16] вручную"
      ],
      "metadata": {
        "colab": {
          "base_uri": "https://localhost:8080/"
        },
        "id": "kY_abc_xDKDU",
        "outputId": "e84370b1-b302-4f9a-cfff-e1d374c5a8b7"
      },
      "execution_count": null,
      "outputs": [
        {
          "output_type": "stream",
          "name": "stdout",
          "text": [
            "[17, 16, 10, 2]\n",
            "[['Слушайте каждого. Идеи приходят отовсюду.'], ['Скоро контрольная точка по нелюбимому предмету('], ['Угостите преподавателя конфеткой!'], ['Хорошие новости придут к вам по  Яндекс почте.'], ['Что ни делается - все к лучшему, и даже первая пара, ожидающая Вас в обновлённом расписании.'], ['Делайте то, чего просит душа и тело - не идите на пары!'], ['Пора собирать чемоданы: Вас ждет экспедиция на Сахалин!'], ['Пришло время сдать все долги.'], ['Вы не получите автомат по физре в следующем полугодии.'], ['Если вы ждали знака - то ВОТ ОН! Срочно участвуйте в ближайшей конференции!'], ['Вам повысят стипендию на 1000 рублей в этом году.'], ['Ураааааааааааа! Завтра одни только  лекции!'], ['Все лучшее происходит,когда Вас нет на паре!'], ['На мобильность только в Питер'], ['Через час  Вы снова проголодаетесь. Шоколад можно найти в магазине.']]\n",
            "Пришло время сдать все долги.\n"
          ]
        }
      ]
    },
    {
      "cell_type": "code",
      "source": [
        "import random\n",
        "\n",
        "hse_prediction = [\n",
        "    ['Слушайте каждого. Идеи приходят отовсюду.'],\n",
        "    ['Скоро контрольная точка по нелюбимому предмету('],\n",
        "    ['В новом году обещаю себе смотреть не больше трех серий сериала за раз'],\n",
        "    ['Угостите преподавателя конфеткой!'],\n",
        "    ['Хорошие новости придут к вам по  Яндекс почте.'],\n",
        "    ['Что ни делается - все к лучшему, и даже первая пара, ожидающая Вас в обновлённом расписании.'],\n",
        "    ['Делайте то, чего просит душа и тело - не идите на пары!'],\n",
        "    ['Пора собирать чемоданы: Вас ждет экспедиция на Сахалин!'],\n",
        "    ['Пришло время сдать все долги.'],\n",
        "    ['Вы не получите автомат по физре в следующем полугодии.'],\n",
        "    ['В новом году обещаю себе спать'],\n",
        "    ['Если вы ждали знака - то ВОТ ОН! Срочно участвуйте в ближайшей конференции!'],\n",
        "    ['Вам повысят стипендию на 1000 рублей в этом году.'],\n",
        "    ['Ураааааааааааа! Завтра одни только  лекции!'],\n",
        "    ['Все лучшее происходит,когда Вас нет на паре!'],\n",
        "    ['На мобильность только в Питер'],\n",
        "    ['В новом году обещаю себе защитить диссертацию'],\n",
        "    ['В новом году обещаю себе запомнить имена одногруппников'],\n",
        "    ['Через час  Вы снова проголодаетесь. Шоколад можно найти в магазине.'],\n",
        "        ]\n",
        "\n",
        "hse_prediction.sort()\n",
        "print(hse_prediction)"
      ],
      "metadata": {
        "colab": {
          "base_uri": "https://localhost:8080/"
        },
        "id": "VGR_PUslHmkm",
        "outputId": "ea6d5fdb-1d79-40da-f9a4-6e982c3eacc7"
      },
      "execution_count": null,
      "outputs": [
        {
          "output_type": "stream",
          "name": "stdout",
          "text": [
            "[['В новом году обещаю себе запомнить имена одногруппников'], ['В новом году обещаю себе защитить диссертацию'], ['В новом году обещаю себе смотреть не больше трех серий сериала за раз'], ['В новом году обещаю себе спать'], ['Вам повысят стипендию на 1000 рублей в этом году.'], ['Все лучшее происходит,когда Вас нет на паре!'], ['Вы не получите автомат по физре в следующем полугодии.'], ['Делайте то, чего просит душа и тело - не идите на пары!'], ['Если вы ждали знака - то ВОТ ОН! Срочно участвуйте в ближайшей конференции!'], ['На мобильность только в Питер'], ['Пора собирать чемоданы: Вас ждет экспедиция на Сахалин!'], ['Пришло время сдать все долги.'], ['Скоро контрольная точка по нелюбимому предмету('], ['Слушайте каждого. Идеи приходят отовсюду.'], ['Угостите преподавателя конфеткой!'], ['Ураааааааааааа! Завтра одни только  лекции!'], ['Хорошие новости придут к вам по  Яндекс почте.'], ['Через час  Вы снова проголодаетесь. Шоколад можно найти в магазине.'], ['Что ни делается - все к лучшему, и даже первая пара, ожидающая Вас в обновлённом расписании.']]\n"
          ]
        }
      ]
    },
    {
      "cell_type": "code",
      "source": [
        "hse_prediction = [\n",
        "    ['Слушайте каждого. Идеи приходят отовсюду.'],\n",
        "    ['Скоро контрольная точка по нелюбимому предмету('],\n",
        "    ['В новом году обещаю себе смотреть не больше трех серий сериала за раз'],\n",
        "    ['Угостите преподавателя конфеткой!'],\n",
        "    ['Хорошие новости придут к вам по  Яндекс почте.'],\n",
        "    ['Что ни делается - все к лучшему, и даже первая пара, ожидающая Вас в обновлённом расписании.'],\n",
        "    ['Делайте то, чего просит душа и тело - не идите на пары!'],\n",
        "    ['Пора собирать чемоданы: Вас ждет экспедиция на Сахалин!'],\n",
        "    ['Пришло время сдать все долги.'],\n",
        "    ['Вы не получите автомат по физре в следующем полугодии.'],\n",
        "    ['В новом году обещаю себе спать'],\n",
        "    ['Если вы ждали знака - то ВОТ ОН! Срочно участвуйте в ближайшей конференции!'],\n",
        "    ['Вам повысят стипендию на 1000 рублей в этом году.'],\n",
        "    ['Ураааааааааааа! Завтра одни только  лекции!'],\n",
        "    ['Все лучшее происходит,когда Вас нет на паре!'],\n",
        "    ['На мобильность только в Питер'],\n",
        "    ['В новом году обещаю себе защитить диссертацию'],\n",
        "    ['В новом году обещаю себе запомнить имена одногруппников'],\n",
        "    ['Через час  Вы снова проголодаетесь. Шоколад можно найти в магазине.'],\n",
        "        ]\n",
        "\n",
        "#for i in hse_prediction:\n",
        "  #print(i)\n",
        "  #print(i[0]) - обращаемся к строке\n",
        "\n",
        "print(hse_prediction[0], hse_prediction[1])\n",
        "print(hse_prediction[0][0])\n",
        "print(len(hse_prediction))\n",
        "print(len(hse_prediction[0]))\n",
        "print(['В новом году'] in [['В новом году'], ['обещаю себе запомнить имена одногруппников']])"
      ],
      "metadata": {
        "colab": {
          "base_uri": "https://localhost:8080/"
        },
        "id": "83OaJc9CITpc",
        "outputId": "9e79a0b8-3ce5-4dd9-f1c2-67308aefdcba"
      },
      "execution_count": null,
      "outputs": [
        {
          "output_type": "stream",
          "name": "stdout",
          "text": [
            "['Слушайте каждого. Идеи приходят отовсюду.'] ['Скоро контрольная точка по нелюбимому предмету(']\n",
            "Слушайте каждого. Идеи приходят отовсюду.\n",
            "19\n",
            "1\n",
            "True\n"
          ]
        }
      ]
    },
    {
      "cell_type": "code",
      "source": [
        "print(*random.choice(hse_prediction[3:]))"
      ],
      "metadata": {
        "colab": {
          "base_uri": "https://localhost:8080/"
        },
        "id": "hPJDNyTpHxFs",
        "outputId": "584e9629-9bf9-4427-b689-33045a51ec32"
      },
      "execution_count": null,
      "outputs": [
        {
          "output_type": "stream",
          "name": "stdout",
          "text": [
            "Скоро контрольная точка по нелюбимому предмету(\n"
          ]
        }
      ]
    },
    {
      "cell_type": "code",
      "source": [
        "hse_prediction = [\n",
        "    ['Слушайте каждого. Идеи приходят отовсюду.'],\n",
        "    ['Скоро контрольная точка по нелюбимому предмету('],\n",
        "    ['В новом году обещаю себе смотреть не больше трех серий сериала за раз'],\n",
        "    ['Угостите преподавателя конфеткой!'],\n",
        "    ['Хорошие новости придут к вам по  Яндекс почте.'],\n",
        "    ['Что ни делается - все к лучшему, и даже первая пара, ожидающая Вас в обновлённом расписании.'],\n",
        "    ['Делайте то, чего просит душа и тело - не идите на пары!'],\n",
        "    ['Пора собирать чемоданы: Вас ждет экспедиция на Сахалин!'],\n",
        "    ['Пришло время сдать все долги.'],\n",
        "    ['Вы не получите автомат по физре в следующем полугодии.'],\n",
        "    ['В новом году обещаю себе спать'],\n",
        "    ['Если вы ждали знака - то ВОТ ОН! Срочно участвуйте в ближайшей конференции!'],\n",
        "    ['Вам повысят стипендию на 1000 рублей в этом году.'],\n",
        "    ['Ураааааааааааа! Завтра одни только  лекции!'],\n",
        "    ['Все лучшее происходит,когда Вас нет на паре!'],\n",
        "    ['На мобильность только в Питер'],\n",
        "    ['В новом году обещаю себе защитить диссертацию'],\n",
        "    ['В новом году обещаю себе запомнить имена одногруппников'],\n",
        "    ['Через час  Вы снова проголодаетесь. Шоколад можно найти в магазине.'],\n",
        "        ]\n",
        "\n",
        "for i in range(len(hse_prediction)):\n",
        "  a = hse_prediction[i][0]\n",
        "  hse_prediction[i] = a\n",
        "\n",
        "print(hse_prediction) # список строк\n",
        "hse_prediction"
      ],
      "metadata": {
        "colab": {
          "base_uri": "https://localhost:8080/"
        },
        "id": "-624gfXnJk34",
        "outputId": "fac0cf0c-4746-4362-801e-dd667820c88d"
      },
      "execution_count": null,
      "outputs": [
        {
          "output_type": "stream",
          "name": "stdout",
          "text": [
            "['Слушайте каждого. Идеи приходят отовсюду.', 'Скоро контрольная точка по нелюбимому предмету(', 'В новом году обещаю себе смотреть не больше трех серий сериала за раз', 'Угостите преподавателя конфеткой!', 'Хорошие новости придут к вам по  Яндекс почте.', 'Что ни делается - все к лучшему, и даже первая пара, ожидающая Вас в обновлённом расписании.', 'Делайте то, чего просит душа и тело - не идите на пары!', 'Пора собирать чемоданы: Вас ждет экспедиция на Сахалин!', 'Пришло время сдать все долги.', 'Вы не получите автомат по физре в следующем полугодии.', 'В новом году обещаю себе спать', 'Если вы ждали знака - то ВОТ ОН! Срочно участвуйте в ближайшей конференции!', 'Вам повысят стипендию на 1000 рублей в этом году.', 'Ураааааааааааа! Завтра одни только  лекции!', 'Все лучшее происходит,когда Вас нет на паре!', 'На мобильность только в Питер', 'В новом году обещаю себе защитить диссертацию', 'В новом году обещаю себе запомнить имена одногруппников', 'Через час  Вы снова проголодаетесь. Шоколад можно найти в магазине.']\n"
          ]
        },
        {
          "output_type": "execute_result",
          "data": {
            "text/plain": [
              "['Слушайте каждого. Идеи приходят отовсюду.',\n",
              " 'Скоро контрольная точка по нелюбимому предмету(',\n",
              " 'В новом году обещаю себе смотреть не больше трех серий сериала за раз',\n",
              " 'Угостите преподавателя конфеткой!',\n",
              " 'Хорошие новости придут к вам по  Яндекс почте.',\n",
              " 'Что ни делается - все к лучшему, и даже первая пара, ожидающая Вас в обновлённом расписании.',\n",
              " 'Делайте то, чего просит душа и тело - не идите на пары!',\n",
              " 'Пора собирать чемоданы: Вас ждет экспедиция на Сахалин!',\n",
              " 'Пришло время сдать все долги.',\n",
              " 'Вы не получите автомат по физре в следующем полугодии.',\n",
              " 'В новом году обещаю себе спать',\n",
              " 'Если вы ждали знака - то ВОТ ОН! Срочно участвуйте в ближайшей конференции!',\n",
              " 'Вам повысят стипендию на 1000 рублей в этом году.',\n",
              " 'Ураааааааааааа! Завтра одни только  лекции!',\n",
              " 'Все лучшее происходит,когда Вас нет на паре!',\n",
              " 'На мобильность только в Питер',\n",
              " 'В новом году обещаю себе защитить диссертацию',\n",
              " 'В новом году обещаю себе запомнить имена одногруппников',\n",
              " 'Через час  Вы снова проголодаетесь. Шоколад можно найти в магазине.']"
            ]
          },
          "metadata": {},
          "execution_count": 39
        }
      ]
    },
    {
      "cell_type": "markdown",
      "source": [
        "##.sub(pattern, repl, string)\n",
        "метод ищет шаблон в строке и заменяет его на указанную подстроку.\n",
        "\n",
        "Если шаблон не найден, строка остается неизменной."
      ],
      "metadata": {
        "id": "LtBOMiFRWDuE"
      }
    },
    {
      "cell_type": "code",
      "source": [
        "import re"
      ],
      "metadata": {
        "id": "diU4YkzgLxXE"
      },
      "execution_count": null,
      "outputs": []
    },
    {
      "cell_type": "code",
      "source": [
        "text = 'Hello my dear friend Amy. Amy smiled.'\n",
        "\n",
        "result = re.sub(r'Amy','Jack', text ) # что ищем, на что заменяем, где заменить (текст)\n",
        "\n",
        "print(result)"
      ],
      "metadata": {
        "id": "Bd6-ONbJWDX_",
        "colab": {
          "base_uri": "https://localhost:8080/"
        },
        "outputId": "59609388-99cf-4043-ac83-669bcd0bccc9"
      },
      "execution_count": null,
      "outputs": [
        {
          "output_type": "stream",
          "name": "stdout",
          "text": [
            "Hello my dear friend Jack. Jack smiled.\n"
          ]
        }
      ]
    },
    {
      "cell_type": "code",
      "source": [
        "res2 = re.sub(r\"Amy\", \"Alice\", text)\n",
        "\n",
        "print(res2)"
      ],
      "metadata": {
        "id": "xwhb4T77WMbZ",
        "colab": {
          "base_uri": "https://localhost:8080/"
        },
        "outputId": "8c72ae91-97ab-4cea-de46-5d2dc04bd11c"
      },
      "execution_count": null,
      "outputs": [
        {
          "output_type": "stream",
          "name": "stdout",
          "text": [
            "Hello my dear friend Alice. Alice smiled.\n"
          ]
        }
      ]
    },
    {
      "cell_type": "code",
      "source": [
        "res3 = re.sub(r\"Alice\", \"Jack\", text)\n",
        "\n",
        "print(res3)"
      ],
      "metadata": {
        "colab": {
          "base_uri": "https://localhost:8080/"
        },
        "id": "A35GzXPIL6o8",
        "outputId": "9b2529b5-c814-4cc0-fb74-e7562df214a3"
      },
      "execution_count": null,
      "outputs": [
        {
          "output_type": "stream",
          "name": "stdout",
          "text": [
            "Hello my dear friend Amy. Amy smiled.\n"
          ]
        }
      ]
    },
    {
      "cell_type": "code",
      "source": [
        "text = 'Hello my dear friend Jack. Jackson smiled.'\n",
        "\n",
        "res3 = re.sub(r\"Jack\\b\", \"Bob\", text) # добавяем в паттерн \\b - конец слова\n",
        "\n",
        "print(res3)"
      ],
      "metadata": {
        "colab": {
          "base_uri": "https://localhost:8080/"
        },
        "id": "tgLhvjhPMPiz",
        "outputId": "38fabbff-15a7-4977-9991-59ac3c6c656c"
      },
      "execution_count": null,
      "outputs": [
        {
          "output_type": "stream",
          "name": "stdout",
          "text": [
            "Hello my dear friend Bob. Jackson smiled.\n"
          ]
        }
      ]
    },
    {
      "cell_type": "markdown",
      "source": [
        "# Задания"
      ],
      "metadata": {
        "id": "gAyvm-G6WSfU"
      }
    },
    {
      "cell_type": "markdown",
      "source": [
        "* (re.findall) Напишите регулярное выражение, которое вытаскивало бы все адреса из документа addresses.txt\n",
        "* (re.sub) Из текта в файле \"морж-корж.txt\" возьмите текст и замените все вхождения слова \"морж\" на слово \"корж\""
      ],
      "metadata": {
        "id": "gMi8OoV1WW8j"
      }
    },
    {
      "cell_type": "code",
      "source": [
        "with open(\"addresses.txt\", \"r\", encoding=\"utf-8\") as file: \n",
        "  print(*re.findall(r\"\\w*[@]\\w*[\\.].*\", file.read()), sep=\", \")"
      ],
      "metadata": {
        "id": "UGDs6RfbWcO1",
        "colab": {
          "base_uri": "https://localhost:8080/"
        },
        "outputId": "ee1ab32c-9194-469e-8661-79e9b3a5734b"
      },
      "execution_count": null,
      "outputs": [
        {
          "output_type": "stream",
          "name": "stdout",
          "text": [
            "Contact@nordstrom.com, Breen@HauteLook.com, nordstrom@nordstrom.com, Thomas@nordstrom.com, nordstrom@nordstrom.com, Nordstrom@nordstrom.com\n"
          ]
        }
      ]
    },
    {
      "cell_type": "code",
      "source": [
        "with open(\"морж-корж.txt\", \"r\", encoding = \"utf-8\") as f:\n",
        "    #print(f.read())\n",
        "    r = re.sub(r\"Морж\", \"Корж\", f.read())\n",
        "    e = re.sub(r\"морж\", \"корж\", r)\n",
        "    print(e)"
      ],
      "metadata": {
        "colab": {
          "base_uri": "https://localhost:8080/"
        },
        "id": "UiymqGZEUZRo",
        "outputId": "b3e24624-e371-4be7-8760-b13ca1024bcd"
      },
      "execution_count": null,
      "outputs": [
        {
          "output_type": "stream",
          "name": "stdout",
          "text": [
            "Корж[1] (кильд. mоršа, норв. morššâ, лат. Odobenus rosmarus) — морское млекопитающее, единственный современный вид семейства коржовых клады ластоногих отряда хищных.\n",
            "\n",
            "Взрослый корж легко узнаваем по своим видным бивням. Корж — один из крупнейших представителей ластоногих, по размерам тела среди ластоногих уступает лишь морским слонам[2]. Ареалы этих видов не пересекаются, то есть корж является крупнейшим из ластоногих в своей среде обитания.\n",
            "\n",
            "Зимнее плавание в России называется «коржеванием».\n",
            "\n",
            "В 2008 году, по инициативе Всемирного фонда дикой природы (WWF), утверждён День коржа, который отмечается ежегодно 24 ноября.\n",
            "\n",
            "Корж — крупный морской зверь с очень толстой кожей. Верхние клыки чрезвычайно развиты, удлинённы и направлены вниз. Очень широкая морда усажена многочисленными толстыми, жёсткими, сплющенными щетинами-усами (вибриссами), их у коржа на верхней губе может быть от 400 до 700, расположены они в 13—18 рядов[4]. Наружных ушей нет, глаза маленькие.\n",
            "\n",
            "Кожа покрыта короткими прилегающими жёлто-бурыми волосами, но с возрастом их становится меньше, и у старых коржей кожа почти совершенно голая. Конечности более приспособлены для движения на суше, чем у настоящих тюленей, и коржи могут ходить, а не ползать; подошвы мозолистые. Хвост зачаточный.\n",
            "\n",
            "Кожа коржей очень морщинистая и толстая, до 10 см на шее и плечах самцов. Слой жира — до 15 см. Молодые коржи имеют тёмно-коричневый цвет кожи, а по мере взросления светлеют и бледнеют. Старые самцы становятся почти розовыми. Так как кровеносные сосуды кожи сужаются в холодной воде, коржи могут стать почти белого цвета во время купания. В качестве вторичных половых признаков для самцов (в естественных условиях) характерны наросты на коже шеи, груди и плеч.\n",
            "\n",
            "Наиболее характерной особенностью коржа являются его длинные бивни. Это удлинённые клыки, которые присутствуют у обоих полов и могут достигать в длину 1 м и весить до 5,4 кг. Бивни немного длиннее и толще у самцов, которые используют их для схваток. Самцы с крупнейшими бивнями обычно доминируют в социальной группе. Бивни также используются для формирования и поддержания отверстий во льду и помогают коржам вылезать из воды на лёд. Возможно, бивни также используются, чтобы искать еду на дне.\n",
            "\n",
            "Выделяют два или три подвида коржа[5]:\n",
            "\n",
            "Тихоокеанский корж (Odobenus rosmarus divergens Illiger, 1811),\n",
            "Атлантический корж (Odobenus rosmarus rosmarus Linnaeus, 1758).\n",
            "Часто из тихоокеанского подвида выделяют третий подвид — лаптевского коржа (Odobenus rosmarus laptevi Chapskii, 1940), но его самостоятельность многими подвергается сомнению. В Красную книгу России лаптевская популяция включена на правах отдельного подвида.\n",
            "\n",
            "Согласно данным МСОП[6], по результатам недавних исследований митохондриальной ДНК и изучения морфометрических данных, следует отказаться от рассмотрения лаптевского коржа как самостоятельного подвида, признав его крайней западной популяцией тихоокеанского коржа.\n",
            "\n",
            "По последней оценке, основанной на результатах российско-американского учёта численности, проведённого в 1990 году и повторенного в 2006 году, современная численность популяции тихоокеанского коржа составляет от 129[7] до 200 тыс. особей[8][9].\n",
            "\n",
            "Большая часть тихоокеанских коржей проводит лето севернее Берингова пролива, в Чукотском море вдоль северного побережья восточной Сибири, возле острова Врангеля, в море Бофорта вдоль северного побережья Аляски, а также встречается в водах между указанными местами. Небольшое число самцов встречается в летний период в Анадырском заливе, на южном побережье Чукотского полуострова, а также в Бристольском заливе. Весной и осенью они концентрируются от западного побережья Аляски до Анадырского залива. Они зимуют в южных частях Берингова моря, вдоль восточного побережья Сибири на юг к северной части полуострова Камчатка, а также вдоль южного побережья Аляски[2]. Фоссилизованные останки коржа возрастом 28 тыс. лет были найдены недалеко от залива Сан-Франциско, что показывает распространение коржа вплоть до берегов северной Калифорнии во времена последнего ледникового периода[10].\n",
            "\n",
            "Атлантический корж был почти истреблён в результате бесконтрольного коммерческого промысла, и численность популяции его значительно ниже. Точно оценить численность в настоящее время нелегко, но, вероятно, она не превышает 20 тыс. особей[11][12]. Эта популяция распространена от Арктической Канады, Гренландии, Шпицбергена, а также в западном регионе Российской Арктики. На основании огромного географического распространения и данных по перемещениям, предполагается наличие восьми субпопуляций атлантического коржа — пять на западе и три на востоке от Гренландии[13]. Атлантический корж раньше занимал пределы, протянувшиеся на юг до мыса Код, и в большом числе встречался в заливе Святого Лаврентия. В апреле 2006 северо-западная популяция атлантического коржа была внесена в список Канадского акта по угрожаемым видам (англ. Canadian Species at Risk Act) (Квебек, Нью-Брансуик, Новая Шотландия, Ньюфаундленд и Лабрадор) как почти исчезнувшая в Канаде[14]. В ноябре 2018 года атлантические коржи были замечены в Белом море, где они не появлялись несколько столетий[15].\n",
            "\n",
            "Изолированная лаптевская популяция коржа расположена в течение всего года в центральном и западном регионах Моря Лаптевых, в самом восточном регионе Карского моря, а также в самой западной части Восточно-Сибирского моря. Современная численность оценивается в 5—10 тыс. особей[16].\n",
            "\n"
          ]
        }
      ]
    }
  ]
}