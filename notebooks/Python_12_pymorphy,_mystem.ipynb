{
  "nbformat": 4,
  "nbformat_minor": 0,
  "metadata": {
    "colab": {
      "provenance": [],
      "authorship_tag": "ABX9TyO89drQolU1o3VbrcSkX2f5",
      "include_colab_link": true
    },
    "kernelspec": {
      "name": "python3",
      "display_name": "Python 3"
    },
    "language_info": {
      "name": "python"
    }
  },
  "cells": [
    {
      "cell_type": "markdown",
      "metadata": {
        "id": "view-in-github",
        "colab_type": "text"
      },
      "source": [
        "<a href=\"https://colab.research.google.com/github/AnnSenina/Python_for_CL/blob/main/notebooks/Python_12_pymorphy%2C_mystem.ipynb\" target=\"_parent\"><img src=\"https://colab.research.google.com/assets/colab-badge.svg\" alt=\"Open In Colab\"/></a>"
      ]
    },
    {
      "cell_type": "markdown",
      "source": [
        "# Лемматизация, морф.анализ"
      ],
      "metadata": {
        "id": "zkU-qYW1fIif"
      }
    },
    {
      "cell_type": "markdown",
      "source": [
        "Для русского основых лемматизатора два: Pymorphy и Mystem."
      ],
      "metadata": {
        "id": "FgQl8UrFi42Z"
      }
    },
    {
      "cell_type": "markdown",
      "source": [
        "##PyMorphy2\n",
        "\n",
        "Не самый лучший в смысле точности, но очень популярный и простой инструмент для лемматизации"
      ],
      "metadata": {
        "id": "AnSyiricjK2q"
      }
    },
    {
      "cell_type": "code",
      "source": [
        "!pip install pymorphy2"
      ],
      "metadata": {
        "id": "FKfugkd7jKo3"
      },
      "execution_count": null,
      "outputs": []
    },
    {
      "cell_type": "code",
      "source": [
        "from pymorphy2 import MorphAnalyzer\n",
        "morph = MorphAnalyzer()"
      ],
      "metadata": {
        "id": "Bgp0f43Uj_0f"
      },
      "execution_count": 2,
      "outputs": []
    },
    {
      "cell_type": "markdown",
      "source": [
        "### основная функция - pymorphy.parse\n",
        "     \n",
        "Она похожа на analyze в mystem, возвращает список объектов Parse\n",
        "\n",
        "Первый в списке - самый вероятный разбор (у каждого есть score)\n",
        "\n",
        "Грамматическая информация хранится в объекте OpencorporaTag и из него удобно доставать"
      ],
      "metadata": {
        "id": "KM_gsv_UoFTD"
      }
    },
    {
      "cell_type": "code",
      "source": [
        "morph.parse('человек')"
      ],
      "metadata": {
        "id": "pZCMXQ_FkCTW"
      },
      "execution_count": null,
      "outputs": []
    },
    {
      "cell_type": "markdown",
      "source": [
        "Документация [здесь](https://pymorphy2.readthedocs.io/en/stable/user/guide.html#id3), обозначения для граммем [здесь](https://pymorphy2.readthedocs.io/en/stable/user/grammemes.html#grammeme-docs)"
      ],
      "metadata": {
        "id": "wamXCo5DkcBW"
      }
    },
    {
      "cell_type": "code",
      "source": [
        "# сделаем красиво\n",
        "print('Cлово - ', morph.parse('человеком')[0].word)\n",
        "print('Лемма слова - ', morph.parse('человеком')[0].normal_form)\n",
        "print('Грамматическая информация слова - ', morph.parse('человеком')[0].tag)\n",
        "print('Часть речи слова - ', morph.parse('человеком')[0].tag.POS)\n",
        "print('Род слова - ', morph.parse('человеком')[0].tag.gender)\n",
        "print('Число слова - ', morph.parse('человеком')[0].tag.number)\n",
        "print('Падеж слова - ', morph.parse('человеком')[0].tag.case)"
      ],
      "metadata": {
        "id": "NEuYI00MpGZg"
      },
      "execution_count": null,
      "outputs": []
    },
    {
      "cell_type": "code",
      "source": [
        "# для лемматизации нужна именно эта команда\n",
        "morph.parse('человеком')[0].normal_form"
      ],
      "metadata": {
        "id": "ynZpWFdAkbdV"
      },
      "execution_count": null,
      "outputs": []
    },
    {
      "cell_type": "markdown",
      "source": [
        "Давайте снова возьмем Сэлинджера..."
      ],
      "metadata": {
        "id": "REuAGiOqiJuR"
      }
    },
    {
      "cell_type": "markdown",
      "source": [
        "Увы! pymorphy не умеет токенизировать, поэтому..."
      ],
      "metadata": {
        "id": "zGbDbO1QmaUC"
      }
    },
    {
      "cell_type": "code",
      "source": [
        "# все то, что надо импортировать из NLTK\n",
        "#!pip install nltk\n",
        "\n",
        "import nltk\n",
        "from nltk.tokenize import word_tokenize, wordpunct_tokenize\n",
        "from nltk import download\n",
        "download('punkt')\n",
        "download('stopwords')\n",
        "from nltk.corpus import stopwords\n",
        "stop_words = stopwords.words('russian') "
      ],
      "metadata": {
        "id": "NQb9kDJEmizC"
      },
      "execution_count": null,
      "outputs": []
    },
    {
      "cell_type": "code",
      "source": [
        "# собрала препроцессинг в 1 функцию - пока только до стемминга\n",
        "def clean_text(text_str):\n",
        "  text_str = text_str.lower() # нижний регистр\n",
        "  text_list_nltk = word_tokenize(text_str) # токенизация\n",
        "  stop_words = stopwords.words('russian') \n",
        "  text_without_punkt = [word for word in text_list_nltk if word[0].isalpha()] # удалить пунктуацию из списка токенов\n",
        "  text_clean = [word for word in text_without_punkt if word not in stop_words] # чистим от стоп-слов\n",
        "  return text_clean\n",
        "\n",
        "with open('bananafish.txt', 'r', encoding='utf-8') as file:\n",
        "  bananafish = file.read()\n",
        "bananafish = bananafish.replace('\\ufeff', '')\n",
        "bananafish = bananafish.replace('\\xa0', ' ')\n",
        "bananafish_tokens = clean_text(bananafish)\n",
        "bananafish_tokens"
      ],
      "metadata": {
        "id": "PGjw9On5mTNu"
      },
      "execution_count": null,
      "outputs": []
    },
    {
      "cell_type": "code",
      "source": [
        "words_lemmatized = []\n",
        "for word in bananafish_tokens:\n",
        "    result = morph.parse(word)\n",
        "    most_probable_result = result[0] ## почему мы берем первый разбор? см.в этом месте: https://pymorphy2.readthedocs.io/en/latest/user/guide.html#select-correct\n",
        "    normal_form = most_probable_result.normal_form\n",
        "    words_lemmatized.append(normal_form)\n",
        "\n",
        "words_lemmatized\n",
        "# print(words_lemmatized)"
      ],
      "metadata": {
        "id": "1E7_0lkNmTKI"
      },
      "execution_count": null,
      "outputs": []
    },
    {
      "cell_type": "code",
      "source": [
        "from collections import Counter\n",
        "\n",
        "Counter(words_lemmatized).most_common(10)\n",
        "#print(Counter(words_lemmatized).most_common(10))"
      ],
      "metadata": {
        "id": "Pw2iCYe_qW-C"
      },
      "execution_count": null,
      "outputs": []
    },
    {
      "cell_type": "code",
      "source": [
        "import nltk\n",
        "\n",
        "freq_bigramms = Counter(nltk.bigrams(words_lemmatized))\n",
        "freq_bigramms.most_common(10)\n",
        "#print(Counter(words_lemmatized).most_common(10))\n",
        "\n",
        "# что-то пошло не так?"
      ],
      "metadata": {
        "id": "b1mL5YY9mTHf"
      },
      "execution_count": null,
      "outputs": []
    },
    {
      "cell_type": "markdown",
      "source": [
        "#Более умный лемматизатор MyStem"
      ],
      "metadata": {
        "id": "x8EP6EpwrJga"
      }
    },
    {
      "cell_type": "markdown",
      "source": [
        "Сравнительная точность pymorphy и mystem для русского языка [здесь](http://web-corpora.net/wsgi/mystemplus.wsgi/mystemplus/compare_table/)\n"
      ],
      "metadata": {
        "id": "ZEOdXo04rQ12"
      }
    },
    {
      "cell_type": "code",
      "source": [
        "!pip install pymystem3"
      ],
      "metadata": {
        "id": "cubFjRCARmhj"
      },
      "execution_count": null,
      "outputs": []
    },
    {
      "cell_type": "markdown",
      "source": [
        "Только для Colab!"
      ],
      "metadata": {
        "id": "koUTVi9HRCIh"
      }
    },
    {
      "cell_type": "code",
      "source": [
        "!pip install pymystem3==0.1.10"
      ],
      "metadata": {
        "id": "VqxNHm6NmTEz"
      },
      "execution_count": null,
      "outputs": []
    },
    {
      "cell_type": "code",
      "source": [
        "!wget http://download.cdn.yandex.net/mystem/mystem-3.0-linux3.1-64bit.tar.gz\n",
        "!tar -xvf mystem-3.0-linux3.1-64bit.tar.gz\n",
        "!cp mystem /root/.local/bin/mystem"
      ],
      "metadata": {
        "id": "24-d-IJ-mTBo"
      },
      "execution_count": null,
      "outputs": []
    },
    {
      "cell_type": "markdown",
      "source": [
        "Дальше уже для всех!"
      ],
      "metadata": {
        "id": "d9sexdSJT8f7"
      }
    },
    {
      "cell_type": "code",
      "source": [
        "from pymystem3 import Mystem\n",
        "mystem = Mystem()"
      ],
      "metadata": {
        "id": "Ia7eFtB2T2Mr"
      },
      "execution_count": 4,
      "outputs": []
    },
    {
      "cell_type": "code",
      "source": [
        "mystem = Mystem()"
      ],
      "metadata": {
        "id": "_TW20TxLREc7"
      },
      "execution_count": null,
      "outputs": []
    },
    {
      "cell_type": "code",
      "source": [
        "mystem.lemmatize('mystem даже сам умеет токенизировать текст')"
      ],
      "metadata": {
        "id": "q-3BA2pYR4xs"
      },
      "execution_count": null,
      "outputs": []
    },
    {
      "cell_type": "code",
      "source": [
        "words_lemmatized_mystem = mystem.lemmatize(' '.join(bananafish_tokens))\n",
        "words_lemmatized_mystem\n",
        "#print(words_lemmatized_mystem)"
      ],
      "metadata": {
        "id": "81ocRK_Li4Us"
      },
      "execution_count": null,
      "outputs": []
    },
    {
      "cell_type": "code",
      "source": [
        "print(''.join(words_lemmatized_mystem))"
      ],
      "metadata": {
        "id": "mNURpcOEVOBR"
      },
      "execution_count": null,
      "outputs": []
    },
    {
      "cell_type": "code",
      "source": [
        "from collections import Counter\n",
        "\n",
        "Counter(words_lemmatized_mystem).most_common(10)\n",
        "#print(Counter(words_lemmatized_mystem).most_common(10))"
      ],
      "metadata": {
        "id": "7aHw06NKViEm"
      },
      "execution_count": null,
      "outputs": []
    },
    {
      "cell_type": "markdown",
      "source": [
        "### морф. анализ в MyStem"
      ],
      "metadata": {
        "id": "GIhezJeRV7Hc"
      }
    },
    {
      "cell_type": "code",
      "source": [
        "sometext = \"Задача NLI важна для компьютерных лингвистов\"\n",
        "analyzed = mystem.analyze(sometext) \n",
        "print(analyzed) "
      ],
      "metadata": {
        "id": "Njf3K2AmV-9t"
      },
      "execution_count": null,
      "outputs": []
    },
    {
      "cell_type": "code",
      "source": [
        "# возвращает список словарей\n",
        "# каждый словарь имеет либо одно поле 'text' (когда попался пробел) или text и analysis\n",
        "# в analysis снова список словарей с вариантами разбора (первый самый вероятный)\n",
        "# поля в analysis - 'gr' - грамматическая информация, 'lex' - лемма\n",
        "# analysis - может быть пустым списком\n",
        "print('Слово - ', analyzed[0]['text'])\n",
        "print('Разбор слова - ', analyzed[0]['analysis'][0])\n",
        "print('Лемма слова - ', analyzed[0]['analysis'][0]['lex'])\n",
        "print('Грамматическая информация слова - ', analyzed[0]['analysis'][0]['gr'])"
      ],
      "metadata": {
        "id": "E_yHl1NMWsFd"
      },
      "execution_count": null,
      "outputs": []
    },
    {
      "cell_type": "markdown",
      "source": [
        "Попробуйте сами придумать предложение с омонимами и сравнить морф.анализ через pymorphy и mystem"
      ],
      "metadata": {
        "id": "iW0EfWL7dVk_"
      }
    },
    {
      "cell_type": "code",
      "source": [],
      "metadata": {
        "id": "EDDZVoUFdUdm"
      },
      "execution_count": null,
      "outputs": []
    },
    {
      "cell_type": "code",
      "source": [],
      "metadata": {
        "id": "92EOfS3XdhFM"
      },
      "execution_count": null,
      "outputs": []
    },
    {
      "cell_type": "markdown",
      "source": [
        "Сравните лемматтизацию - лемматизируйте предложение с морф. неоднозначностью"
      ],
      "metadata": {
        "id": "Ptq_y3HUdhd6"
      }
    },
    {
      "cell_type": "code",
      "source": [],
      "metadata": {
        "id": "7uKXKesPd8SQ"
      },
      "execution_count": null,
      "outputs": []
    },
    {
      "cell_type": "code",
      "source": [],
      "metadata": {
        "id": "ZsIcKMdKd8eT"
      },
      "execution_count": null,
      "outputs": []
    },
    {
      "cell_type": "markdown",
      "source": [
        "### Доп. задание\n",
        "\n",
        "Попробуйте написать новую функцию, которая принимает на вход текст как строку и возвращает список лемматизированных слов"
      ],
      "metadata": {
        "id": "igBWNSWagUhG"
      }
    },
    {
      "cell_type": "code",
      "source": [
        "# ваша функция\n"
      ],
      "metadata": {
        "id": "qWBJ7U1wgUJd"
      },
      "execution_count": null,
      "outputs": []
    },
    {
      "cell_type": "markdown",
      "source": [
        "Существуют и другие библиотеки для лемматизации\n",
        "\n",
        "русский язык:\n",
        "\n",
        "- [RNNmorph](https://github.com/IlyaGusev/rnnmorph)\n",
        "- [deeppavlov](http://docs.deeppavlov.ai/en/master/)\n",
        "\n",
        "другие языки:\n",
        "- [UralicNLP](https://github.com/mikahama/uralicNLP)\n",
        "- [hfst от Apertium](https://wiki.apertium.org/wiki/Hfst)\n",
        "- [Stanza](https://stanfordnlp.github.io/stanza/)\n",
        "- [SpaCy](https://spacy.io/usage/linguistic-features#morphology)\n",
        "- [Trankit](https://trankit.readthedocs.io/en/latest/posdep.html)"
      ],
      "metadata": {
        "id": "-EkDinB6d9HH"
      }
    }
  ]
}