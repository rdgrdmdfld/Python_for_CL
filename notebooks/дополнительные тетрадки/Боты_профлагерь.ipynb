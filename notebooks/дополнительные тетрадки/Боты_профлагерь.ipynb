{
  "nbformat": 4,
  "nbformat_minor": 0,
  "metadata": {
    "colab": {
      "provenance": [],
      "include_colab_link": true
    },
    "kernelspec": {
      "name": "python3",
      "display_name": "Python 3"
    },
    "language_info": {
      "name": "python"
    }
  },
  "cells": [
    {
      "cell_type": "markdown",
      "metadata": {
        "id": "view-in-github",
        "colab_type": "text"
      },
      "source": [
        "<a href=\"https://colab.research.google.com/github/AnnSenina/Python_for_CL/blob/main/notebooks/%D0%B4%D0%BE%D0%BF%D0%BE%D0%BB%D0%BD%D0%B8%D1%82%D0%B5%D0%BB%D1%8C%D0%BD%D1%8B%D0%B5%20%D1%82%D0%B5%D1%82%D1%80%D0%B0%D0%B4%D0%BA%D0%B8/%D0%91%D0%BE%D1%82%D1%8B_%D0%BF%D1%80%D0%BE%D1%84%D0%BB%D0%B0%D0%B3%D0%B5%D1%80%D1%8C.ipynb\" target=\"_parent\"><img src=\"https://colab.research.google.com/assets/colab-badge.svg\" alt=\"Open In Colab\"/></a>"
      ]
    },
    {
      "cell_type": "markdown",
      "source": [
        "# Чат-боты\n",
        "\n",
        "Для настроения, сначала смотрим [ролик](https://www.youtube.com/watch?v=M1sQmZrDBz4) (Из сериала \"Детство Шелдона\", один из первых чат-ботов Eliza)\n",
        "\n",
        "А вот [забавная имитация](https://web.njit.edu/~ronkowit/eliza.html) Элизы"
      ],
      "metadata": {
        "id": "DFb4Bi3cMZcG"
      }
    },
    {
      "cell_type": "markdown",
      "source": [
        "## Установим библиотеки\n",
        "\n",
        "Просто запустите команды ниже"
      ],
      "metadata": {
        "id": "uTNXlsUjSWXG"
      }
    },
    {
      "cell_type": "code",
      "source": [
        "pip install pytelegrambotapi"
      ],
      "metadata": {
        "id": "oLDarhv4zTC9"
      },
      "execution_count": null,
      "outputs": []
    },
    {
      "cell_type": "code",
      "source": [
        "import telebot"
      ],
      "metadata": {
        "id": "lu0qni_aL-Gz"
      },
      "execution_count": null,
      "outputs": []
    },
    {
      "cell_type": "markdown",
      "source": [
        "Создайте бота в телеграме с помощью @BotFather https://t.me/BotFather\n",
        "\n",
        "Получите у него токен"
      ],
      "metadata": {
        "id": "0K7FQ2jJSkPt"
      }
    },
    {
      "cell_type": "code",
      "source": [
        "#@title Вставьте токен бота сюда и нажмите слева запуск\n",
        "your_bot = \"\" #@param {type:\"string\"}\n",
        "print('Ваш бот запущен, проверьте в tg')"
      ],
      "metadata": {
        "id": "kxBnmAe4lB8B",
        "colab": {
          "base_uri": "https://localhost:8080/"
        },
        "outputId": "f35b6d87-be64-4c77-eebc-19e23a264ece",
        "cellView": "form"
      },
      "execution_count": null,
      "outputs": [
        {
          "output_type": "stream",
          "name": "stdout",
          "text": [
            "Ваш бот запущен, проверьте в tg\n"
          ]
        }
      ]
    },
    {
      "cell_type": "code",
      "source": [
        "bot = telebot.TeleBot(your_bot)"
      ],
      "metadata": {
        "id": "Mw9mlWGMSjXn"
      },
      "execution_count": null,
      "outputs": []
    },
    {
      "cell_type": "code",
      "source": [
        "@bot.message_handler(commands=[\"start\"])\n",
        "def start(message, res=False):\n",
        "  bot.send_message(message.chat.id, 'Добрый день! Это пробный бот занятия. Давайте посмотрим, как это работает :)')"
      ],
      "metadata": {
        "id": "dTmJ0cR9VGV-"
      },
      "execution_count": null,
      "outputs": []
    },
    {
      "cell_type": "code",
      "source": [
        "# Запускаем бота\n",
        "bot.polling(none_stop=True, interval=0)"
      ],
      "metadata": {
        "id": "oksejD3Jo1I_"
      },
      "execution_count": null,
      "outputs": []
    },
    {
      "cell_type": "markdown",
      "source": [
        "## Что умеет бот?"
      ],
      "metadata": {
        "id": "gVq5Pq3qS4A6"
      }
    },
    {
      "cell_type": "markdown",
      "source": [
        "Например, пусть бот кратко рассказывает о сегодняшней встрече"
      ],
      "metadata": {
        "id": "0-sLEkBnS7FL"
      }
    },
    {
      "cell_type": "code",
      "source": [
        "text1 = 'Продумайте сценарий бота: лучше нарисуйте схему его работы - это поможет' \n",
        "text2 = 'Если требуется реализовать что-то более сложное: скорее зовите преподавателя, подумаем вместе'\n",
        "text3 = 'Бот должен уметь общаться с пользователем: всегда думайте о пользователе'\n",
        "text4 = 'В любой исторической теме можно найти интересный сюжет!'\n",
        "text5 = 'После завершения пары проведем мини-презентацию работ: потестируем ваших ботов!'\n",
        "text6 = '(∩｀-´)⊃━☆ﾟ.*･｡ﾟ'\n",
        "text7 = 'Я не понимаю тебя, напиши слово: Помощь'"
      ],
      "metadata": {
        "id": "AA7iE2CBS3xS"
      },
      "execution_count": null,
      "outputs": []
    },
    {
      "cell_type": "code",
      "source": [
        "# Обновите доступ через токен\n",
        "bot = telebot.TeleBot(your_bot)"
      ],
      "metadata": {
        "id": "47CB6lO50lKQ"
      },
      "execution_count": null,
      "outputs": []
    },
    {
      "cell_type": "code",
      "source": [
        "@bot.message_handler(commands=[\"start\"])\n",
        "def start(message, res=False):\n",
        "  bot.send_message(message.chat.id, 'Добрый день! Это пробный бот занятия. Давайте посмотрим, как это работает :) \\nНапиши: Помощь')\n",
        "\n",
        "@bot.message_handler(content_types=[\"text\"])\n",
        "def handle_text(message):\n",
        "  if message.text.strip() == 'Помощь':\n",
        "    bot.send_message(message.chat.id, text1)\n",
        "    bot.send_message(message.chat.id, text2)\n",
        "    bot.send_message(message.chat.id, text3)\n",
        "    bot.send_message(message.chat.id, text4)\n",
        "    bot.send_message(message.chat.id, text5)\n",
        "    bot.send_message(message.chat.id, text6)\n",
        "  else:\n",
        "    bot.send_message(message.chat.id, text7)"
      ],
      "metadata": {
        "id": "1FiFaPynU87i"
      },
      "execution_count": null,
      "outputs": []
    },
    {
      "cell_type": "code",
      "source": [
        "# Запускаем бота\n",
        "bot.polling(none_stop=True, interval=0)"
      ],
      "metadata": {
        "id": "jJwNhUrkycze"
      },
      "execution_count": null,
      "outputs": []
    },
    {
      "cell_type": "markdown",
      "source": [
        "## Импровизируем!"
      ],
      "metadata": {
        "id": "ENDc2nCHymeG"
      }
    },
    {
      "cell_type": "code",
      "source": [
        "# Для примера я использую картинку, ее можно скачать здесь: https://github.com/AnnSenina/Other/blob/main/when-should-i-start-to-worry-south-park.gif\n",
        "# Добавьте ее в среду слева\n",
        "# А можно добавить лого бота, обратившись к @BotFather\n",
        "# Мое лого такое: https://github.com/AnnSenina/Other/blob/main/Python%20for%20the%20Humanities%20Data%20and%20Stories%20(2).jpg"
      ],
      "metadata": {
        "id": "V7mQny2Z0_5w"
      },
      "execution_count": null,
      "outputs": []
    },
    {
      "cell_type": "code",
      "source": [
        "# Обновите доступ через токен\n",
        "bot = telebot.TeleBot(your_bot)\n",
        "\n",
        "@bot.message_handler(commands=[\"start\"])\n",
        "def start(message):\n",
        "  markup=types.ReplyKeyboardMarkup(resize_keyboard=True)\n",
        "  item1=types.KeyboardButton(\"Помощь\")\n",
        "  item2=types.KeyboardButton(\"Когда нужно начинать переживать?\")\n",
        "  item3=types.KeyboardButton(\"Тестик\")\n",
        "  item4=types.KeyboardButton(\"Боты\")\n",
        "  item5=types.KeyboardButton(\"Игры\")\n",
        "  markup.row(item1)\n",
        "  markup.row(item3, item4, item5)\n",
        "  markup.row(item2)\n",
        "  bot.send_message(message.chat.id, 'Добрый день! Это пробный бот занятия. Давайте посмотрим, как это работает :)', reply_markup=markup)\n",
        "\n",
        "@bot.message_handler(content_types=[\"text\"])\n",
        "def handle_text(message):\n",
        "  if message.text.strip() == 'Помощь':\n",
        "    bot.send_message(message.chat.id, 'Напечатай это')\n",
        "    bot.send_message(message.chat.id, text2)\n",
        "    bot.send_message(message.chat.id, text3)\n",
        "    bot.send_message(message.chat.id, text4)\n",
        "    bot.send_message(message.chat.id, text5)\n",
        "    bot.send_message(message.chat.id, text6)\n",
        "  elif message.text.strip() == 'Когда нужно начинать переживать?':\n",
        "    img = open('when-should-i-start-to-worry-south-park.gif', 'rb')\n",
        "    bot.send_animation(message.chat.id, img)\n",
        "    answer = 'Не нужно переживать! Вот статистика сдачи Python историками 1 курса в прошлом году: \\nhttps://datastudio.google.com/reporting/62fc58aa-6cb0-4bb3-986b-5c6bd4bcf006 \\nМы тоже справимся'\n",
        "    bot.send_message(message.chat.id, answer)\n",
        "  elif message.text.strip() == 'Тестик':\n",
        "    answer = 'Мой любимый тестик по истории тут: https://arzamas.academy/materials/835\\nОн очень вдохновляет! 😏'\n",
        "    bot.send_message(message.chat.id, answer)\n",
        "  elif message.text.strip() == 'Боты':\n",
        "    answer = 'Вот так выглядит python-реализация нашего бота: \\nhttps://bit.ly/botHSE'\n",
        "    bot.send_message(message.chat.id, answer)\n",
        "  elif message.text.strip() == 'Игры':\n",
        "    answer1 = 'Общие идеи по созданию своей игры - в тетрадке: \\nhttps://colab.research.google.com/drive/1bIfMrzV4-3yJO9MDLQu4jDIFIWH278ZE?usp=sharing\\nНо сегодня мы занимаемся ботами ^^.'\n",
        "    answer2 = 'Вот здесь я рассказываю об играх, которые программируют историки в Вышке: https://perm.hse.ru/news/695281687.html'\n",
        "    answer3 = 'А вот ссылка на файлы: https://bit.ly/gamesHSE \\nВы можете попробовать запустить игры дома, но для этого нужно сначала скачать и установить на компьютер RenPy: https://www.renpy.org/'\n",
        "    answer4 = 'Чтобы игра запустилась, скачайте, распакуйте папку с игрой, затем в RenPy зайдите в настройки и укажите путь до папки с игрой на вашем компьютере'\n",
        "    answer5 = 'А если не запустилось, но очень хочется, напишите мне в телеграм: @avsenina'\n",
        "    bot.send_message(message.chat.id, answer1)\n",
        "    bot.send_message(message.chat.id, answer2)\n",
        "    bot.send_message(message.chat.id, answer3)\n",
        "    bot.send_message(message.chat.id, answer4)\n",
        "    bot.send_message(message.chat.id, answer5)\n",
        "  else:\n",
        "    bot.send_message(message.chat.id, \"Если ничего не получилось....\")\n",
        "\n",
        "# Запускаем бота\n",
        "bot.polling(none_stop=True, interval=0)"
      ],
      "metadata": {
        "id": "nKktZENOfJDc"
      },
      "execution_count": null,
      "outputs": []
    },
    {
      "cell_type": "code",
      "source": [
        "# Обновите доступ через токен\n",
        "bot = telebot.TeleBot(your_bot)\n",
        "\n",
        "@bot.message_handler(commands=[\"start\"])\n",
        "def start(message):\n",
        "  markup=types.ReplyKeyboardMarkup(resize_keyboard=True)\n",
        "  item1=types.KeyboardButton(\"Помощь\")\n",
        "  item2=types.KeyboardButton(\"Когда нужно начинать переживать?\")\n",
        "  markup.row(item1)\n",
        "  markup.row(item2)\n",
        "  bot.send_message(message.chat.id, 'Добрый день! Это пробный бот занятия. Давайте посмотрим, как это работает :)', reply_markup=markup)\n",
        "\n",
        "@bot.message_handler(content_types=[\"text\"])\n",
        "def handle_text(message):\n",
        "  if message.text.strip() == 'Помощь':\n",
        "    bot.send_message(message.chat.id, 'Напечатай это')\n",
        "    bot.send_message(message.chat.id, text2)\n",
        "    bot.send_message(message.chat.id, text3)\n",
        "    bot.send_message(message.chat.id, text4)\n",
        "    bot.send_message(message.chat.id, text5)\n",
        "    bot.send_message(message.chat.id, text6)\n",
        "  elif message.text.strip() == 'Когда нужно начинать переживать?':\n",
        "    img = open('when-should-i-start-to-worry-south-park.gif', 'rb')\n",
        "    bot.send_animation(message.chat.id, img)\n",
        "    answer = 'Не нужно переживать! Вот статистика сдачи Python историками 1 курса в прошлом году: \\nhttps://datastudio.google.com/reporting/62fc58aa-6cb0-4bb3-986b-5c6bd4bcf006 \\nМы тоже справимся'\n",
        "    bot.send_message(message.chat.id, answer)\n",
        "  elif message.text.strip() == 'Тестик':\n",
        "    answer = 'Мой любимый тестик по истории тут: https://arzamas.academy/materials/835\\nОн очень вдохновляет! 😏'\n",
        "    bot.send_message(message.chat.id, answer)\n",
        "  elif message.text.strip() == 'Боты':\n",
        "    answer = 'Вот так выглядит python-реализация нашего бота: \\nhttps://bit.ly/botHSE'\n",
        "    bot.send_message(message.chat.id, answer)\n",
        "  elif message.text.strip() == 'Игры':\n",
        "    answer1 = 'Общие идеи по созданию своей игры - в тетрадке: \\nhttps://colab.research.google.com/drive/1bIfMrzV4-3yJO9MDLQu4jDIFIWH278ZE?usp=sharing\\nНо сегодня мы занимаемся ботами ^^.'\n",
        "    answer2 = 'Вот здесь я рассказываю об играх, которые программируют историки в Вышке: https://perm.hse.ru/news/695281687.html'\n",
        "    answer3 = 'А вот ссылка на файлы: https://bit.ly/gamesHSE \\nВы можете попробовать запустить игры дома, но для этого нужно сначала скачать и установить на компьютер RenPy: https://www.renpy.org/'\n",
        "    answer4 = 'Чтобы игра запустилась, скачайте, распакуйте папку с игрой, затем в RenPy зайдите в настройки и укажите путь до папки с игрой на вашем компьютере'\n",
        "    answer5 = 'А если не запустилось, но очень хочется, напишите мне в телеграм: @avsenina'\n",
        "    bot.send_message(message.chat.id, answer1)\n",
        "    bot.send_message(message.chat.id, answer2)\n",
        "    bot.send_message(message.chat.id, answer3)\n",
        "    bot.send_message(message.chat.id, answer4)\n",
        "    bot.send_message(message.chat.id, answer5)\n",
        "  else:\n",
        "    bot.send_message(message.chat.id, \"Бот не знает, что нужно ответить\")\n",
        "\n",
        "# Запускаем бота\n",
        "bot.polling(none_stop=True, interval=0)"
      ],
      "metadata": {
        "id": "8tJhh-mectV9"
      },
      "execution_count": null,
      "outputs": []
    }
  ]
}