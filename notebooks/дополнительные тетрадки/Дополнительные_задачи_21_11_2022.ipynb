{
  "nbformat": 4,
  "nbformat_minor": 0,
  "metadata": {
    "colab": {
      "provenance": [],
      "authorship_tag": "ABX9TyOX3T4P54eVCtwS6hfvLThc",
      "include_colab_link": true
    },
    "kernelspec": {
      "name": "python3",
      "display_name": "Python 3"
    },
    "language_info": {
      "name": "python"
    }
  },
  "cells": [
    {
      "cell_type": "markdown",
      "metadata": {
        "id": "view-in-github",
        "colab_type": "text"
      },
      "source": [
        "<a href=\"https://colab.research.google.com/github/AnnSenina/Python_for_CL/blob/main/notebooks/%D0%B4%D0%BE%D0%BF%D0%BE%D0%BB%D0%BD%D0%B8%D1%82%D0%B5%D0%BB%D1%8C%D0%BD%D1%8B%D0%B5%20%D1%82%D0%B5%D1%82%D1%80%D0%B0%D0%B4%D0%BA%D0%B8/%D0%94%D0%BE%D0%BF%D0%BE%D0%BB%D0%BD%D0%B8%D1%82%D0%B5%D0%BB%D1%8C%D0%BD%D1%8B%D0%B5_%D0%B7%D0%B0%D0%B4%D0%B0%D1%87%D0%B8_21_11_2022.ipynb\" target=\"_parent\"><img src=\"https://colab.research.google.com/assets/colab-badge.svg\" alt=\"Open In Colab\"/></a>"
      ]
    },
    {
      "cell_type": "markdown",
      "source": [
        "Задачи выложены на Яндекс.Контест, потребуют Яндекс-почты\n",
        "\n",
        "[Задачи](https://contest.yandex.ru/contest/38357/enter/)  \n",
        "\n",
        "**Важно!** При решении задач 1-3 выбран компилятор, он же язык язык - (make) Python - он позволяет вам определить функцию (от def до return), а затем автопроверка сама используют вашу функцию в своей подпрограмме. **Вам НЕ нужно использовать input и print**  \n",
        "\n",
        "Начиная с задачи 4, переключите компилятор на **обычный Python без слова make**  \n",
        "\n",
        "![Task](https://user-images.githubusercontent.com/105628605/172375191-3adf13f2-4c00-417b-920f-dd7dc75562e8.jpg)"
      ],
      "metadata": {
        "id": "Fwi08oxzaFqG"
      }
    }
  ]
}