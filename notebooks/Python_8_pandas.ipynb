{
  "cells": [
    {
      "cell_type": "markdown",
      "metadata": {
        "id": "view-in-github",
        "colab_type": "text"
      },
      "source": [
        "<a href=\"https://colab.research.google.com/github/AnnSenina/Python_for_CL/blob/main/notebooks/Python_8_pandas.ipynb\" target=\"_parent\"><img src=\"https://colab.research.google.com/assets/colab-badge.svg\" alt=\"Open In Colab\"/></a>"
      ]
    },
    {
      "cell_type": "markdown",
      "metadata": {
        "id": "LchzhkUv1OnX"
      },
      "source": [
        "#pandas\n",
        "pandas - библиотека, которая позволяет работать с табличными данными"
      ]
    },
    {
      "cell_type": "code",
      "execution_count": 3,
      "metadata": {
        "id": "dy_UDg8kL5Vc"
      },
      "outputs": [],
      "source": [
        "!pip install pandas # если pandas не установлен, следует запустить эту ячейку"
      ]
    },
    {
      "cell_type": "code",
      "execution_count": 4,
      "metadata": {
        "id": "mu_R9WN2MFeQ"
      },
      "outputs": [],
      "source": [
        "import pandas as pd # теперь импортируем pandas в тетрадку / .py файл с кодом"
      ]
    },
    {
      "cell_type": "markdown",
      "metadata": {
        "id": "dDSmXeLaTh4U"
      },
      "source": [
        "документация для pandas [лежит здесь](https://pandas.pydata.org/pandas-docs/stable/getting_started/tutorials.html)\n",
        "\n",
        "Основные элементы \"табличек в pandas\" - это Series и Dataframe\n",
        "\n",
        "Series - это объект, похожий на одномерный массив (как обычный список в питоне) с элементами и  индексами вдоль каждого элемента из списка. \n",
        "\n",
        "DataFrame \"собирается\" из таких Series"
      ]
    },
    {
      "cell_type": "markdown",
      "metadata": {
        "id": "YwQGRoCkO4y1"
      },
      "source": [
        "<img alt=\"Series vs DataFrame\" height=\"300\" width=\"700\" src=\"https://storage.googleapis.com/lds-media/images/series-and-dataframe.width-1200.png\" >"
      ]
    },
    {
      "cell_type": "markdown",
      "metadata": {
        "tags": [],
        "id": "LpTdm4gfELXK"
      },
      "source": [
        "# Создание датафрейма"
      ]
    },
    {
      "cell_type": "markdown",
      "metadata": {
        "id": "-58DzZXTELXL"
      },
      "source": [
        "Создать датафрейм можно двумя способами:\n",
        "- из словаря методом pd.DataFrame.from_dict()\n",
        "- прочитав .csv файл\n",
        "\n",
        "попробуем оба способа\n",
        "\n",
        "### Первый"
      ]
    },
    {
      "cell_type": "code",
      "execution_count": 5,
      "metadata": {
        "id": "6Vy_M6tPMQCE"
      },
      "outputs": [],
      "source": [
        "# шаг 1 создадим словарь\n",
        "\n",
        "data = {\n",
        "    \"Maria\":[\"London\",37],\n",
        "    \"Lorenzo\":[\"Milan\",28],\n",
        "    \"Oleg\":[\"Canberra\",31],\n",
        "    \"Hans\":[\"Calgary\",80],\n",
        "    \"Mark\":[\"Milan\",55],\n",
        "    \"Alex\":[\"Krakow\",35],\n",
        "    \"Julia\":[\"Murmansk\",43]\n",
        "    \n",
        "}\n",
        "\n",
        "# шаг 2 используем метод pd.DataFrame.from_dict()\n",
        "# аргументом подадим созданный словарь\n",
        "\n",
        "postcards = pd.DataFrame.from_dict(data, orient=\"columns\").T.rename(columns={0:\"city\", 1:\"age\"})"
      ]
    },
    {
      "cell_type": "code",
      "source": [
        "print(postcards)"
      ],
      "metadata": {
        "id": "332XRedpFZlw"
      },
      "execution_count": null,
      "outputs": []
    },
    {
      "cell_type": "code",
      "source": [
        "display(postcards)\n",
        "# в PyChram не работает функция display()"
      ],
      "metadata": {
        "id": "L6ZKfy5pE2Gt"
      },
      "execution_count": null,
      "outputs": []
    },
    {
      "cell_type": "markdown",
      "metadata": {
        "id": "fTRO_rdtELXN"
      },
      "source": [
        "### Второй способ"
      ]
    },
    {
      "cell_type": "code",
      "execution_count": 9,
      "metadata": {
        "tags": [],
        "id": "uvwnZBw2ELXO"
      },
      "outputs": [],
      "source": [
        "# прочитаем .csv файл методом pd.read_csv()\n",
        "\n",
        "recipes = pd.read_csv(\"christmas_recipes.csv\", encoding=\"utf-8\") # есть другие аргументы: sep, decimal и др."
      ]
    },
    {
      "cell_type": "markdown",
      "metadata": {
        "id": "7kh4dxn5ELXO"
      },
      "source": [
        "### Как посмотреть на часть датафрейма\n",
        "\n",
        "понадобятся методы ```.head()```, ```.tail()``` или индексация"
      ]
    },
    {
      "cell_type": "code",
      "source": [
        "print(recipes.head(2)) # по умолчанию показывает 5 строк"
      ],
      "metadata": {
        "id": "4TSZ4B2XHahR"
      },
      "execution_count": null,
      "outputs": []
    },
    {
      "cell_type": "code",
      "execution_count": null,
      "metadata": {
        "tags": [],
        "id": "zKhsGhkEELXP"
      },
      "outputs": [],
      "source": [
        "# первые строки\n",
        "recipes.head(2)\n",
        "\n",
        "# для PyCharm\n",
        "# print(recipes.head(2))"
      ]
    },
    {
      "cell_type": "code",
      "execution_count": null,
      "metadata": {
        "tags": [],
        "id": "zxFC4nNwELXP"
      },
      "outputs": [],
      "source": [
        "# последние строки\n",
        "recipes.tail(3)\n",
        "\n",
        "# для PyCharm\n",
        "# print(recipes.tail(3))"
      ]
    },
    {
      "cell_type": "code",
      "execution_count": null,
      "metadata": {
        "tags": [],
        "id": "zLqLEkEtELXQ"
      },
      "outputs": [],
      "source": [
        "# часть датафрейма по  индексам строчек\n",
        "recipes[15:18]\n",
        "\n",
        "# для PyCharm\n",
        "# print(rrecipes[15:18])"
      ]
    },
    {
      "cell_type": "markdown",
      "metadata": {
        "tags": [],
        "id": "TEXAEugSELXQ"
      },
      "source": [
        "# Характеристики датафрейма"
      ]
    },
    {
      "cell_type": "code",
      "execution_count": 13,
      "metadata": {
        "colab": {
          "base_uri": "https://localhost:8080/"
        },
        "id": "JdqZWwligQB8",
        "outputId": "71401701-df71-4152-c731-d7e584147c7e"
      },
      "outputs": [
        {
          "output_type": "stream",
          "name": "stdout",
          "text": [
            "(7, 2)\n"
          ]
        }
      ],
      "source": [
        "#размеры датафрейма\n",
        "\n",
        "print(postcards.shape)\n",
        "# print(recipes.shape)"
      ]
    },
    {
      "cell_type": "code",
      "execution_count": null,
      "metadata": {
        "id": "4JCmo6dkELXR"
      },
      "outputs": [],
      "source": [
        "# описание датафрейма\n",
        "\n",
        "print(postcards.info())\n",
        "# print(recipes.info())"
      ]
    },
    {
      "cell_type": "code",
      "execution_count": null,
      "metadata": {
        "id": "HowifKqZELXR"
      },
      "outputs": [],
      "source": [
        "# изменим тип колонки age на числовой методом .astype()\n",
        "\n",
        "postcards[\"age\"] = postcards[\"age\"].astype(\"int64\")\n",
        "print(postcards.info())"
      ]
    },
    {
      "cell_type": "markdown",
      "metadata": {
        "id": "e0hLMEflELXS"
      },
      "source": [
        "### Как посмотреть, где живет конкретный человек?\n",
        "\n",
        "Чтобы найти нужную строку, нам нужны индексы. \n",
        "Посмотрим на примере датасета с людьми и городами. У нашего датафрейма есть две оси: по строкам(нулевая, она же  index) и столбцам(первая, она же columns)\n"
      ]
    },
    {
      "cell_type": "code",
      "execution_count": 18,
      "metadata": {
        "tags": [],
        "colab": {
          "base_uri": "https://localhost:8080/"
        },
        "id": "8phBy7ExELXS",
        "outputId": "32b3b94c-e04e-4352-a6b3-24c6cb32ea64"
      },
      "outputs": [
        {
          "output_type": "execute_result",
          "data": {
            "text/plain": [
              "Index(['Maria', 'Lorenzo', 'Oleg', 'Hans', 'Mark', 'Alex', 'Julia'], dtype='object')"
            ]
          },
          "metadata": {},
          "execution_count": 18
        }
      ],
      "source": [
        "print(postcards.index)"
      ]
    },
    {
      "cell_type": "code",
      "execution_count": null,
      "metadata": {
        "id": "brXnQmZ9q4Bo"
      },
      "outputs": [],
      "source": [
        "print(postcards.columns)"
      ]
    },
    {
      "cell_type": "code",
      "execution_count": null,
      "metadata": {
        "id": "eIGCunCwro1O"
      },
      "outputs": [],
      "source": [
        "# пересечение индексов выдаст конкретную ячейку: ищем где живет Мария\n",
        "\n",
        "postcards.loc['Maria'][\"city\"]"
      ]
    },
    {
      "cell_type": "markdown",
      "metadata": {
        "id": "ccIqghWAELXU"
      },
      "source": [
        "**Получить строку по индексу** можно двумя способами:\n",
        "\n",
        "- именной индекс, по \"названию\" строки в колонке \"Index\", (первая колонка датафрейма, у нас это имена людей)\n",
        "- порядковый индекс, по номеру строки в датафрейме (нумерация с 0)\n",
        "\n",
        "Для именного поиска понадобится метод ```.loc[]```, для порядкового -- ```.iloc[]```"
      ]
    },
    {
      "cell_type": "code",
      "execution_count": null,
      "metadata": {
        "id": "EOs3jobBELXU"
      },
      "outputs": [],
      "source": [
        "print(postcards.iloc[3], \"\\n\")\n",
        "\n",
        "print(postcards.loc[\"Hans\"])"
      ]
    },
    {
      "cell_type": "markdown",
      "metadata": {
        "id": "QbKG3Ka5ELXV"
      },
      "source": [
        "**Указав название колонки**,  можно аналогично посмотреть все значения в ней"
      ]
    },
    {
      "cell_type": "code",
      "execution_count": null,
      "metadata": {
        "id": "r8uPANSTELXV"
      },
      "outputs": [],
      "source": [
        "print(postcards[\"age\"])"
      ]
    },
    {
      "cell_type": "code",
      "source": [
        "# напечатайте города\n"
      ],
      "metadata": {
        "id": "rhXfxoOSJDDK"
      },
      "execution_count": null,
      "outputs": []
    },
    {
      "cell_type": "markdown",
      "metadata": {
        "tags": [],
        "id": "y-gg8AMjELXV"
      },
      "source": [
        "# Операции с датафреймами"
      ]
    },
    {
      "cell_type": "markdown",
      "metadata": {
        "tags": [],
        "id": "QpdAt5-hELXV"
      },
      "source": [
        "### Добавление колонок и строк в датафрейм"
      ]
    },
    {
      "cell_type": "markdown",
      "metadata": {
        "id": "6xG3z4Vov0Lq"
      },
      "source": [
        "В датафрейм можно добавить новые колонки: понадобится метод ```.assign()```"
      ]
    },
    {
      "cell_type": "code",
      "execution_count": null,
      "metadata": {
        "id": "q68INlyOv3wA"
      },
      "outputs": [],
      "source": [
        "postcards = postcards.assign(job=['Artist',\"Teacher\",\"Chef\",\"Artist\",\"Manager\",\"Chef\",\"Engineer\"])\n",
        "\n",
        "# display(postcards)\n",
        "# print(postcards)"
      ]
    },
    {
      "cell_type": "code",
      "source": [
        "# 2 способ - похож на добавление ключей в словарь\n",
        "degrees = ['BA', 'MA', 'MA', 'PhD', 'Postdoc', 'BA', 'PhD']\n",
        "postcards[\"degree\"] = degrees\n",
        "\n",
        "# display(postcards)\n",
        "# print(postcards)"
      ],
      "metadata": {
        "id": "cWSJ-WVnJNtj"
      },
      "execution_count": 24,
      "outputs": []
    },
    {
      "cell_type": "markdown",
      "metadata": {
        "id": "8wI7nnyOx8kt"
      },
      "source": [
        "Добавить строки тоже можно: методом ```.append()```"
      ]
    },
    {
      "cell_type": "code",
      "execution_count": 34,
      "metadata": {
        "id": "nWBEDV_X0rVB"
      },
      "outputs": [],
      "source": [
        "df = pd.DataFrame.from_dict({\"Alice\":[\"NY\", 36, \"Engineer\", \"MA\"]},\n",
        "                           orient=\"index\",\n",
        "                           columns=postcards.columns)\n",
        "\n",
        "# display(df)\n",
        "# print(df)"
      ]
    },
    {
      "cell_type": "code",
      "execution_count": null,
      "metadata": {
        "tags": [],
        "id": "QecwxyvRELXX"
      },
      "outputs": [],
      "source": [
        "# шаг2 добавим новый df к старому\n",
        "postcards = postcards.append(df)\n",
        "postcards\n",
        "\n",
        "# что будет, если запустить .append() несколько раз?"
      ]
    },
    {
      "cell_type": "markdown",
      "metadata": {
        "id": "ZESKs95y71Wy"
      },
      "source": [
        "### что делать, если добавились ненужные строки? "
      ]
    },
    {
      "cell_type": "markdown",
      "metadata": {
        "id": "EAH5dF12ELXX"
      },
      "source": [
        "Если есть дубликаты уже существующих строк, понадобится метод ```.drop_duplicates()```"
      ]
    },
    {
      "cell_type": "code",
      "execution_count": null,
      "metadata": {
        "id": "WB8VMk5P6Kmy",
        "tags": []
      },
      "outputs": [],
      "source": [
        "postcards.drop_duplicates(inplace=True)\n",
        "# display(postcards)\n",
        "# print(postcards)"
      ]
    },
    {
      "cell_type": "markdown",
      "metadata": {
        "id": "HINGxpZCELXY"
      },
      "source": [
        "Если удалить нужно любую строку или столбец, понадобится метод ```.drop()``` \n",
        "- axis=0 если нужно удалить строку\n",
        "- axis=1 если нужно удалить колонку"
      ]
    },
    {
      "cell_type": "code",
      "execution_count": null,
      "metadata": {
        "tags": [],
        "id": "w7hXOdTIELXY"
      },
      "outputs": [],
      "source": [
        "postcards.drop(\"Mark\",axis=0)"
      ]
    },
    {
      "cell_type": "code",
      "execution_count": null,
      "metadata": {
        "id": "KCEHqP3SELXY"
      },
      "outputs": [],
      "source": [
        "postcards.drop(\"city\", axis=1)"
      ]
    },
    {
      "cell_type": "code",
      "source": [
        "# display(postcards)\n",
        "# print(postcards)"
      ],
      "metadata": {
        "id": "1WcNi-T5LDFv"
      },
      "execution_count": null,
      "outputs": []
    },
    {
      "cell_type": "markdown",
      "metadata": {
        "id": "d_6VoflXELXZ"
      },
      "source": [
        "Чтобы изменения вошли в силу, реультат выражения нужно сохранить в переменную, либо добавить аргумент inplace=True "
      ]
    },
    {
      "cell_type": "code",
      "execution_count": null,
      "metadata": {
        "id": "zXrYYFBwELXZ"
      },
      "outputs": [],
      "source": [
        "postcards = postcards.drop(\"city\", axis=1)\n",
        "# в этой ячейке можете попробовать"
      ]
    },
    {
      "cell_type": "markdown",
      "metadata": {
        "id": "ZDTCdrD6uhXl"
      },
      "source": [
        "### Сохранение датафрейма в файл "
      ]
    },
    {
      "cell_type": "code",
      "execution_count": null,
      "metadata": {
        "id": "u-tvDza7T8ad"
      },
      "outputs": [],
      "source": [
        "# сохраним в .csv файл\n",
        "\n",
        "postcards.to_csv('postcards.csv') "
      ]
    },
    {
      "cell_type": "markdown",
      "metadata": {
        "id": "IgtDJfqPKYiu"
      },
      "source": [
        "### Фильтры и прочие манипуляции"
      ]
    },
    {
      "cell_type": "code",
      "execution_count": null,
      "metadata": {
        "id": "9dQc2idIELXa"
      },
      "outputs": [],
      "source": [
        "# посмотрим, кто работает шеф-поваром\n",
        "# квадратные скобки создают подвыборку из датасета, удовлетворяющую условиям\n",
        "\n",
        "postcards[ postcards[\"job\"] == \"Chef\" ]\n",
        "\n",
        "# print(postcards[ postcards[\"job\"] == \"Chef\" ])"
      ]
    },
    {
      "cell_type": "code",
      "execution_count": null,
      "metadata": {
        "id": "IZas6n3v3KOH",
        "tags": []
      },
      "outputs": [],
      "source": [
        "# поищем всех людей старше 40\n",
        "\n",
        "postcards[ postcards[\"age\"] > 40 ]"
      ]
    },
    {
      "cell_type": "code",
      "execution_count": null,
      "metadata": {
        "id": "hGKBGJL13r_K"
      },
      "outputs": [],
      "source": [
        "# условия можно компоновать логическими операторами\n",
        "# синтаксис: df[(условие1) оператор (условие2)]\n",
        "\n",
        "#ищем, кто старше 30 и не работает шеф-поваром\n",
        "\n",
        "postcards[ (postcards[\"age\"] > 30) & (postcards[\"job\"] != \"Chef\")]"
      ]
    },
    {
      "cell_type": "markdown",
      "metadata": {
        "id": "3oz0IY2oELXa"
      },
      "source": [
        "Над значениями в колонках можно производить различные операции:\n",
        "* например, арифметические (если данные количественные):"
      ]
    },
    {
      "cell_type": "code",
      "execution_count": null,
      "metadata": {
        "id": "pqvjgc9-4c5G"
      },
      "outputs": [],
      "source": [
        "# postcards.age.sum()\n",
        "# postcards.age.mean()\n",
        "# postcards.age.min()\n",
        "# postcards.age.max()"
      ]
    },
    {
      "cell_type": "markdown",
      "metadata": {
        "id": "589isE_EELXb"
      },
      "source": [
        "Если данные категориальные, можно искать уникальные значения, упорядочивать по алфавиту и тд"
      ]
    },
    {
      "cell_type": "code",
      "execution_count": null,
      "metadata": {
        "id": "EtS4vzvcELXb"
      },
      "outputs": [],
      "source": [
        "# postcards.job.values # все значения \n",
        "# postcards.job.value_counts() # число повторов\n",
        "# postcards.job.sort_values() # сортировка\n",
        "\n",
        "# postcards.job.unique() # все уникальные в колонке\n",
        "# postcards.job.nunique() # сколько уникальных в колонке"
      ]
    },
    {
      "cell_type": "markdown",
      "source": [
        "### Дополнительное задание: колонии\n",
        "\n",
        "Вы работаете с датасетом от Гарвардского университета, в котором хранится информация о государствах - бывших колониях. Посчитайте:\n",
        "* количество этих государств (Country Name)\n",
        "* среднюю продолжительность колониального периода (COLYEARS)\n",
        "* максимальную продолжительность зависимости (COLYEARS)\n",
        "\n",
        "Скачать данные можно здесь: https://raw.githubusercontent.com/AnnSenina/Python_for_CL/main/data/Colonial.csv"
      ],
      "metadata": {
        "id": "EAMUkgzxOW7V"
      }
    },
    {
      "cell_type": "code",
      "source": [],
      "metadata": {
        "id": "dPEtW7NRQV-E"
      },
      "execution_count": null,
      "outputs": []
    },
    {
      "cell_type": "markdown",
      "source": [
        "### Дополнительное задание 2: тревожность и телевидение\n",
        "\n",
        "Вы изучаете взаимосвязь тревожности и просмотра телевиденья. Вам необходимо расчитать следующие характеристики:\n",
        "\n",
        "* Сколько человек приняло участие в исследовании?\n",
        "* Каков минимальный и максимальный возраст участников?\n",
        "* Сколько в выборке женщин?\n",
        "* Какое среднее значение тревожности наблюдается в данных?\n",
        "\n",
        "Скачать данные можно здесь: https://raw.githubusercontent.com/AnnSenina/Python_for_CL/main/data/socio.scv"
      ],
      "metadata": {
        "id": "9bUqPFz9QXYz"
      }
    },
    {
      "cell_type": "code",
      "source": [],
      "metadata": {
        "id": "z7mbp3iFVwTK"
      },
      "execution_count": null,
      "outputs": []
    }
  ],
  "metadata": {
    "colab": {
      "collapsed_sections": [
        "ZESKs95y71Wy"
      ],
      "provenance": [],
      "include_colab_link": true
    },
    "kernelspec": {
      "display_name": "Python 3 (ipykernel)",
      "language": "python",
      "name": "python3"
    },
    "language_info": {
      "codemirror_mode": {
        "name": "ipython",
        "version": 3
      },
      "file_extension": ".py",
      "mimetype": "text/x-python",
      "name": "python",
      "nbconvert_exporter": "python",
      "pygments_lexer": "ipython3",
      "version": "3.10.0"
    }
  },
  "nbformat": 4,
  "nbformat_minor": 0
}