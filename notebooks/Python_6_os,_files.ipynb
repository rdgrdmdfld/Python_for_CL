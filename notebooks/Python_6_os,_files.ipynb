{
  "cells": [
    {
      "cell_type": "markdown",
      "metadata": {
        "id": "VZl78AiF5wlr"
      },
      "source": [
        "# Работа с файлами и папками в Python; модуль os\n",
        "\n",
        "Другими словами: где хранятся файлы, открыть, создать, изменить и т.д.\n",
        "\n",
        "Часто, чтобы поработать над какой-то задачей, нам нужно работать с файлами, в которых хранятся данные, перемещаться среди папок и тд. Для решениях этих задач, в питоне существует [модуль os](https://pythonworld.ru/moduli/modul-os.html).\n",
        "\n",
        "\n",
        "1. Содержание папки\n",
        "1. Работа с путями к файлам и папкам\n",
        "1. Манипуляции с файлами и папками\n",
        "1. Простой способ загрузки файла\n",
        "1. Загрузка на Google Диск\n",
        "1. Практика\n",
        "\n",
        "В блокноте использованы материалы курса \"Программирование и лингвистические данные\", \"Программирование на Python для Digital Humanities\" и тетрадка А. Хорошевой\n",
        "\n",
        "# 1. Содержание папки\n"
      ]
    },
    {
      "cell_type": "code",
      "execution_count": 1,
      "metadata": {
        "id": "wg7f0lEX5lev"
      },
      "outputs": [],
      "source": [
        "import os"
      ]
    },
    {
      "cell_type": "code",
      "execution_count": null,
      "metadata": {
        "id": "bdXc52QT6Y_f"
      },
      "outputs": [],
      "source": [
        "print(os.listdir()) # список файлов и папок в директории, где запущена программа"
      ]
    },
    {
      "cell_type": "code",
      "execution_count": null,
      "metadata": {
        "id": "m1sK32vS6bPp"
      },
      "outputs": [],
      "source": [
        "print(os.listdir('sample_data'))  # список имен файлов и папок в конкретной папке\n",
        "# напишите вместо sample_data какую-нибудь папку из предыдущей команды: venv для PyCharm и др."
      ]
    },
    {
      "cell_type": "markdown",
      "metadata": {
        "id": "qmiWtXwO-oe8"
      },
      "source": [
        "Порядок элементов можно отсортировать:"
      ]
    },
    {
      "cell_type": "code",
      "execution_count": null,
      "metadata": {
        "id": "4dWSpYO468uQ"
      },
      "outputs": [],
      "source": [
        "unsorted_file_list = os.listdir('sample_data') # аналогично для вашей папки\n",
        "sortetd_file_list = sorted(unsorted_file_list) # функция сортировки\n",
        "print(sortetd_file_list)"
      ]
    },
    {
      "cell_type": "markdown",
      "metadata": {
        "id": "VwL_8Dmv_KZi"
      },
      "source": [
        "# 2. Работа с путями к файлам и папкам"
      ]
    },
    {
      "cell_type": "markdown",
      "metadata": {
        "id": "CeaAUsTfFOu6"
      },
      "source": [
        "## Проверка типа файла\n",
        "Модуль `os.path` содержит функции для проверки существования файла и для определения его типа:\n"
      ]
    },
    {
      "cell_type": "code",
      "execution_count": null,
      "metadata": {
        "id": "8c7YrANUFBz3"
      },
      "outputs": [],
      "source": [
        "path = 'sample_data' # ваша папка\n",
        "# path = 'simple_data'\n",
        "\n",
        "if os.path.exists(path):\n",
        "    print(path, 'существует')\n",
        "    if os.path.isfile(path):\n",
        "        print(path, '— это файл')\n",
        "    elif os.path.isdir(path):\n",
        "        print(path, '— это папка')\n",
        "    else:\n",
        "        print(path, '— это не файл и не папка')\n",
        "else:\n",
        "    print(path, 'не существует')"
      ]
    },
    {
      "cell_type": "markdown",
      "metadata": {
        "id": "-egpfPwRIJmJ"
      },
      "source": [
        "#  3. Манипуляции с файлами и папками\n",
        "Производите все манипуляции с файлами с осторожностью"
      ]
    },
    {
      "cell_type": "markdown",
      "metadata": {
        "id": "MrNZDeiLIXlV"
      },
      "source": [
        "## Создание файла\n",
        "Для создания пустого файла достаточно открыть несуществующий файл с флагом `'x'`:"
      ]
    },
    {
      "cell_type": "code",
      "execution_count": 21,
      "metadata": {
        "id": "fltQc9deFjPk"
      },
      "outputs": [],
      "source": [
        "with open('empty.txt', 'x'): # есть и другие режимы, но о них позднее: 'r', 'w', 'a' \n",
        "    pass # не делает ничего"
      ]
    },
    {
      "cell_type": "code",
      "execution_count": null,
      "metadata": {
        "id": "dZoncpuZIcdm"
      },
      "outputs": [],
      "source": [
        "print(os.listdir()) # проверим, что файл появился"
      ]
    },
    {
      "cell_type": "markdown",
      "metadata": {
        "id": "OzrBO23tJAJD"
      },
      "source": [
        "## Создание папки\n",
        "Для создания новой папки используйте `os.mkdir(name)`. Эта функция выдаст ошибку, если по указанному пути уже существует файл или папка. "
      ]
    },
    {
      "cell_type": "code",
      "execution_count": 22,
      "metadata": {
        "id": "boaoWXACI55C"
      },
      "outputs": [],
      "source": [
        "os.mkdir('nice new folder')"
      ]
    },
    {
      "cell_type": "code",
      "execution_count": null,
      "metadata": {
        "id": "Pkm6nKsaJGAn"
      },
      "outputs": [],
      "source": [
        "print(os.path.isdir('nice new folder'))"
      ]
    },
    {
      "cell_type": "markdown",
      "metadata": {
        "id": "85HJiTysTA1Q"
      },
      "source": [
        "Если вам нужно создать сразу несколько вложенных папок, то смотрите функцию [`os.makedirs()`](https://docs.python.org/3/library/os.html#os.makedirs)."
      ]
    },
    {
      "cell_type": "code",
      "execution_count": 40,
      "metadata": {
        "id": "-Zb5abMFTCmR"
      },
      "outputs": [],
      "source": [
        "os.makedirs(os.path.join('some_folder_2','subfolder','subfolder', 'subdolder'))"
      ]
    },
    {
      "cell_type": "code",
      "source": [
        "print(os.listdir()) # проверим, что папки появились"
      ],
      "metadata": {
        "id": "Vht2WXNqHF4_"
      },
      "execution_count": null,
      "outputs": []
    },
    {
      "cell_type": "code",
      "source": [
        "print(os.listdir(\"some_folder_2\")) # проверим, что папки появились\n",
        "print(list(os.walk(\"some_folder_2\"))) # перечисляет все папки от топа вниз, в виде кортежа"
      ],
      "metadata": {
        "id": "J7kBNFtaKSll"
      },
      "execution_count": null,
      "outputs": []
    },
    {
      "cell_type": "markdown",
      "metadata": {
        "id": "TrAW7SSIJUCN"
      },
      "source": [
        "## Перемещение и переименование\n",
        "Для удобной манипуляции с файлами и папками в стандартной библиотеке Python существует специальный модуль [`shutil`](https://pythonworld.ru/moduli/modul-shutil.html)."
      ]
    },
    {
      "cell_type": "code",
      "execution_count": 5,
      "metadata": {
        "id": "EusmD-VlJj22"
      },
      "outputs": [],
      "source": [
        "import shutil"
      ]
    },
    {
      "cell_type": "code",
      "execution_count": null,
      "metadata": {
        "id": "88IgX4uJ3Cb6"
      },
      "outputs": [],
      "source": [
        "print(os.listdir('nice new folder'))"
      ]
    },
    {
      "cell_type": "markdown",
      "metadata": {
        "id": "nR1z_Is7JiiF"
      },
      "source": [
        "Функция `shutil.move(source, destination)` позволяет вам переместить любой файл или папку (даже непустую). Обратите внимание, что если `destination` — это уже существующая папка, то файл/папка будет перемещена внутрь неё, в остальных случаях файл/папка будут скопированы точно по нужному адресу. В случае успеха, функция вернёт новое местоположение файла. Если `destination` существует и не является папкой, то будет выброшена ошибка."
      ]
    },
    {
      "cell_type": "code",
      "execution_count": null,
      "metadata": {
        "id": "tGZI3_70JM8r"
      },
      "outputs": [],
      "source": [
        "shutil.move('empty.txt', 'nice new folder')"
      ]
    },
    {
      "cell_type": "code",
      "source": [
        "print(os.listdir()) # проверим, что файл появился\n",
        "print(os.listdir('nice new folder'))"
      ],
      "metadata": {
        "id": "46MIZ7uqHQuX"
      },
      "execution_count": null,
      "outputs": []
    },
    {
      "cell_type": "markdown",
      "metadata": {
        "id": "I3gHd0qZKD2v"
      },
      "source": [
        "Перенесем файл обратно"
      ]
    },
    {
      "cell_type": "code",
      "execution_count": null,
      "metadata": {
        "id": "JOa3YECqKEMh"
      },
      "outputs": [],
      "source": [
        "shutil.move(os.path.join('nice new folder', 'empty.txt'), '.') # '.' - помести на уровень выше\n",
        "# '..' - помести на 2 уровня выше"
      ]
    },
    {
      "cell_type": "code",
      "source": [
        "print(os.listdir()) # проверим, что файл появился"
      ],
      "metadata": {
        "id": "295b10tD8xOm"
      },
      "execution_count": null,
      "outputs": []
    },
    {
      "cell_type": "markdown",
      "metadata": {
        "id": "V4a6O9i0Lpes"
      },
      "source": [
        "### Переименовать файл "
      ]
    },
    {
      "cell_type": "code",
      "execution_count": null,
      "metadata": {
        "id": "QhmFCMC8LvBn"
      },
      "outputs": [],
      "source": [
        "shutil.move('empty.txt', 'full.txt') # такое перемещение - и есть переименование\n",
        "print(os.listdir()) # проверим"
      ]
    },
    {
      "cell_type": "code",
      "execution_count": null,
      "metadata": {
        "id": "en8U_XvEL43R"
      },
      "outputs": [],
      "source": [
        "os.rename('full.txt', 'empty.txt') # то же самое другим способом\n",
        "print(os.listdir()) # проверим"
      ]
    },
    {
      "cell_type": "markdown",
      "metadata": {
        "id": "f3BDiN24MM7q"
      },
      "source": [
        "## Копирование\n",
        "Скопировать файл можно с помощью функции `shutil.copy(source, destination)`."
      ]
    },
    {
      "cell_type": "code",
      "execution_count": null,
      "metadata": {
        "id": "3IvZJzeSMCDc"
      },
      "outputs": [],
      "source": [
        "shutil.copy('empty.txt', 'nice new folder/empty.txt')"
      ]
    },
    {
      "cell_type": "markdown",
      "metadata": {
        "id": "I6dEm5hxOqVr"
      },
      "source": [
        "Скопировать папку для операционной системы сложнее, ведь мы всегда хотим скопировать не только папку, но и её содержимое. Для копирования папок используйте `shutil.copytree(source, destination)`. Обратите внимание, что для этой функции `destination` всегда должно быть путём конечного расположения файлов и не может быть уже существующей папкой."
      ]
    },
    {
      "cell_type": "code",
      "execution_count": null,
      "metadata": {
        "id": "w9CWbhK9OqyO"
      },
      "outputs": [],
      "source": [
        "shutil.copytree('nice new folder', 'nicer newer folder')"
      ]
    },
    {
      "cell_type": "code",
      "execution_count": null,
      "metadata": {
        "id": "DkBCWzyi6E74"
      },
      "outputs": [],
      "source": [
        "print(os.listdir('nicer newer folder'))"
      ]
    },
    {
      "cell_type": "code",
      "execution_count": null,
      "metadata": {
        "id": "KuJc5b1n59DZ"
      },
      "outputs": [],
      "source": [
        "shutil.move('nice new folder/empty.txt',  'nicer newer folder/empty.txt')"
      ]
    },
    {
      "cell_type": "code",
      "execution_count": 29,
      "metadata": {
        "id": "2ZEI712V6N0q"
      },
      "outputs": [],
      "source": [
        "with open('nicer newer folder/empty.txt', 'w') as openfile: # самый важный синтаксис на сегодня! \n",
        "    openfile.write('Hello!')\n",
        "\n",
        "# openfile = open('nicer newer folder/empty.txt', 'w')"
      ]
    },
    {
      "cell_type": "code",
      "execution_count": null,
      "metadata": {
        "id": "ZyiWEKEe6z5E"
      },
      "outputs": [],
      "source": [
        "with open('nicer newer folder/empty.txt', 'r') as f:\n",
        "    print(f.read())"
      ]
    },
    {
      "cell_type": "code",
      "execution_count": null,
      "metadata": {
        "id": "Z8un-Q9566UT"
      },
      "outputs": [],
      "source": [
        "shutil.move('empty.txt', 'nicer newer folder/empty.txt')"
      ]
    },
    {
      "cell_type": "markdown",
      "metadata": {
        "id": "dirqlclnPH44"
      },
      "source": [
        "## Удаление\n",
        "Удалить файл можно с помощью функции `os.remove`, а пустую папку с помощью функции `os.rmdir`.\n",
        "\n",
        "А вот для удаления папки с содержимым вновь понадобится `shutil`. Для удаления такой папки используйте `shutil.rmtree`.\n",
        "\n",
        "Будьте осторожны, команды удаления стирают файл, а не перемещают его в корзину, вне зависимости от операционной системы! После такого удаления восстановить файл может быть сложно или вовсе невозможно.\n",
        "\n"
      ]
    },
    {
      "cell_type": "code",
      "execution_count": 32,
      "metadata": {
        "id": "TDSfTzATPzn8"
      },
      "outputs": [],
      "source": [
        "os.remove('nicer newer folder/empty.txt')"
      ]
    },
    {
      "cell_type": "code",
      "execution_count": null,
      "metadata": {
        "id": "tgoNSvpr7f96"
      },
      "outputs": [],
      "source": [
        "print(os.listdir('nicer newer folder'))"
      ]
    },
    {
      "cell_type": "code",
      "execution_count": null,
      "metadata": {
        "id": "cdcCJLeSP5gy"
      },
      "outputs": [],
      "source": [
        "os.remove('nice new folder') # не сработает"
      ]
    },
    {
      "cell_type": "code",
      "execution_count": 35,
      "metadata": {
        "id": "RmkBAO7g7n0l"
      },
      "outputs": [],
      "source": [
        "os.rmdir('nice new folder')"
      ]
    },
    {
      "cell_type": "code",
      "source": [
        "print(os.listdir())"
      ],
      "metadata": {
        "id": "mrAVg6IG_wr6"
      },
      "execution_count": null,
      "outputs": []
    },
    {
      "cell_type": "markdown",
      "metadata": {
        "id": "XAc3wa8LPkHs"
      },
      "source": [
        "## Смена рабочей папки"
      ]
    },
    {
      "cell_type": "markdown",
      "metadata": {
        "id": "eYWa8zDYQ-TG"
      },
      "source": [
        "Посмотреть путь к папке, где сейчас работает наш питон: "
      ]
    },
    {
      "cell_type": "code",
      "execution_count": 56,
      "metadata": {
        "id": "5KihOjDcPmID",
        "colab": {
          "base_uri": "https://localhost:8080/"
        },
        "outputId": "edc11926-5928-4d41-93aa-2fba4713585e"
      },
      "outputs": [
        {
          "output_type": "stream",
          "name": "stdout",
          "text": [
            "/content\n"
          ]
        }
      ],
      "source": [
        "print(os.getcwd())"
      ]
    },
    {
      "cell_type": "markdown",
      "metadata": {
        "id": "IcVDWzSkRPUq"
      },
      "source": [
        "Поменять ее на другую можно с помощью "
      ]
    },
    {
      "cell_type": "code",
      "source": [
        "print(os.chdir('some_folder_2')) # сменим"
      ],
      "metadata": {
        "id": "4YTzrKvjA-Ks"
      },
      "execution_count": null,
      "outputs": []
    },
    {
      "cell_type": "code",
      "source": [
        "print(os.listdir())"
      ],
      "metadata": {
        "id": "heVoPAMUBKEL"
      },
      "execution_count": null,
      "outputs": []
    },
    {
      "cell_type": "code",
      "source": [
        "os.chdir('/content') # сменим обратно\n",
        "print(os.getcwd())"
      ],
      "metadata": {
        "id": "Km03ntw5QhjD"
      },
      "execution_count": 55,
      "outputs": []
    },
    {
      "cell_type": "code",
      "source": [
        "print(os.listdir())"
      ],
      "metadata": {
        "id": "AeuBG-ogBcAJ"
      },
      "execution_count": null,
      "outputs": []
    },
    {
      "cell_type": "markdown",
      "metadata": {
        "id": "mBdS-5uveiwO"
      },
      "source": [
        "## Подключить папки со своего Google Диск"
      ]
    },
    {
      "cell_type": "code",
      "execution_count": null,
      "metadata": {
        "id": "qELh_h4mYlwO",
        "colab": {
          "base_uri": "https://localhost:8080/"
        },
        "outputId": "95fd4051-2a6f-48b7-9a70-e0fc037f71cd"
      },
      "outputs": [
        {
          "output_type": "stream",
          "name": "stdout",
          "text": [
            "Mounted at /content/drive\n"
          ]
        }
      ],
      "source": [
        "from google.colab import drive\n",
        "drive.mount('/content/drive')"
      ]
    },
    {
      "cell_type": "code",
      "execution_count": null,
      "metadata": {
        "id": "eqg8ATHhkU16"
      },
      "outputs": [],
      "source": [
        "os.listdir('drive/MyDrive') # посмотрим на Google Диск!"
      ]
    },
    {
      "cell_type": "code",
      "source": [
        "# менять название папки можно\n",
        "FOLDER = \"Ваша папка\" # Соединить Python и конретную папку\n",
        "PATH = \"drive/MyDrive/\" + FOLDER  + \"/\"\n",
        "from google.colab import drive\n",
        "drive.mount('/content/drive')\n",
        "import sys\n",
        "sys.path.append(PATH)"
      ],
      "metadata": {
        "id": "KdNaHwTJUKgF"
      },
      "execution_count": null,
      "outputs": []
    },
    {
      "cell_type": "code",
      "source": [
        "# Можно не указывать папку, путь - весь Диск\n",
        "PATH = \"/content/drive/MyDrive/\"\n",
        "from google.colab import drive\n",
        "drive.mount('/content/drive')"
      ],
      "metadata": {
        "id": "Af1jGRZTU_6e"
      },
      "execution_count": null,
      "outputs": []
    },
    {
      "cell_type": "code",
      "source": [
        "# бонус для колаба\n",
        "from google.colab import files #строка импорта\n",
        "files.upload() # откроется окно загрузки"
      ],
      "metadata": {
        "id": "p8MIZzwlQYi7"
      },
      "execution_count": null,
      "outputs": []
    },
    {
      "cell_type": "markdown",
      "source": [
        "# Работа с файлами"
      ],
      "metadata": {
        "id": "Ll3kY-ylXyik"
      }
    },
    {
      "cell_type": "code",
      "source": [
        "with open(\"city_smells.txt\", \"r\") as file: # воспользуемся встроенной функцией open()\n",
        "    pass"
      ],
      "metadata": {
        "id": "VvCaJDZcX1f4"
      },
      "execution_count": 60,
      "outputs": []
    },
    {
      "cell_type": "markdown",
      "source": [
        "давайте посмотрим на аргументы функции: \n",
        "* первый = путь к файлу, который хотим открыть.\n",
        "\n",
        "* второй аргумент - необязательный, это режим открытия файла: для чтения, записи, дозаписи, все вместе и тд. (по умолчанию - чтение, 'r')\n",
        "\n",
        "\n",
        "<div class=\"table-wrapper\"><table border=\"1\" class=\"docutils\"><tbody valign=\"top\"><tr><td>Режим</td><td>Обозначение</td></tr><tr><td>'r'</td><td>открытие на чтение (является значением по умолчанию).</td></tr><tr><td>'w'</td><td>открытие на запись, содержимое файла удаляется, если файла не существует, создается новый.</td></tr><tr><td>'x'</td><td>открытие на запись, если файла не существует, иначе исключение.</td></tr><tr><td>'a'</td><td>открытие на дозапись, информация добавляется в конец файла.</td></tr><tr><td>'b'</td><td>открытие в двоичном режиме.</td></tr><tr><td>'t'</td><td>открытие в текстовом режиме (является значением по умолчанию).</td></tr><tr><td>'+'</td><td>открытие на чтение и запись</td></tr></tbody></table></div>\n",
        "\n",
        "\n",
        "Режимы могут быть объединены: например,'ra' - открытие для чтения и  дозаписи.\n",
        "\n",
        "Последний аргумент (опциональный, его можно не указывать), encoding, нужен только в текстовом режиме чтения файла. Этот аргумент задает кодировку. Чтобы стандантные .txt-файлы читались без проблем, ставим ```encoding = utf-8```\n",
        "\n",
        "\n",
        "Мы открыли файл с режимом для чтения (пока еще не читали его), сохранили в переменную значение. Давайте прочтем содержимое. Читать тоже можно несколькими методами: \n",
        "* .read()\n",
        "* .readline()\n",
        "* .readlines()\n",
        "\n",
        "\n"
      ],
      "metadata": {
        "id": "5tIAfpQ8Xxve"
      }
    },
    {
      "cell_type": "code",
      "source": [
        "with open(\"city_smells.txt\", \"r\", encoding='utf-8') as file:\n",
        "    file.read()\n",
        "    # file.readline()\n",
        "    # file.readlines()"
      ],
      "metadata": {
        "id": "Jq7a4_aiY5hN"
      },
      "execution_count": 72,
      "outputs": []
    },
    {
      "cell_type": "code",
      "source": [
        "print(file) # мы создали текстовое представление файла, но вывести его на экран нужно другим способом через print"
      ],
      "metadata": {
        "colab": {
          "base_uri": "https://localhost:8080/"
        },
        "id": "wRnMrv3za8Wz",
        "outputId": "4f363f31-ddea-415c-b11b-8db493682604"
      },
      "execution_count": 73,
      "outputs": [
        {
          "output_type": "stream",
          "name": "stdout",
          "text": [
            "<_io.TextIOWrapper name='city_smells.txt' mode='r' encoding='utf-8'>\n"
          ]
        }
      ]
    },
    {
      "cell_type": "code",
      "source": [
        "# 2 вариант:\n",
        "with open(\"city_smells.txt\", \"r\", encoding='utf-8') as file:\n",
        "    for i in file:\n",
        "      print(i.strip())"
      ],
      "metadata": {
        "id": "FVXg_BJ9cWRs"
      },
      "execution_count": null,
      "outputs": []
    },
    {
      "cell_type": "code",
      "source": [
        "with open(\"city_smells.txt\", \"r\", encoding='utf-8') as file:\n",
        "    print(file.read())\n",
        "    # print(file.readline())\n",
        "    # print(file.readlines())"
      ],
      "metadata": {
        "id": "9nYYrkq8bdbk"
      },
      "execution_count": null,
      "outputs": []
    },
    {
      "cell_type": "markdown",
      "source": [
        "Теперь попробуем создать файл и записать в него что-то:"
      ],
      "metadata": {
        "id": "UyXh6-mtZS8R"
      }
    },
    {
      "cell_type": "code",
      "source": [
        "with open('new_text.txt', 'w') as file: \n",
        "    file.write(\"hi this is a test\\n\")\n",
        "    \n",
        "# если такого файла не существовало, но создастся автоматически"
      ],
      "metadata": {
        "id": "QSnd0tBkY3cc"
      },
      "execution_count": 94,
      "outputs": []
    },
    {
      "cell_type": "markdown",
      "source": [
        "Чтобы предыдущая информация не стиралась из файла при записи, откроем с режимом \"а\" \n"
      ],
      "metadata": {
        "id": "kAhWHolAZQNM"
      }
    },
    {
      "cell_type": "code",
      "source": [
        "with open(\"new_text.txt\",'a') as file:\n",
        "    file.write(\"new line\\n\")"
      ],
      "metadata": {
        "id": "YK1B9S_pZNO4"
      },
      "execution_count": 95,
      "outputs": []
    },
    {
      "cell_type": "code",
      "source": [
        "with open(\"new_text.txt\",'r') as file: # читаем\n",
        "    print(file.read())"
      ],
      "metadata": {
        "colab": {
          "base_uri": "https://localhost:8080/"
        },
        "id": "E4zxXYc8c5er",
        "outputId": "48d81cdd-26ad-409c-8579-9d274ca8ffcc"
      },
      "execution_count": 96,
      "outputs": [
        {
          "output_type": "stream",
          "name": "stdout",
          "text": [
            "hi this is a test\n",
            "new line\n",
            "\n"
          ]
        }
      ]
    },
    {
      "cell_type": "markdown",
      "source": [
        "# Примеры"
      ],
      "metadata": {
        "id": "S2kPte4SVb2q"
      }
    },
    {
      "cell_type": "markdown",
      "source": [
        "В файле result.txt - список участников олимпиады\n"
      ],
      "metadata": {
        "id": "vIkqNo8BYEeK"
      }
    },
    {
      "cell_type": "code",
      "source": [
        "my_list = []\n",
        "with open('result.txt', 'r', encoding='utf-8') as f: \n",
        "  for line in f:\n",
        "    my_list.append(line.strip().split())"
      ],
      "metadata": {
        "id": "ae14ZYnhVe2D"
      },
      "execution_count": null,
      "outputs": []
    },
    {
      "cell_type": "code",
      "source": [
        "print(my_list)"
      ],
      "metadata": {
        "id": "TUqDa-TKLv8N"
      },
      "execution_count": null,
      "outputs": []
    },
    {
      "cell_type": "code",
      "source": [
        "new_list = sorted(my_list, key=lambda i: int(i[3]), reverse=True)\n",
        "print(new_list)"
      ],
      "metadata": {
        "id": "GoV-Sd6_M6-Q"
      },
      "execution_count": null,
      "outputs": []
    },
    {
      "cell_type": "code",
      "source": [
        "new_list = sorted(my_list) # сортируем строки в списке по алфавиту, сохраняем отсортированный список в новую переменную\n",
        "with open('result_2.txt', 'w', encoding='utf-8') as f2:\n",
        "  for i in new_list:\n",
        "    print(*i, file=f2)"
      ],
      "metadata": {
        "id": "6btoZ8AvWlSM"
      },
      "execution_count": null,
      "outputs": []
    },
    {
      "cell_type": "code",
      "source": [
        "# проверим, что в новом файле все есть:\n",
        "with open('result_2.txt', 'r', encoding='utf-8') as f:\n",
        "  for line in f:\n",
        "    print(line.strip())"
      ],
      "metadata": {
        "id": "i7MVU0ZDYHSF"
      },
      "execution_count": null,
      "outputs": []
    },
    {
      "cell_type": "markdown",
      "source": [
        "Задача про анкету с занятия 2"
      ],
      "metadata": {
        "id": "aC7Y5RTmYL3B"
      }
    },
    {
      "cell_type": "code",
      "source": [
        "name = input('Введите ваше имя: ').strip()\n",
        "age = int(input('Введите ваш возраст: ').strip())\n",
        "gender = input('Введите ваш гендер: ').strip()\n",
        "city = input('Введите ваш город: ').strip()\n",
        "work = input('Введите ваше место работы: ').strip()\n",
        "position = input('Введите вашу должность: ').strip()"
      ],
      "metadata": {
        "id": "x3wfWwulYOc9"
      },
      "execution_count": null,
      "outputs": []
    },
    {
      "cell_type": "code",
      "source": [
        "def survey():\n",
        "  name = input('Введите ваше имя: ').strip()\n",
        "  age = input('Введите ваш возраст: ').strip()\n",
        "  gender = input('Введите ваш гендер: ').strip()\n",
        "  city = input('Введите ваш город: ').strip()\n",
        "  work = input('Введите ваше место работы: ').strip()\n",
        "  position = input('Введите вашу должность: ').strip()\n",
        "  return name, age, gender, city, work, position\n",
        "\n",
        "n = int(input('Сколько людей будет заполнять анкету? '))\n",
        "with open('survey.csv', 'a', encoding='utf-8') as f2:\n",
        "  for i in range(n):\n",
        "    print(*survey(), file=f2)"
      ],
      "metadata": {
        "id": "hxUc-M58aABa"
      },
      "execution_count": null,
      "outputs": []
    },
    {
      "cell_type": "markdown",
      "source": [
        "Забегая вперед, быстрый способ:"
      ],
      "metadata": {
        "id": "JLp18S9haNJt"
      }
    },
    {
      "cell_type": "code",
      "source": [
        "# !!! только для PyCharm - в терминале PyCharm запускаем сначала\n",
        "pip install pandas\n",
        "pip install openpyxl"
      ],
      "metadata": {
        "id": "xJtTwNGJT2J0"
      },
      "execution_count": null,
      "outputs": []
    },
    {
      "cell_type": "code",
      "source": [
        "import pandas as pd # pandas позволяет работать с таблицами (датафреймами)"
      ],
      "metadata": {
        "id": "9Rrrdi8VaMuW"
      },
      "execution_count": null,
      "outputs": []
    },
    {
      "cell_type": "code",
      "source": [
        "num = [[1, 2], [3, 4]]"
      ],
      "metadata": {
        "id": "51v1_Aiqan6K"
      },
      "execution_count": null,
      "outputs": []
    },
    {
      "cell_type": "code",
      "source": [
        "df = pd.DataFrame(num)"
      ],
      "metadata": {
        "id": "ZvP6pQqsaT4t"
      },
      "execution_count": null,
      "outputs": []
    },
    {
      "cell_type": "code",
      "source": [
        "df.to_excel('new_list.xlsx')"
      ],
      "metadata": {
        "id": "POu08aAZaUkM"
      },
      "execution_count": null,
      "outputs": []
    }
  ],
  "metadata": {
    "colab": {
      "collapsed_sections": [],
      "provenance": []
    },
    "kernelspec": {
      "display_name": "Python 3",
      "name": "python3"
    },
    "language_info": {
      "name": "python"
    }
  },
  "nbformat": 4,
  "nbformat_minor": 0
}