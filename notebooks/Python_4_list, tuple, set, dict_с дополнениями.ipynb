{
  "nbformat": 4,
  "nbformat_minor": 0,
  "metadata": {
    "colab": {
      "provenance": []
    },
    "kernelspec": {
      "name": "python3",
      "display_name": "Python 3"
    },
    "language_info": {
      "name": "python"
    }
  },
  "cells": [
    {
      "cell_type": "markdown",
      "source": [
        "#Списки и кортежи\n",
        "Эти объекты - контейнеры, хранят другие данные"
      ],
      "metadata": {
        "id": "i4yGfh1mMrc5"
      }
    },
    {
      "cell_type": "markdown",
      "source": [
        "##списки\n",
        "изменяемые итерируемые коллекции объектов произвольных типов. Записываются в квадратных скобках []"
      ],
      "metadata": {
        "id": "r2N9tbMJNJEt"
      }
    },
    {
      "cell_type": "code",
      "source": [
        "my_list = [5, 800.6, True, 'hello', [1221, 13654]] # в списке могут быть элементы разных типов\n",
        "print(my_list)\n",
        "print(len(my_list)) # длина списка, количество элементов\n",
        "print(type(my_list))"
      ],
      "metadata": {
        "id": "nW9m3zKKNEnN",
        "colab": {
          "base_uri": "https://localhost:8080/"
        },
        "outputId": "f918781b-0e93-443e-d8f7-84cdfcf52b86"
      },
      "execution_count": 1,
      "outputs": [
        {
          "output_type": "stream",
          "name": "stdout",
          "text": [
            "[5, 800.6, True, 'hello', [1221, 13654]]\n",
            "5\n",
            "<class 'list'>\n"
          ]
        }
      ]
    },
    {
      "cell_type": "code",
      "source": [
        "print(my_list[4][0], my_list[4][1])"
      ],
      "metadata": {
        "colab": {
          "base_uri": "https://localhost:8080/"
        },
        "id": "1eDn1HywQ2S9",
        "outputId": "9d06e0ec-d924-4058-d6ed-9fac9347c31a"
      },
      "execution_count": 13,
      "outputs": [
        {
          "output_type": "stream",
          "name": "stdout",
          "text": [
            "1221 13654\n"
          ]
        }
      ]
    },
    {
      "cell_type": "code",
      "source": [
        "for i in my_list:\n",
        "  print(i)"
      ],
      "metadata": {
        "colab": {
          "base_uri": "https://localhost:8080/"
        },
        "id": "bK3eb9oOREvT",
        "outputId": "0c0eda27-87e0-4a36-9666-ccad7faaf3cb"
      },
      "execution_count": 5,
      "outputs": [
        {
          "output_type": "stream",
          "name": "stdout",
          "text": [
            "5\n",
            "800.6\n",
            "True\n",
            "hello\n",
            "[1221, 13654]\n"
          ]
        }
      ]
    },
    {
      "cell_type": "code",
      "source": [
        "# как создать список?\n",
        "l = [] # по литералу, специальному символу, обозначающему список\n",
        "print(l)"
      ],
      "metadata": {
        "id": "fT9UcrONNjPy",
        "colab": {
          "base_uri": "https://localhost:8080/"
        },
        "outputId": "b0a9d91c-5af9-4ce9-c646-5737db9a656f"
      },
      "execution_count": 6,
      "outputs": [
        {
          "output_type": "stream",
          "name": "stdout",
          "text": [
            "[]\n"
          ]
        }
      ]
    },
    {
      "cell_type": "code",
      "source": [
        "# превратить итерируемый объект в список с помощью функции list()\n",
        "s = 'hello'\n",
        "print(list(s))"
      ],
      "metadata": {
        "id": "ZdxR8tBHNq6O",
        "colab": {
          "base_uri": "https://localhost:8080/"
        },
        "outputId": "694e8405-1718-460a-ff21-f1a8d66209de"
      },
      "execution_count": 7,
      "outputs": [
        {
          "output_type": "stream",
          "name": "stdout",
          "text": [
            "['h', 'e', 'l', 'l', 'o']\n"
          ]
        }
      ]
    },
    {
      "cell_type": "code",
      "source": [
        "s = 'hello'\n",
        "s_list = list(s)\n",
        "print(s_list)\n",
        "print(\"\".join(s_list)) # метод join - позволяет создать строку из списка\n",
        "print(\"!!!!!!!\".join(s_list))"
      ],
      "metadata": {
        "colab": {
          "base_uri": "https://localhost:8080/"
        },
        "id": "xk9noockSfF3",
        "outputId": "7c06085e-7f45-4138-8ee8-9861bb36f192"
      },
      "execution_count": 17,
      "outputs": [
        {
          "output_type": "stream",
          "name": "stdout",
          "text": [
            "['h', 'e', 'l', 'l', 'o']\n",
            "hello\n",
            "h!!!!!!!e!!!!!!!l!!!!!!!l!!!!!!!o\n"
          ]
        }
      ]
    },
    {
      "cell_type": "markdown",
      "source": [
        "###Методы списков\n",
        "Напишем программу, которая к списку книг books добавит книгу по вашей\n",
        "теме."
      ],
      "metadata": {
        "id": "t_jwjdNTM9N1"
      }
    },
    {
      "cell_type": "code",
      "execution_count": 48,
      "metadata": {
        "colab": {
          "base_uri": "https://localhost:8080/"
        },
        "id": "k5xXAc45Mi5Q",
        "outputId": "e8db7581-6fa1-4a3d-a7dd-1153c6d20a49"
      },
      "outputs": [
        {
          "output_type": "stream",
          "name": "stdout",
          "text": [
            "['Блок М. Короли-чудотворцы', 'Гинзбург К. Сыр и черви', 'Земон-Девис Н. Дамы на обочине']\n"
          ]
        }
      ],
      "source": [
        "books = ['Блок М. Короли-чудотворцы', 'Гинзбург К. Сыр и черви']\n",
        "books.append('Земон-Девис Н. Дамы на обочине') #добавить 1 элемент в конец списка\n",
        "print(books)"
      ]
    },
    {
      "cell_type": "code",
      "source": [
        "books.append('Земон-Девис Н. Дамы на обочине') #добавить 1 элемент в конец списка\n",
        "print(books)"
      ],
      "metadata": {
        "colab": {
          "base_uri": "https://localhost:8080/"
        },
        "id": "c61y4zI_YoQr",
        "outputId": "b0c5bca6-3b5c-4376-d127-b4b0df0401c7"
      },
      "execution_count": 53,
      "outputs": [
        {
          "output_type": "stream",
          "name": "stdout",
          "text": [
            "['Блок М. Короли-чудотворцы', 'Гинзбург К. Сыр и черви', 'Земон-Девис Н. Дамы на обочине', 'Земон-Девис Н. Дамы на обочине', 'Земон-Девис Н. Дамы на обочине', 'Земон-Девис Н. Дамы на обочине', 'Земон-Девис Н. Дамы на обочине', 'Земон-Девис Н. Дамы на обочине']\n"
          ]
        }
      ]
    },
    {
      "cell_type": "code",
      "source": [
        "books = ['Блок М. Короли-чудотворцы', 'Гинзбург К. Сыр и черви']\n",
        "\n",
        "#print(books + 'Земон-Девис Н. Дамы на обочине')\n",
        "new_books = books + ['Земон-Девис Н. \\n\"Дамы на обочине\"'] # сложение списков\n",
        "print(*new_books) # * - оператор распаковки"
      ],
      "metadata": {
        "colab": {
          "base_uri": "https://localhost:8080/"
        },
        "id": "ZoomuIt8TjwN",
        "outputId": "bb43f1a6-bb1c-460b-9c26-cbd9bf22b05b"
      },
      "execution_count": 25,
      "outputs": [
        {
          "output_type": "stream",
          "name": "stdout",
          "text": [
            "Блок М. Короли-чудотворцы Гинзбург К. Сыр и черви Земон-Девис Н. \n",
            "\"Дамы на обочине\"\n"
          ]
        }
      ]
    },
    {
      "cell_type": "code",
      "source": [
        "print(new_books)\n",
        "print(*new_books) # по умолчанию sep=\" \"\n",
        "print(*new_books, sep=\", \")"
      ],
      "metadata": {
        "colab": {
          "base_uri": "https://localhost:8080/"
        },
        "id": "QqRO7MVDUaWH",
        "outputId": "474f45ca-ccc4-4e30-9416-c5b0dc08fb6a"
      },
      "execution_count": 28,
      "outputs": [
        {
          "output_type": "stream",
          "name": "stdout",
          "text": [
            "['Блок М. Короли-чудотворцы', 'Гинзбург К. Сыр и черви', 'Земон-Девис Н. \\n\"Дамы на обочине\"']\n",
            "Блок М. Короли-чудотворцы Гинзбург К. Сыр и черви Земон-Девис Н. \n",
            "\"Дамы на обочине\"\n",
            "Блок М. Короли-чудотворцы, Гинзбург К. Сыр и черви, Земон-Девис Н. \n",
            "\"Дамы на обочине\"\n"
          ]
        }
      ]
    },
    {
      "cell_type": "code",
      "source": [
        "for i in new_books:\n",
        "  print(i)"
      ],
      "metadata": {
        "colab": {
          "base_uri": "https://localhost:8080/"
        },
        "id": "25IoIgHBU-m3",
        "outputId": "c9452322-f820-4432-b4c1-c877e7063917"
      },
      "execution_count": 31,
      "outputs": [
        {
          "output_type": "stream",
          "name": "stdout",
          "text": [
            "Блок М. Короли-чудотворцы\n",
            "Гинзбург К. Сыр и черви\n",
            "Земон-Девис Н. \n",
            "\"Дамы на обочине\"\n"
          ]
        }
      ]
    },
    {
      "cell_type": "code",
      "source": [
        "for i in new_books:\n",
        "  print(i, end=\", \")"
      ],
      "metadata": {
        "colab": {
          "base_uri": "https://localhost:8080/"
        },
        "id": "LJZT88YPUy9Z",
        "outputId": "90f1aa0c-86b4-4fc3-a04a-aa0f0e4b19db"
      },
      "execution_count": 30,
      "outputs": [
        {
          "output_type": "stream",
          "name": "stdout",
          "text": [
            "Блок М. Короли-чудотворцы, Гинзбург К. Сыр и черви, Земон-Девис Н. \n",
            "\"Дамы на обочине\", "
          ]
        }
      ]
    },
    {
      "cell_type": "code",
      "source": [
        "s = 'hello'\n",
        "print(s[0:]) # верхняя граница не включается"
      ],
      "metadata": {
        "colab": {
          "base_uri": "https://localhost:8080/"
        },
        "id": "mv2vYWi0WbLu",
        "outputId": "26280492-5c60-4367-e234-2c3256c3e295"
      },
      "execution_count": 39,
      "outputs": [
        {
          "output_type": "stream",
          "name": "stdout",
          "text": [
            "hello\n"
          ]
        }
      ]
    },
    {
      "cell_type": "code",
      "source": [
        "l = []\n",
        "for i in range(0, 10 + 1): # запомнить: верхняя граница не включается\n",
        "  i = i + 10\n",
        "  l.append(i) # добавляем в конец, метод изменяет список\n",
        "  print(i)\n",
        "  print(l)\n",
        "print(l)"
      ],
      "metadata": {
        "colab": {
          "base_uri": "https://localhost:8080/"
        },
        "id": "NzJjZwicVVxg",
        "outputId": "ad3e0a71-2a6c-4038-c605-127f0d258ecc"
      },
      "execution_count": 34,
      "outputs": [
        {
          "output_type": "stream",
          "name": "stdout",
          "text": [
            "10\n",
            "[10]\n",
            "11\n",
            "[10, 11]\n",
            "12\n",
            "[10, 11, 12]\n",
            "13\n",
            "[10, 11, 12, 13]\n",
            "14\n",
            "[10, 11, 12, 13, 14]\n",
            "15\n",
            "[10, 11, 12, 13, 14, 15]\n",
            "16\n",
            "[10, 11, 12, 13, 14, 15, 16]\n",
            "17\n",
            "[10, 11, 12, 13, 14, 15, 16, 17]\n",
            "18\n",
            "[10, 11, 12, 13, 14, 15, 16, 17, 18]\n",
            "19\n",
            "[10, 11, 12, 13, 14, 15, 16, 17, 18, 19]\n",
            "[10, 11, 12, 13, 14, 15, 16, 17, 18, 19]\n"
          ]
        }
      ]
    },
    {
      "cell_type": "code",
      "source": [
        "books[1] = 'Новая книга'\n",
        "print(books)"
      ],
      "metadata": {
        "colab": {
          "base_uri": "https://localhost:8080/"
        },
        "id": "82DVukoaWE1j",
        "outputId": "6998af4e-afb1-4c1f-c512-3cfbe0704d08"
      },
      "execution_count": 35,
      "outputs": [
        {
          "output_type": "stream",
          "name": "stdout",
          "text": [
            "['Блок М. Короли-чудотворцы', 'Новая книга']\n"
          ]
        }
      ]
    },
    {
      "cell_type": "code",
      "source": [
        "books.extend([\"Веселовский. История земства за 40 лет\", \"Ле Руа Ладюри Э. Монтайю, окситанская деревня\"]) #расширить список, добавив в конец все элементы, написанные в скобках метода extend\n",
        "print(books)\n",
        "# аналогично books + [\"Веселовский. История земства за 40 лет\", \"Ле Руа Ладюри Э. Монтайю, окситанская деревня\"]"
      ],
      "metadata": {
        "id": "CB99f5OuOWEF",
        "colab": {
          "base_uri": "https://localhost:8080/"
        },
        "outputId": "ae9ed7cb-4a22-441f-ebe5-be410c477b1d"
      },
      "execution_count": 40,
      "outputs": [
        {
          "output_type": "stream",
          "name": "stdout",
          "text": [
            "['Блок М. Короли-чудотворцы', 'Новая книга', 'Веселовский. История земства за 40 лет', 'Ле Руа Ладюри Э. Монтайю, окситанская деревня']\n"
          ]
        }
      ]
    },
    {
      "cell_type": "code",
      "source": [
        "books.insert(2, 'Арьес Ф. «Человек перед лицом смерти»')\n",
        "print(books)\n",
        "# списки можно перебирать по индексам\n",
        "print(books[2])"
      ],
      "metadata": {
        "id": "zPH5ipNPPIeQ",
        "colab": {
          "base_uri": "https://localhost:8080/"
        },
        "outputId": "6124bd9f-71b3-4544-b6be-7e24bd8ac317"
      },
      "execution_count": 41,
      "outputs": [
        {
          "output_type": "stream",
          "name": "stdout",
          "text": [
            "['Блок М. Короли-чудотворцы', 'Новая книга', 'Арьес Ф. «Человек перед лицом смерти»', 'Веселовский. История земства за 40 лет', 'Ле Руа Ладюри Э. Монтайю, окситанская деревня']\n",
            "Арьес Ф. «Человек перед лицом смерти»\n"
          ]
        }
      ]
    },
    {
      "cell_type": "code",
      "source": [
        "books.remove('Блок М. Короли-чудотворцы') # удаление элемента из списка, если знаем его значение\n",
        "print(books)"
      ],
      "metadata": {
        "id": "NCZkQyAjPmPi",
        "colab": {
          "base_uri": "https://localhost:8080/"
        },
        "outputId": "ccd3b2aa-f9b2-47c8-cbf1-0dbfec1f5a0b"
      },
      "execution_count": 42,
      "outputs": [
        {
          "output_type": "stream",
          "name": "stdout",
          "text": [
            "['Новая книга', 'Арьес Ф. «Человек перед лицом смерти»', 'Веселовский. История земства за 40 лет', 'Ле Руа Ладюри Э. Монтайю, окситанская деревня']\n"
          ]
        }
      ]
    },
    {
      "cell_type": "code",
      "source": [
        "del books[2] # удаляем второй (считая с нуля) элемент из списка\n",
        "print(books)"
      ],
      "metadata": {
        "id": "4Gxly7lpP2I5",
        "colab": {
          "base_uri": "https://localhost:8080/"
        },
        "outputId": "d7115936-83c1-4f95-d139-53dccff6b147"
      },
      "execution_count": 43,
      "outputs": [
        {
          "output_type": "stream",
          "name": "stdout",
          "text": [
            "['Новая книга', 'Арьес Ф. «Человек перед лицом смерти»', 'Ле Руа Ладюри Э. Монтайю, окситанская деревня']\n"
          ]
        }
      ]
    },
    {
      "cell_type": "code",
      "source": [
        "# доступ к индексу элемента по значению\n",
        "\n",
        "print(books)\n",
        "# аналогично методу .find для строк\n",
        "print(books.index('Арьес Ф. «Человек перед лицом смерти»')) # посмотрим, на каком месте (считая от нуля) элемент\n",
        "print(books.count(\"Веселовский. История земства за 40 лет\")) # посмотрим, сколько раз встречается нужный элемент в списке"
      ],
      "metadata": {
        "id": "L6MymXRBP_ud",
        "colab": {
          "base_uri": "https://localhost:8080/"
        },
        "outputId": "eb48884e-9fd3-4729-c215-c132778219f8"
      },
      "execution_count": 46,
      "outputs": [
        {
          "output_type": "stream",
          "name": "stdout",
          "text": [
            "['Новая книга', 'Арьес Ф. «Человек перед лицом смерти»', 'Ле Руа Ладюри Э. Монтайю, окситанская деревня']\n",
            "1\n",
            "0\n"
          ]
        }
      ]
    },
    {
      "cell_type": "code",
      "source": [
        "books.clear() # очистим список от всех элементов\n",
        "print(books, \"\\nдлина списка = \", len(books)) # напечатаем список и его длину"
      ],
      "metadata": {
        "id": "T2OOZ9gqRlfN",
        "colab": {
          "base_uri": "https://localhost:8080/"
        },
        "outputId": "aa42908a-e439-49fd-ea83-050d0ae9da27"
      },
      "execution_count": 47,
      "outputs": [
        {
          "output_type": "stream",
          "name": "stdout",
          "text": [
            "[] \n",
            "длина списка =  0\n"
          ]
        }
      ]
    },
    {
      "cell_type": "markdown",
      "source": [
        "##Кортеж (tuple)\n",
        "это неизменяемый список.\n",
        "\n",
        "Зачем нужны кортежи, если есть списки?\n",
        "\n",
        "1. Защита данных. Кортеж защищен от изменений, как намеренных (что плохо), так и случайных (что хорошо).\n",
        "2. Меньший размер. Вам нужно меньше памяти, чтобы хранить данные"
      ],
      "metadata": {
        "id": "VJvATKG-R9lb"
      }
    },
    {
      "cell_type": "code",
      "source": [
        "# сравним размеры в байтах\n",
        "\n",
        "a = (1, 2, 3, 4, 5, 6) # кортеж\n",
        "b = [1, 2, 3, 4, 5, 6] # лист/список\n",
        "\n",
        "print(\"Size of the tuple: \",a.__sizeof__(),\"\\nsize of the list: \",b.__sizeof__()) "
      ],
      "metadata": {
        "id": "oPaKUTdQSBrs",
        "colab": {
          "base_uri": "https://localhost:8080/"
        },
        "outputId": "de290a70-a33b-4693-b275-cba54c660575"
      },
      "execution_count": 54,
      "outputs": [
        {
          "output_type": "stream",
          "name": "stdout",
          "text": [
            "Size of the tuple:  72 \n",
            "size of the list:  88\n"
          ]
        }
      ]
    },
    {
      "cell_type": "code",
      "source": [
        "# как создать кортеж\n",
        "a = tuple() \n",
        "\n",
        "print(a, \"\\n\",type(a))"
      ],
      "metadata": {
        "id": "kuxmOUEuSGDT",
        "colab": {
          "base_uri": "https://localhost:8080/"
        },
        "outputId": "17bd3ecc-adcf-42ae-e49b-74563875b336"
      },
      "execution_count": 55,
      "outputs": [
        {
          "output_type": "stream",
          "name": "stdout",
          "text": [
            "() \n",
            " <class 'tuple'>\n"
          ]
        }
      ]
    },
    {
      "cell_type": "code",
      "source": [
        "# с помощью литерала кортежа ()\n",
        "b = ()\n",
        "print(b, \"\\n\",type(b))"
      ],
      "metadata": {
        "id": "ts6YO3fJSYuM",
        "colab": {
          "base_uri": "https://localhost:8080/"
        },
        "outputId": "53a551f5-ee3c-4a4f-b382-484de096bce9"
      },
      "execution_count": 56,
      "outputs": [
        {
          "output_type": "stream",
          "name": "stdout",
          "text": [
            "() \n",
            " <class 'tuple'>\n"
          ]
        }
      ]
    },
    {
      "cell_type": "code",
      "source": [
        "# Создаем кортеж из одного элемента:\n",
        "a = ('apple', )\n",
        "print(a)\n",
        "b = 'apple', \n",
        "print(b)\n",
        "\n",
        "c = ('apple') # строка\n",
        "print(c)"
      ],
      "metadata": {
        "id": "U77LlkToSdMl",
        "colab": {
          "base_uri": "https://localhost:8080/"
        },
        "outputId": "0829c8af-d32f-4afe-8493-e083072883ea"
      },
      "execution_count": 58,
      "outputs": [
        {
          "output_type": "stream",
          "name": "stdout",
          "text": [
            "('apple',)\n",
            "('apple',)\n",
            "apple\n"
          ]
        }
      ]
    },
    {
      "cell_type": "markdown",
      "source": [
        "кортежам доступны все операции над списками, не изменяющие список: сложение, умножение на число, методы index() и count(), можно работать с индексами и так далее.\n",
        "\n"
      ],
      "metadata": {
        "id": "nySFCY7vSu4t"
      }
    },
    {
      "cell_type": "code",
      "source": [
        "# проверим, что кортежи не изменяются:\n",
        "b = 'apple', \n",
        "b[0] = 'banana'\n",
        "print(b)\n",
        "# ошибка - кортеж нельзя изменить"
      ],
      "metadata": {
        "id": "TaOAmAIqSweE",
        "colab": {
          "base_uri": "https://localhost:8080/",
          "height": 243
        },
        "outputId": "68a734bd-7674-408c-f407-bbd06ce328d5"
      },
      "execution_count": 62,
      "outputs": [
        {
          "output_type": "error",
          "ename": "TypeError",
          "evalue": "ignored",
          "traceback": [
            "\u001b[0;31m---------------------------------------------------------------------------\u001b[0m",
            "\u001b[0;31mTypeError\u001b[0m                                 Traceback (most recent call last)",
            "\u001b[0;32m<ipython-input-62-7f6a7ec2af86>\u001b[0m in \u001b[0;36m<module>\u001b[0;34m\u001b[0m\n\u001b[1;32m      1\u001b[0m \u001b[0;31m# проверим, что кортежи не изменяются:\u001b[0m\u001b[0;34m\u001b[0m\u001b[0;34m\u001b[0m\u001b[0;34m\u001b[0m\u001b[0m\n\u001b[1;32m      2\u001b[0m \u001b[0mb\u001b[0m \u001b[0;34m=\u001b[0m \u001b[0;34m'apple'\u001b[0m\u001b[0;34m,\u001b[0m\u001b[0;34m\u001b[0m\u001b[0;34m\u001b[0m\u001b[0m\n\u001b[0;32m----> 3\u001b[0;31m \u001b[0mb\u001b[0m\u001b[0;34m[\u001b[0m\u001b[0;36m0\u001b[0m\u001b[0;34m]\u001b[0m \u001b[0;34m=\u001b[0m \u001b[0;34m'banana'\u001b[0m\u001b[0;34m\u001b[0m\u001b[0;34m\u001b[0m\u001b[0m\n\u001b[0m\u001b[1;32m      4\u001b[0m \u001b[0mprint\u001b[0m\u001b[0;34m(\u001b[0m\u001b[0mb\u001b[0m\u001b[0;34m)\u001b[0m\u001b[0;34m\u001b[0m\u001b[0;34m\u001b[0m\u001b[0m\n\u001b[1;32m      5\u001b[0m \u001b[0;31m# ошибка - кортеж нельзя изменить\u001b[0m\u001b[0;34m\u001b[0m\u001b[0;34m\u001b[0m\u001b[0;34m\u001b[0m\u001b[0m\n",
            "\u001b[0;31mTypeError\u001b[0m: 'tuple' object does not support item assignment"
          ]
        }
      ]
    },
    {
      "cell_type": "code",
      "source": [
        "b = ['apple', 'lemon'] \n",
        "b[0] = 'banana'\n",
        "print(b)"
      ],
      "metadata": {
        "colab": {
          "base_uri": "https://localhost:8080/"
        },
        "id": "NNJs_10haFU8",
        "outputId": "6bd4bed4-b488-44be-9d7d-b393c7b48442"
      },
      "execution_count": 60,
      "outputs": [
        {
          "output_type": "stream",
          "name": "stdout",
          "text": [
            "['banana', 'lemon']\n"
          ]
        }
      ]
    },
    {
      "cell_type": "markdown",
      "source": [
        "#Множество (set)\n",
        "это тоже \"контейнер\" для данных, но в отличие от листа(списка), он содержит уникальные, не повторяющиеся элементы.\n",
        "\n",
        "Неупорядоченные типы данных"
      ],
      "metadata": {
        "id": "wq7auSEsTC8g"
      }
    },
    {
      "cell_type": "code",
      "source": [
        "# создать множество с помощью функции set()\n",
        "print(set([34,78,\"banana\"])) # они перемешались, индексы не работают \n",
        "\n",
        "print(set(\"hello there\"))\n",
        "\n",
        "tmp = \"hello hello there\"\n",
        "print(set(tmp.split())) # split - из строки делает список\n",
        "print(len(set(tmp.split())))"
      ],
      "metadata": {
        "id": "AzwvrVoISubp",
        "colab": {
          "base_uri": "https://localhost:8080/"
        },
        "outputId": "b21f9980-a6f0-43aa-a66d-11039cdb64c7"
      },
      "execution_count": 64,
      "outputs": [
        {
          "output_type": "stream",
          "name": "stdout",
          "text": [
            "{'banana', 34, 78}\n",
            "{'r', 'h', ' ', 't', 'e', 'o', 'l'}\n",
            "{'hello', 'there'}\n",
            "2\n"
          ]
        }
      ]
    },
    {
      "cell_type": "code",
      "source": [
        "# множества удобно использовать для удаления повторяющихся элементов:\n",
        "\n",
        "fruits = [\"apples\", \"peaches\", \"cherries\", \"pears\", \"oranges\", \"persimmons\"]\n",
        "# задали список, сохранили в переменную\n",
        "\n",
        "fruits.append(\"peaches\")# добавим еще больше персиков\n",
        "\n",
        "# давайте изменим тип объекта на set с помощью функции set()\n",
        "fruits = set(fruits) #применили функцию, пересохранили переменную\n",
        "\n",
        "print(fruits)"
      ],
      "metadata": {
        "id": "x6rqNQcwXbuM",
        "colab": {
          "base_uri": "https://localhost:8080/"
        },
        "outputId": "90650228-1537-4f1a-b047-09a1c9649ec9"
      },
      "execution_count": 65,
      "outputs": [
        {
          "output_type": "stream",
          "name": "stdout",
          "text": [
            "{'peaches', 'cherries', 'persimmons', 'apples', 'oranges', 'pears'}\n"
          ]
        }
      ]
    },
    {
      "cell_type": "code",
      "source": [
        "new_set = {2}  # создали переменную, сложили в нее некоторые объекты\n",
        "# можем складывать в множество объекты разных типов: числовые, строковые, логические\n",
        "\n",
        "# давайте проверим, что new_set действительно множество\n",
        "print(new_set, type(new_set))"
      ],
      "metadata": {
        "id": "I7l0pjzLXi2-",
        "colab": {
          "base_uri": "https://localhost:8080/"
        },
        "outputId": "7fa8e9b9-1674-4380-d28c-a557b855a680"
      },
      "execution_count": 66,
      "outputs": [
        {
          "output_type": "stream",
          "name": "stdout",
          "text": [
            "{2} <class 'set'>\n"
          ]
        }
      ]
    },
    {
      "cell_type": "code",
      "source": [
        "# Важно!!!! обратите внимание, что в отличие от листа, множество нельзя задать пустым литералом\n",
        "another_set = {} # создали пустое....\n",
        "\n",
        "# ....множество? Давайте проверим тип созданной переменной \n",
        "\n",
        "print(type(another_set)) \n",
        "\n",
        "new_set = set()\n",
        "print(type(new_set))"
      ],
      "metadata": {
        "id": "Z4LjFTi0XnXm",
        "colab": {
          "base_uri": "https://localhost:8080/"
        },
        "outputId": "0caf6813-9099-4785-e7b6-9a5e60415e93"
      },
      "execution_count": 69,
      "outputs": [
        {
          "output_type": "stream",
          "name": "stdout",
          "text": [
            "<class 'dict'>\n",
            "<class 'set'>\n"
          ]
        }
      ]
    },
    {
      "cell_type": "markdown",
      "source": [
        "###Операции со множествами\n"
      ],
      "metadata": {
        "id": "ZtkTEVoWXs68"
      }
    },
    {
      "cell_type": "code",
      "source": [
        "cars = [\"BMW\",\"Toyota\",\"Bentley\",\"Jeep\",\"Jeep\"]\n",
        "\n",
        "cars = set(cars)\n",
        "\n",
        "#число элементов в множестве (размер множества).\n",
        "len(cars)"
      ],
      "metadata": {
        "id": "HaWNVNz5Xuk6",
        "colab": {
          "base_uri": "https://localhost:8080/"
        },
        "outputId": "4460075b-94b8-49ac-b2a2-dc93a9cdae93"
      },
      "execution_count": 70,
      "outputs": [
        {
          "output_type": "execute_result",
          "data": {
            "text/plain": [
              "4"
            ]
          },
          "metadata": {},
          "execution_count": 70
        }
      ]
    },
    {
      "cell_type": "code",
      "source": [
        "# принадлежит ли элемент множеству (со списками, кортежами тоже работает)\n",
        "\n",
        "print(\"BMW\" in cars)\n",
        "print(\"Chevrolet\" in cars)"
      ],
      "metadata": {
        "id": "xYurLCNBXyj8",
        "colab": {
          "base_uri": "https://localhost:8080/"
        },
        "outputId": "e116ef46-30f1-499e-ec90-0392d9ea54ad"
      },
      "execution_count": 71,
      "outputs": [
        {
          "output_type": "stream",
          "name": "stdout",
          "text": [
            "True\n",
            "False\n"
          ]
        }
      ]
    },
    {
      "cell_type": "code",
      "source": [
        "#добавляем элемент в множество\n",
        "\n",
        "cars.add('789') # без порядкового номера, индексы не работают\n",
        "print(cars)"
      ],
      "metadata": {
        "id": "Gk6t7MDzYIzX",
        "colab": {
          "base_uri": "https://localhost:8080/"
        },
        "outputId": "a6122873-d8f8-491c-838a-93d59f997f8b"
      },
      "execution_count": 81,
      "outputs": [
        {
          "output_type": "stream",
          "name": "stdout",
          "text": [
            "{'Bentley', 'BMW', 'Renault', 'Toyota', 'Citroën', '789', 789, 'Peugeot'}\n"
          ]
        }
      ]
    },
    {
      "cell_type": "code",
      "source": [
        "# добавляем множество во множество\n",
        "french_cars = {\"Peugeot\", \"Citroën\", \"Renault\"}\n",
        "cars.update(french_cars)\n",
        "print(cars, len(cars))"
      ],
      "metadata": {
        "id": "KkQhMuJEYMNS",
        "colab": {
          "base_uri": "https://localhost:8080/"
        },
        "outputId": "7629dab5-30f1-44fb-8e7a-189b742aac17"
      },
      "execution_count": 74,
      "outputs": [
        {
          "output_type": "stream",
          "name": "stdout",
          "text": [
            "{'Bentley', 'BMW', 'Renault', 'Toyota', 'Citroën', 789, 'Jeep', 'Peugeot'} 8\n"
          ]
        }
      ]
    },
    {
      "cell_type": "code",
      "source": [
        "# удаляем элемент из множества. \n",
        "cars.remove(\"Jeep\")\n",
        "print(cars)\n",
        "# KeyError, если такого элемента не существует."
      ],
      "metadata": {
        "id": "--4p9n4rYRuB",
        "colab": {
          "base_uri": "https://localhost:8080/"
        },
        "outputId": "85f61e5c-6514-42f5-82c4-4ebf49f2368d"
      },
      "execution_count": 75,
      "outputs": [
        {
          "output_type": "stream",
          "name": "stdout",
          "text": [
            "{'Bentley', 'BMW', 'Renault', 'Toyota', 'Citroën', 789, 'Peugeot'}\n"
          ]
        }
      ]
    },
    {
      "cell_type": "code",
      "source": [
        "cars.remove(\"Chevrolet\")\n",
        "print(cars)"
      ],
      "metadata": {
        "colab": {
          "base_uri": "https://localhost:8080/",
          "height": 189
        },
        "id": "XVsi5k9jdF2h",
        "outputId": "836bbbbf-e9bb-4317-d998-b75d15e0aa19"
      },
      "execution_count": 76,
      "outputs": [
        {
          "output_type": "error",
          "ename": "KeyError",
          "evalue": "ignored",
          "traceback": [
            "\u001b[0;31m---------------------------------------------------------------------------\u001b[0m",
            "\u001b[0;31mKeyError\u001b[0m                                  Traceback (most recent call last)",
            "\u001b[0;32m<ipython-input-76-76033d0c00c6>\u001b[0m in \u001b[0;36m<module>\u001b[0;34m\u001b[0m\n\u001b[0;32m----> 1\u001b[0;31m \u001b[0mcars\u001b[0m\u001b[0;34m.\u001b[0m\u001b[0mremove\u001b[0m\u001b[0;34m(\u001b[0m\u001b[0;34m\"Chevrolet\"\u001b[0m\u001b[0;34m)\u001b[0m\u001b[0;34m\u001b[0m\u001b[0;34m\u001b[0m\u001b[0m\n\u001b[0m\u001b[1;32m      2\u001b[0m \u001b[0mprint\u001b[0m\u001b[0;34m(\u001b[0m\u001b[0mcars\u001b[0m\u001b[0;34m)\u001b[0m\u001b[0;34m\u001b[0m\u001b[0;34m\u001b[0m\u001b[0m\n",
            "\u001b[0;31mKeyError\u001b[0m: 'Chevrolet'"
          ]
        }
      ]
    },
    {
      "cell_type": "code",
      "source": [
        "# Альтернативный вариант\n",
        "\n",
        "cars.discard(\"Lamborgini\") \n",
        "# удаляет элемент, если он находится в множестве.\n",
        "# Если элемента нет, не возвращает сообщение об ошибке\n",
        "print(cars)"
      ],
      "metadata": {
        "id": "wgNCA6lBYnq1",
        "colab": {
          "base_uri": "https://localhost:8080/"
        },
        "outputId": "b0ebc642-1389-4572-be9c-781d68a3f4d3"
      },
      "execution_count": 78,
      "outputs": [
        {
          "output_type": "stream",
          "name": "stdout",
          "text": [
            "{'Bentley', 'BMW', 'Renault', 'Toyota', 'Citroën', 789, 'Peugeot'}\n"
          ]
        }
      ]
    },
    {
      "cell_type": "code",
      "source": [
        "print(cars)\n",
        "print(cars)\n",
        "print(cars)"
      ],
      "metadata": {
        "colab": {
          "base_uri": "https://localhost:8080/",
          "height": 261
        },
        "id": "jBnn9b1Kd6Lc",
        "outputId": "712ac780-fe26-4260-e0ba-c536ca8cd445"
      },
      "execution_count": 85,
      "outputs": [
        {
          "output_type": "stream",
          "name": "stdout",
          "text": [
            "{'Renault', 'Toyota', 'Citroën', '789', 789, 'Peugeot'}\n",
            "{'Renault', 'Toyota', 'Citroën', '789', 789, 'Peugeot'}\n",
            "{'Renault', 'Toyota', 'Citroën', '789', 789, 'Peugeot'}\n"
          ]
        },
        {
          "output_type": "error",
          "ename": "TypeError",
          "evalue": "ignored",
          "traceback": [
            "\u001b[0;31m---------------------------------------------------------------------------\u001b[0m",
            "\u001b[0;31mTypeError\u001b[0m                                 Traceback (most recent call last)",
            "\u001b[0;32m<ipython-input-85-cf71d657e31a>\u001b[0m in \u001b[0;36m<module>\u001b[0;34m\u001b[0m\n\u001b[1;32m      2\u001b[0m \u001b[0mprint\u001b[0m\u001b[0;34m(\u001b[0m\u001b[0mcars\u001b[0m\u001b[0;34m)\u001b[0m\u001b[0;34m\u001b[0m\u001b[0;34m\u001b[0m\u001b[0m\n\u001b[1;32m      3\u001b[0m \u001b[0mprint\u001b[0m\u001b[0;34m(\u001b[0m\u001b[0mcars\u001b[0m\u001b[0;34m)\u001b[0m\u001b[0;34m\u001b[0m\u001b[0;34m\u001b[0m\u001b[0m\n\u001b[0;32m----> 4\u001b[0;31m \u001b[0mprint\u001b[0m\u001b[0;34m(\u001b[0m\u001b[0mcars\u001b[0m\u001b[0;34m[\u001b[0m\u001b[0;36m0\u001b[0m\u001b[0;34m]\u001b[0m\u001b[0;34m)\u001b[0m\u001b[0;34m\u001b[0m\u001b[0;34m\u001b[0m\u001b[0m\n\u001b[0m",
            "\u001b[0;31mTypeError\u001b[0m: 'set' object is not subscriptable"
          ]
        }
      ]
    },
    {
      "cell_type": "code",
      "source": [
        "# удаляет первый элемент\n",
        "\n",
        "print(cars.pop())\n",
        "print(cars)\n",
        "# запустите несколько раз, посмотрите на результат"
      ],
      "metadata": {
        "id": "XVhoJSArYr3i",
        "colab": {
          "base_uri": "https://localhost:8080/"
        },
        "outputId": "220236b9-6b36-49f0-9cb7-1961a225cac1"
      },
      "execution_count": 88,
      "outputs": [
        {
          "output_type": "stream",
          "name": "stdout",
          "text": [
            "Citroën\n",
            "{'789', 789, 'Peugeot'}\n"
          ]
        }
      ]
    },
    {
      "cell_type": "code",
      "source": [
        "# очищаем множество\n",
        "\n",
        "cars.clear()\n",
        "print(len(cars), \"\\n\", cars)"
      ],
      "metadata": {
        "id": "Jkq2K3KuYvFs",
        "colab": {
          "base_uri": "https://localhost:8080/"
        },
        "outputId": "81e2a720-8414-4f80-853d-0af399326716"
      },
      "execution_count": 92,
      "outputs": [
        {
          "output_type": "stream",
          "name": "stdout",
          "text": [
            "0 \n",
            " set()\n"
          ]
        }
      ]
    },
    {
      "cell_type": "markdown",
      "source": [
        "###Свойства множеств (логические операции)"
      ],
      "metadata": {
        "id": "GXp5enmeY9Bd"
      }
    },
    {
      "cell_type": "code",
      "source": [
        "fruits = {'apples', 'cherries', 'oranges', 'peaches', 'pears', 'persimmons'}\n",
        "fruits2 = {'apples', 'cherries', 'oranges', 'peaches', 'pears', 'persimmons', 'apples'}\n",
        "\n",
        "berries = {\"strawberry\", \"red currant\"}\n",
        "\n",
        "# сравнение множеств\n",
        "print(fruits == berries)\n",
        " # True если все элементы одного принадлежат второму\n",
        "print(fruits == fruits2)"
      ],
      "metadata": {
        "id": "xDg6p5dCmXm0",
        "colab": {
          "base_uri": "https://localhost:8080/"
        },
        "outputId": "84721aa4-c258-47a6-fb10-8943fc24a6d1"
      },
      "execution_count": 94,
      "outputs": [
        {
          "output_type": "stream",
          "name": "stdout",
          "text": [
            "False\n",
            "True\n"
          ]
        }
      ]
    },
    {
      "cell_type": "code",
      "source": [
        "# является ли подмножеством\n",
        "\n",
        "berries.issubset(fruits) \n",
        "# print(berries <= fruits) \n",
        "\n",
        "# аналогично, но в обратную сторону\n",
        "# fruits.issuperset(berries) \n",
        "# print(berries >= fruits)"
      ],
      "metadata": {
        "id": "0uQkOEdsmuye",
        "colab": {
          "base_uri": "https://localhost:8080/"
        },
        "outputId": "91162f8f-3ca4-45e4-8dbd-46c2aefb1f1a"
      },
      "execution_count": 95,
      "outputs": [
        {
          "output_type": "execute_result",
          "data": {
            "text/plain": [
              "False"
            ]
          },
          "metadata": {},
          "execution_count": 95
        }
      ]
    },
    {
      "cell_type": "code",
      "source": [
        "# объединение нескольких множеств \n",
        "\n",
        "print(fruits.union(berries))\n",
        "print(fruits | berries)"
      ],
      "metadata": {
        "id": "2NaZK0xFmyL-",
        "colab": {
          "base_uri": "https://localhost:8080/"
        },
        "outputId": "7558b962-b134-4042-a770-af867a5ff29a"
      },
      "execution_count": 97,
      "outputs": [
        {
          "output_type": "stream",
          "name": "stdout",
          "text": [
            "{'peaches', 'apples', 'cherries', 'persimmons', 'strawberry', 'oranges', 'pears', 'red currant'}\n",
            "{'peaches', 'apples', 'cherries', 'persimmons', 'strawberry', 'oranges', 'pears', 'red currant'}\n"
          ]
        }
      ]
    },
    {
      "cell_type": "code",
      "source": [
        "#  пересечение множеств (пустое, если нет общих элементов)\n",
        "\n",
        "print(fruits.intersection(berries))\n",
        "# print(fruits & berries)\n",
        "\n",
        "cars = [\"BMW\",\"Toyota\",\"Bentley\",\"Jeep\",\"Jeep\"]\n",
        "cars = set(cars)\n",
        "french_cars = {\"Peugeot\", \"Citroën\", \"Renault\", \"Jeep\"}\n",
        "print(cars.intersection(french_cars))"
      ],
      "metadata": {
        "id": "xMnNzaV6nFlA",
        "colab": {
          "base_uri": "https://localhost:8080/"
        },
        "outputId": "8f3d3a71-9263-4b99-d028-b203d728ab9b"
      },
      "execution_count": 99,
      "outputs": [
        {
          "output_type": "stream",
          "name": "stdout",
          "text": [
            "set()\n",
            "{'Jeep'}\n"
          ]
        }
      ]
    },
    {
      "cell_type": "code",
      "source": [
        "print(cars & french_cars)\n",
        "print(cars | french_cars)\n",
        "print(cars ^ french_cars) # только различное, симметрическая разница\n",
        "print(cars - french_cars)"
      ],
      "metadata": {
        "colab": {
          "base_uri": "https://localhost:8080/"
        },
        "id": "PmVqhrYZgPvL",
        "outputId": "e3e86b3f-00ba-4a88-f0f7-1925e9fed3d0"
      },
      "execution_count": 103,
      "outputs": [
        {
          "output_type": "stream",
          "name": "stdout",
          "text": [
            "{'Jeep'}\n",
            "{'Bentley', 'BMW', 'Renault', 'Toyota', 'Citroën', 'Peugeot', 'Jeep'}\n",
            "{'Bentley', 'BMW', 'Renault', 'Toyota', 'Citroën', 'Peugeot'}\n",
            "{'Bentley', 'BMW', 'Toyota'}\n"
          ]
        }
      ]
    },
    {
      "cell_type": "markdown",
      "source": [
        "###еще один вид множества - frozenset\n",
        "set изменяемый, frozenset - нет"
      ],
      "metadata": {
        "id": "W-U3GXfGnJTw"
      }
    },
    {
      "cell_type": "code",
      "source": [
        "a = set(\"random\") #'r', 'a', 'n'....\n",
        "b = frozenset('random')\n",
        "\n",
        "print(a == b) # давайте сравним множества"
      ],
      "metadata": {
        "id": "coh4_wibnNdI",
        "colab": {
          "base_uri": "https://localhost:8080/"
        },
        "outputId": "e9c19471-a227-4b9f-f0aa-e6c48f47f764"
      },
      "execution_count": 104,
      "outputs": [
        {
          "output_type": "stream",
          "name": "stdout",
          "text": [
            "True\n"
          ]
        }
      ]
    },
    {
      "cell_type": "code",
      "source": [
        "print(a.intersection(b))\n",
        "# print(a & b)"
      ],
      "metadata": {
        "id": "v0sueCdTnVfA",
        "colab": {
          "base_uri": "https://localhost:8080/"
        },
        "outputId": "25140873-6a9f-484c-cfd3-3c54170913c9"
      },
      "execution_count": 105,
      "outputs": [
        {
          "output_type": "stream",
          "name": "stdout",
          "text": [
            "{'m', 'a', 'n', 'o', 'd', 'r'}\n"
          ]
        }
      ]
    },
    {
      "cell_type": "code",
      "source": [
        "a.add(1) # изменим первое множество\n",
        "a.remove(\"m\")\n",
        "print(a)\n",
        "print(a.intersection(b))"
      ],
      "metadata": {
        "id": "F85UiJcBniS8",
        "colab": {
          "base_uri": "https://localhost:8080/"
        },
        "outputId": "f0858633-da2e-4d6e-9918-8ca67f85dc15"
      },
      "execution_count": 106,
      "outputs": [
        {
          "output_type": "stream",
          "name": "stdout",
          "text": [
            "{1, 'a', 'n', 'o', 'd', 'r'}\n",
            "{'a', 'n', 'o', 'd', 'r'}\n"
          ]
        }
      ]
    },
    {
      "cell_type": "code",
      "source": [
        "b.add(1)\n",
        "# мы не можем добавлять в frozenset"
      ],
      "metadata": {
        "id": "lUA2kGA9no4D",
        "colab": {
          "base_uri": "https://localhost:8080/",
          "height": 189
        },
        "outputId": "95a29a54-12fa-40fc-9448-a43775cddbaa"
      },
      "execution_count": 107,
      "outputs": [
        {
          "output_type": "error",
          "ename": "AttributeError",
          "evalue": "ignored",
          "traceback": [
            "\u001b[0;31m---------------------------------------------------------------------------\u001b[0m",
            "\u001b[0;31mAttributeError\u001b[0m                            Traceback (most recent call last)",
            "\u001b[0;32m<ipython-input-107-d55c586f5cac>\u001b[0m in \u001b[0;36m<module>\u001b[0;34m\u001b[0m\n\u001b[0;32m----> 1\u001b[0;31m \u001b[0mb\u001b[0m\u001b[0;34m.\u001b[0m\u001b[0madd\u001b[0m\u001b[0;34m(\u001b[0m\u001b[0;36m1\u001b[0m\u001b[0;34m)\u001b[0m\u001b[0;34m\u001b[0m\u001b[0;34m\u001b[0m\u001b[0m\n\u001b[0m\u001b[1;32m      2\u001b[0m \u001b[0;31m# мы не можем добавлять в frozenset\u001b[0m\u001b[0;34m\u001b[0m\u001b[0;34m\u001b[0m\u001b[0;34m\u001b[0m\u001b[0m\n",
            "\u001b[0;31mAttributeError\u001b[0m: 'frozenset' object has no attribute 'add'"
          ]
        }
      ]
    },
    {
      "cell_type": "markdown",
      "source": [
        "#Словарь (dict)\n",
        "коллекции произвольных объектов, записанные в виде пары ключ : значение (ключи уникальные, значения могут повторяться)\n",
        "\n",
        "( словари =ассоциативные массивы = хеш-таблицы)\n",
        "\n",
        "Давайте создадим словарь:"
      ],
      "metadata": {
        "id": "xOC9zbhhntDy"
      }
    },
    {
      "cell_type": "code",
      "source": [
        "#  помощью литерала {}\n",
        "d = {}\n",
        "print(d, type(d))"
      ],
      "metadata": {
        "id": "zevt8I7Onvzp"
      },
      "execution_count": null,
      "outputs": []
    },
    {
      "cell_type": "code",
      "source": [
        "d_names = {\"Jane\": [\"London\", 35], 'Olga': [\"Moscow\", 40], \"Mike\": [\"Spb\", 26]} \n",
        "# Jane, Olga - это ключи, списки - значения\n",
        "print(d_names)"
      ],
      "metadata": {
        "id": "63Cfr2vnn5HU"
      },
      "execution_count": null,
      "outputs": []
    },
    {
      "cell_type": "code",
      "source": [
        "# с помощью функции dict()\n",
        "d = dict(A=67, B=903)\n",
        "print(d)"
      ],
      "metadata": {
        "id": "h9RnIMu-oDke"
      },
      "execution_count": null,
      "outputs": []
    },
    {
      "cell_type": "code",
      "source": [
        "a = [\"Jane\", \"Oleg\", \"Mia\"]\n",
        "b = [25, 27, 56]\n",
        "\n",
        "res = zip(a,b)\n",
        "\n",
        "print(list(res))"
      ],
      "metadata": {
        "id": "XlJCI8P6oVdG"
      },
      "execution_count": null,
      "outputs": []
    },
    {
      "cell_type": "code",
      "source": [
        "#с помощью метода .fromkeys()\n",
        "d = dict.fromkeys(['Jane'], [\"LA\", \"Atlanta\"])\n",
        "print(d)"
      ],
      "metadata": {
        "id": "mxgcDVaLod83"
      },
      "execution_count": null,
      "outputs": []
    },
    {
      "cell_type": "code",
      "source": [
        "d = dict.fromkeys(['a', 'b'], 100)\n",
        "print(d)"
      ],
      "metadata": {
        "id": "XyuT1fVdov2L"
      },
      "execution_count": null,
      "outputs": []
    },
    {
      "cell_type": "code",
      "source": [
        "# получить значение по ключу (аналогично индексам)\n",
        "d = {1: \"A\", 2: \"B\", 3: \"C\"}\n",
        "print(d[2]) # достаем значение по ключу 2"
      ],
      "metadata": {
        "id": "-KfTQA-Io0CI"
      },
      "execution_count": null,
      "outputs": []
    },
    {
      "cell_type": "code",
      "source": [
        "d[4] = \"D\" # добавляем пару, где ключ = 4, а значение = D\n",
        "print(d) # посмотрим на весь словарь"
      ],
      "metadata": {
        "id": "J-owDxIFo8Ea"
      },
      "execution_count": null,
      "outputs": []
    },
    {
      "cell_type": "code",
      "source": [
        "# аналогично добавим новую пару в словарь с именами\n",
        "\n",
        "d_names[\"Jack\"] = [\"Toronto\", 35]\n",
        "print(d_names[\"Jack\"])"
      ],
      "metadata": {
        "id": "lIvdktXWpCQP"
      },
      "execution_count": null,
      "outputs": []
    },
    {
      "cell_type": "code",
      "source": [
        "# перезапишем значение по ключу \n",
        "\n",
        "print(d[2])\n",
        "d[2] = \"W\"\n",
        "print(d[2])\n",
        "print(d)"
      ],
      "metadata": {
        "id": "f4Lpupr-pKsc"
      },
      "execution_count": null,
      "outputs": []
    },
    {
      "cell_type": "code",
      "source": [
        "# присвоение по новому ключу расширяет словарь;\n",
        "# присвоение по существующему ключу перезаписывает его значение;\n",
        "# попытка извлечения несуществующего ключа порождает исключение (KeyError)."
      ],
      "metadata": {
        "id": "IE617qSSpPHE"
      },
      "execution_count": null,
      "outputs": []
    },
    {
      "cell_type": "markdown",
      "source": [
        "###Методы словарей"
      ],
      "metadata": {
        "id": "zbzZCZvcpSk_"
      }
    },
    {
      "cell_type": "code",
      "source": [
        "d = {'Jane': \"London\", 'Olga': \"Moscow\", \"Paul\" : \"Paris\", \"Ivan\" : \"Minsk\", \"Anne\" : \"Copenhagen\"}\n",
        "print(d)"
      ],
      "metadata": {
        "id": "hMkf0eBepSKa"
      },
      "execution_count": null,
      "outputs": []
    },
    {
      "cell_type": "code",
      "source": [
        "# так можно посмотреть все значения всех ключей в словаре\n",
        "print(d.values())\n",
        "\n",
        "# так можно посмотреть все ключи в словаре\n",
        "print(d.keys())       "
      ],
      "metadata": {
        "id": "8fVukL-Mphqt"
      },
      "execution_count": null,
      "outputs": []
    },
    {
      "cell_type": "code",
      "source": [
        "# значения и ключи можно сохранить в отдельный лист\n",
        "d_values = list(d.values())  \n",
        "print(d_values)\n",
        "d_keys = list(d.keys()) \n",
        "print(d_keys)"
      ],
      "metadata": {
        "id": "l5JXAHIIpks-"
      },
      "execution_count": null,
      "outputs": []
    },
    {
      "cell_type": "code",
      "source": [
        "# длина словаря -- это количество ключей \n",
        "print(len(d.keys()))"
      ],
      "metadata": {
        "id": "uGm0IAKRprGv"
      },
      "execution_count": null,
      "outputs": []
    },
    {
      "cell_type": "code",
      "source": [
        "# так можно посмотреть пары (ключ, значение) в виде списка кортежей\n",
        "print(list(d.items()))"
      ],
      "metadata": {
        "id": "adBNuhtMptJP"
      },
      "execution_count": null,
      "outputs": []
    },
    {
      "cell_type": "code",
      "source": [
        "# расширение словаря\n",
        "new_dict = {\"Alexander\":\"Bonn\", \"Julia\":\"Madrid\"}\n",
        "\n",
        "d.update(new_dict) # обновляет словарь, добавляя пары (ключ, значение)\n",
        "print(d)"
      ],
      "metadata": {
        "id": "WOsE8kljp66f"
      },
      "execution_count": null,
      "outputs": []
    },
    {
      "cell_type": "code",
      "source": [
        "print(d.pop(\"Jane\")) # удаляет ключ и возвращает значение"
      ],
      "metadata": {
        "id": "gSBvZZOVp8ZO"
      },
      "execution_count": null,
      "outputs": []
    },
    {
      "cell_type": "code",
      "source": [
        "print(d.popitem()) # удаляет и возвращает пару (ключ, значение)"
      ],
      "metadata": {
        "id": "hC3hYxLgp_xG"
      },
      "execution_count": null,
      "outputs": []
    },
    {
      "cell_type": "code",
      "source": [
        "# а так очищаем словарь\n",
        "d.clear() \n",
        "print(d)"
      ],
      "metadata": {
        "id": "H1aJU8M5qL8-"
      },
      "execution_count": null,
      "outputs": []
    },
    {
      "cell_type": "markdown",
      "source": [
        "Все контейнеры можно перебирать циклами for и while"
      ],
      "metadata": {
        "id": "J1pEq04iqMdf"
      }
    }
  ]
}