{
  "nbformat": 4,
  "nbformat_minor": 0,
  "metadata": {
    "colab": {
      "provenance": [],
      "authorship_tag": "ABX9TyPzG8oyiML+Q2f9oLj6pmpx",
      "include_colab_link": true
    },
    "kernelspec": {
      "name": "python3",
      "display_name": "Python 3"
    },
    "language_info": {
      "name": "python"
    }
  },
  "cells": [
    {
      "cell_type": "markdown",
      "metadata": {
        "id": "view-in-github",
        "colab_type": "text"
      },
      "source": [
        "<a href=\"https://colab.research.google.com/github/AnnSenina/Python_for_CL/blob/main/notebooks/Python_13_Viz.ipynb\" target=\"_parent\"><img src=\"https://colab.research.google.com/assets/colab-badge.svg\" alt=\"Open In Colab\"/></a>"
      ]
    },
    {
      "cell_type": "markdown",
      "source": [
        "#Matplotlib, seaborn и др."
      ],
      "metadata": {
        "id": "F797-kz5_wPK"
      }
    },
    {
      "cell_type": "code",
      "source": [
        "# все библиотеки и импорты разом:\n",
        "!pip install matplotlib \n",
        "!pip install seaborn\n",
        "\n",
        "from nltk import Text as nltk_text\n",
        "from collections import Counter\n",
        "import pandas as pd\n",
        "import matplotlib.pyplot as plt # традиционное сокращение\n",
        "from matplotlib import cm\n",
        "import seaborn as sns "
      ],
      "metadata": {
        "id": "q9DvGC8H4_Dl"
      },
      "execution_count": null,
      "outputs": []
    },
    {
      "cell_type": "markdown",
      "source": [
        "Внезапно - начнем не с чисел!"
      ],
      "metadata": {
        "id": "KS9HoUN9BveK"
      }
    },
    {
      "cell_type": "markdown",
      "source": [
        "Системный Блокъ\n",
        "\n",
        "Ищем смыслы: как сделать тематическое моделирование корпуса текстов\n",
        "Тематическое моделирование — легкий способ понять смысловой состав большой коллекции текстов, которую невозможно быстро прочесть глазами. Пользоваться инструментами тематического моделирования может каждый — а научиться можно в тьюториале. Здесь вы найдете пошаговое руководство с решением основных технических трудностей\n",
        "\n",
        "\n",
        "Как работает тематическое моделирование?\n",
        "Тематическое моделирование (topic modeling) — это способ научить машину выделять в текстах содержательные темы. Например, проанализировав массив новостных и публицистических текстов о протестных митингах, машина может выделить там темы (топики) «полицейское насилие», «география Москвы», «требования и лозунги» и др.\n",
        "\n",
        "Естественно, компьютеры не могут понять смысл статей напрямую. Но если есть большая коллекция текстов с разными темами, то вероятности совместного употребления слов позволяют нам выделить отдельные тематические пласты — примерно, как химики разделяют нефть на фракции: бензин, керосин, солярка, мазут, асфальт…\n",
        "\n",
        "*Текст взят [отсюда](https://sysblok.ru/nlp/ishhem-smysly-kak-sdelat-tematicheskoe-modelirovanie-korpusa-tekstov/)*"
      ],
      "metadata": {
        "id": "fQraHdeEceQT"
      }
    },
    {
      "cell_type": "code",
      "source": [
        "from nltk import Text as nltk_text\n",
        "\n",
        "text = 'системный блок искать смысл как сделать тематический моделирование корпус текст тематический моделирование легкий способ понимать смысловой состав большой коллекция текст который невозможно быстро прочитывать глаз пользоваться инструмент тематический моделирование мочь каждый а научиться можно в тьюториал здесь вы находить пошаговый руководство с решение основной технический трудность как работать тематический моделирование тематический моделирование topic modeling это способ научить машина выделять в текст содержательный тема например проанализировать массив новостной и публицистический текст о протестный митинг машина мочь выделить там тема топик полицейский насилие география москва требование и лозунг и др естественно компьютер не мочь понимать смысл статья напрямую но если быть большой коллекция текст с разный тема то вероятность совместный употребление слово позволять мы выделять отдельный тематический пласт примерно как химик разделять нефть на фракция бензин керосин солярка мазут асфальт'\n",
        "text = nltk_text(text.split())\n",
        "text.dispersion_plot(['текст', 'моделирование', 'машина'])"
      ],
      "metadata": {
        "id": "fjrnCQJ_bOhH"
      },
      "execution_count": null,
      "outputs": []
    },
    {
      "cell_type": "code",
      "source": [
        "text2 = 'маленький елочка холодно зима из лес елочка взять мы домой из лес елочка взять мы домой сколько на елочка шарик цветной розовый пряник шишка золотой розовый пряник шишка золотой бусы повесить вставать в хоровод весело весело встречать новый год весело весело встречать новый год маленький елочка холодно зима из лес елочка взять мы домой беленький заинька елочка просить мятный пряничек зайка приносить белочка прыгать в шубка голубой елочка елочка я пойти с ты маленький елочка в комната тепло заяц и белочка дышать на стекло красный зяблик виться у окно в теплый проталинка елочка видный сколько на елочка шарик цветной розовый пряник шишка золотой сколько под елочка маленький ребята топать хлопать весело кричать елочка елочка яркий огонь синий бусы елочка звенеть ветка нарядный низко опускать мы шоколадный рыбка угощать вставать под елочка в дружный хоровод весело весело встречать новый год'\n",
        "# создайте dispersion_plot для песенки\n",
        "\n"
      ],
      "metadata": {
        "id": "84ClA7oebOTh"
      },
      "execution_count": null,
      "outputs": []
    },
    {
      "cell_type": "markdown",
      "source": [
        "Чудесная [тетрадка](https://colab.research.google.com/drive/1a_3_lQtI0HmaLNlouMsNjIImCP8LVFHg?usp=sharing) моего коллеги Д. Скоринкина про тематическое моделирование в Python"
      ],
      "metadata": {
        "id": "HiNjfkvDgA83"
      }
    },
    {
      "cell_type": "markdown",
      "source": [
        "## Matplotlib"
      ],
      "metadata": {
        "id": "KwwJQYJed7WL"
      }
    },
    {
      "cell_type": "markdown",
      "source": [
        "Matplotlib -- это одна из классических библиотек для визуализации данных в Python\n"
      ],
      "metadata": {
        "id": "gugGrkKPAOCz"
      }
    },
    {
      "cell_type": "code",
      "execution_count": null,
      "metadata": {
        "id": "PHyBaqs5YV_N"
      },
      "outputs": [],
      "source": [
        "!pip install matplotlib # ячейка установки библиотеки в первый раз"
      ]
    },
    {
      "cell_type": "markdown",
      "source": [
        "Визуализации в MatPlotLib обычно делают с помощью `pyplot` \n",
        "— специального объекта, методы которого позволяют создавать и изменять графики. Импортируем его: "
      ],
      "metadata": {
        "id": "FYwXg03dAaY-"
      }
    },
    {
      "cell_type": "code",
      "source": [
        "import matplotlib.pyplot as plt # традиционное сокращение\n",
        "import pandas as pd"
      ],
      "metadata": {
        "id": "j-yqDoObAYw5"
      },
      "execution_count": 5,
      "outputs": []
    },
    {
      "cell_type": "markdown",
      "source": [
        "## Теперь начинаем с чисел"
      ],
      "metadata": {
        "id": "vv7N8QfkBf6W"
      }
    },
    {
      "cell_type": "code",
      "source": [
        "covid = pd.read_csv('cases_regions_2022-02-03.csv')\n",
        "covid\n",
        "#print(covid)"
      ],
      "metadata": {
        "id": "CTQ-jHuIQSxw"
      },
      "execution_count": null,
      "outputs": []
    },
    {
      "cell_type": "code",
      "source": [
        "covid['Москва'][660:691] #январь"
      ],
      "metadata": {
        "id": "nNHINK3BQthN"
      },
      "execution_count": null,
      "outputs": []
    },
    {
      "cell_type": "code",
      "source": [
        "plt.plot(covid['Москва'][660:691]) #plot - линейный график\n",
        "plt.show()"
      ],
      "metadata": {
        "id": "Chh_lVQaRJQV"
      },
      "execution_count": null,
      "outputs": []
    },
    {
      "cell_type": "code",
      "source": [
        "plt.plot(covid['Москва'][660:691]) #plot - линейный график\n",
        "plt.savefig('my_covid_plot') # создаст png"
      ],
      "metadata": {
        "id": "vmyD0vP6Rnol"
      },
      "execution_count": null,
      "outputs": []
    },
    {
      "cell_type": "markdown",
      "source": [
        "Внимание! Вопрос: что на графике обозначают числа 660-690?"
      ],
      "metadata": {
        "id": "xwYdimZgTl9V"
      }
    },
    {
      "cell_type": "code",
      "source": [
        "plt.plot(\n",
        "    [f'{i}' for i in range(1, 32)], # сгенерируем подписи по оси x\n",
        "    covid['Москва'][660:691] # ось Y\n",
        "    )\n",
        "plt.show()"
      ],
      "metadata": {
        "id": "KhIGVpAhTAIo"
      },
      "execution_count": null,
      "outputs": []
    },
    {
      "cell_type": "markdown",
      "source": [
        "Данные расположились по оси y\n",
        "\n",
        "Добавим красивые подписи по оси х: отобразить подписи вертикально внутри .plot нельзя. Для этого есть отдельный метод под названием xticks:"
      ],
      "metadata": {
        "id": "kRStui0XStFN"
      }
    },
    {
      "cell_type": "code",
      "source": [
        "plt.plot(\n",
        "    [f'{i} янв' for i in range(1, 32)], # ось X с подписями\n",
        "    covid['Москва'][660:691] # ось Y\n",
        "    )\n",
        "plt.xticks(rotation=90) # показать подписи вертикально = под углом 90 градусов\n",
        "plt.show()"
      ],
      "metadata": {
        "id": "pyHEosuiR25X"
      },
      "execution_count": null,
      "outputs": []
    },
    {
      "cell_type": "code",
      "source": [
        "plt.plot(\n",
        "    [f'{i} января' for i in range(1, 32)], # ось X\n",
        "    covid['Москва'][660:691] # ось Y\n",
        "    )\n",
        "plt.xticks(rotation=45)\n",
        "plt.show()"
      ],
      "metadata": {
        "id": "NiP4CtHNBqsA"
      },
      "execution_count": null,
      "outputs": []
    },
    {
      "cell_type": "code",
      "source": [
        "# вместо подписей по оси x можно задать координаты\n",
        "plt.plot(\n",
        "    range(1, 32), # ось X\n",
        "    covid['Москва'][660:691] # ось Y\n",
        "    )\n",
        "plt.xticks(rotation=90)\n",
        "plt.show()"
      ],
      "metadata": {
        "id": "qJqw2eJBTN-h"
      },
      "execution_count": null,
      "outputs": []
    },
    {
      "cell_type": "code",
      "source": [
        "# вместо подписей по оси x можно задать координаты\n",
        "plt.plot(\n",
        "    range(1, 32), # ось X\n",
        "    covid['Москва'][660:691], # ось Y\n",
        "    marker='o' # через запятую добавлели маркеры - точки\n",
        "    )\n",
        "plt.xticks(rotation=90)\n",
        "plt.show()"
      ],
      "metadata": {
        "id": "YGejdxH6Tg8l"
      },
      "execution_count": null,
      "outputs": []
    },
    {
      "cell_type": "code",
      "source": [
        "# запись можно сократить и упростить\n",
        "\n",
        "\n",
        "x = [f'{i} янв' for i in range(1, 32)]\n",
        "y = covid['Москва'][660:691]\n",
        "\n",
        "plt.plot(x, y, marker='o')\n",
        "plt.xticks(rotation=90)\n",
        "plt.show()"
      ],
      "metadata": {
        "id": "3MBqbTSxU9Y4"
      },
      "execution_count": null,
      "outputs": []
    },
    {
      "cell_type": "code",
      "source": [
        "# сравним:\n",
        "plt.plot(x, y, 'o') # точки, без линии\n",
        "plt.xticks(rotation=90)\n",
        "plt.show()"
      ],
      "metadata": {
        "id": "AOoCqZchVJe4"
      },
      "execution_count": null,
      "outputs": []
    },
    {
      "cell_type": "code",
      "source": [
        "plt.plot(x, y, 'ro') # угадайте, что значит ro?\n",
        "plt.xticks(rotation=90)\n",
        "plt.show()"
      ],
      "metadata": {
        "id": "0upPrCTJUfBK"
      },
      "execution_count": null,
      "outputs": []
    },
    {
      "cell_type": "code",
      "source": [
        "plt.plot(x, y, 'g^')\n",
        "plt.xticks(rotation=90)\n",
        "plt.show()"
      ],
      "metadata": {
        "id": "xwPxzLTPVS4V"
      },
      "execution_count": null,
      "outputs": []
    },
    {
      "cell_type": "code",
      "source": [
        "plt.plot(x, y, marker = 's', linestyle = ':', color = 'orange') \n",
        "plt.xticks(rotation=90)\n",
        "plt.show()"
      ],
      "metadata": {
        "id": "TXBqlwR_Vqyi"
      },
      "execution_count": null,
      "outputs": []
    },
    {
      "cell_type": "markdown",
      "source": [
        "Вот [здесь](https://matplotlib.org/api/_as_gen/matplotlib.pyplot.plot.html#matplotlib.pyplot.plot) описаны все варианты задания цветов, точек и формы штриха."
      ],
      "metadata": {
        "id": "RNMfL4C2VjI0"
      }
    },
    {
      "cell_type": "markdown",
      "source": [
        "### Размер холста через pyplot\n",
        "\n",
        "можно вызвать метод figure и задать размер через него:"
      ],
      "metadata": {
        "id": "kDeslAVjV4TV"
      }
    },
    {
      "cell_type": "code",
      "source": [
        "plt.figure(figsize=(10, 5)) # указываем размер\n",
        "plt.plot(x, y, marker = 's', linestyle = ':', color = 'orange') \n",
        "plt.xticks(rotation=90)\n",
        "plt.show()"
      ],
      "metadata": {
        "id": "MzATMDvPVmz0"
      },
      "execution_count": null,
      "outputs": []
    },
    {
      "cell_type": "markdown",
      "source": [
        "## Отобразим несколько показателей"
      ],
      "metadata": {
        "id": "ubCN-wDMWbUY"
      }
    },
    {
      "cell_type": "code",
      "source": [
        "x = [f'{i} янв' for i in range(1, 32)]\n",
        "\n",
        "y1 = covid['Москва'][660:691]\n",
        "y2 = covid['Санкт-Петербург'][660:691]\n",
        "y3 = covid['Пермский край'][660:691]\n",
        "\n",
        "plt.figure(figsize=(12,8))\n",
        "plt.plot(x, y1, '.')\n",
        "plt.plot(x, y2, '^') \n",
        "plt.plot(x, y3, 's') \n",
        "plt.xticks(rotation=90)\n",
        "plt.show()"
      ],
      "metadata": {
        "id": "k3No26lOWFm5"
      },
      "execution_count": null,
      "outputs": []
    },
    {
      "cell_type": "code",
      "source": [
        "# можно использовать короткую запись\n",
        "plt.figure(figsize=(12,8))\n",
        "plt.plot(x, y1, '.', x, y2, '^', x, y3, 's')\n",
        "plt.xticks(rotation=90)\n",
        "plt.show()"
      ],
      "metadata": {
        "id": "JTagjwcbXPS5"
      },
      "execution_count": null,
      "outputs": []
    },
    {
      "cell_type": "code",
      "source": [
        "# можно использовать короткую запись\n",
        "plt.figure(figsize=(12,8))\n",
        "plt.plot(x, y1, '.', x, y2, '^', x, y3, 's')\n",
        "plt.xticks(rotation=90)\n",
        "plt.grid() # задает сетку на графике\n",
        "plt.show()"
      ],
      "metadata": {
        "id": "mDaeMfHyXgd1"
      },
      "execution_count": null,
      "outputs": []
    },
    {
      "cell_type": "markdown",
      "source": [
        "Добавим легенду"
      ],
      "metadata": {
        "id": "rlbIOQaPXzrJ"
      }
    },
    {
      "cell_type": "code",
      "source": [
        "# можно использовать короткую запись\n",
        "plt.figure(figsize=(12,8))\n",
        "plt.plot(x, y1, '.', x, y2, '^', x, y3, 's')\n",
        "plt.xticks(rotation=90)\n",
        "plt.grid()\n",
        "plt.legend(['Москва', 'Санкт-Петербург', 'Пермь']) # но создатели библиотеки рекомендуют другой способ\n",
        "plt.show()\n",
        "\n",
        "# можно почитать здесь https://matplotlib.org/stable/api/_as_gen/matplotlib.pyplot.legend.html#matplotlib.pyplot.legend"
      ],
      "metadata": {
        "id": "0D_LRqfUXwSP"
      },
      "execution_count": null,
      "outputs": []
    },
    {
      "cell_type": "code",
      "source": [
        "plt.figure(figsize=(10,6))\n",
        "plt.plot(x, y1, '.', label='Москва')\n",
        "plt.plot(x, y2, '^', label='Санкт-Петербург') \n",
        "plt.plot(x, y3, 's', label='Пермь') \n",
        "plt.xticks(rotation=90)\n",
        "plt.grid()\n",
        "plt.legend() \n",
        "plt.show()"
      ],
      "metadata": {
        "id": "6b4O7CFAY71_"
      },
      "execution_count": null,
      "outputs": []
    },
    {
      "cell_type": "code",
      "source": [
        "plt.figure(figsize=(10,6))\n",
        "\n",
        "# заголовок и его стили\n",
        "plt.title('Статистика по ковиду для Москвы и Санкт-Петербурга и Перми', fontsize=16, color='green', fontstyle='italic', fontfamily='serif')\n",
        "\n",
        "plt.plot(x, y1, '.', label='Москва')\n",
        "plt.plot(x, y2, '^', label='Санкт-Петербург') \n",
        "plt.plot(x, y3, 's', label='Пермь') \n",
        "\n",
        "# подписи осей\n",
        "plt.xticks(rotation=90, fontsize=16)\n",
        "plt.xlabel('Дни', fontsize=16)\n",
        "plt.ylabel('Заражения в день', fontsize=16)\n",
        "\n",
        "plt.legend(fontsize=16)\n",
        "plt.show()"
      ],
      "metadata": {
        "id": "9BGA8eH-ZSK4"
      },
      "execution_count": null,
      "outputs": []
    },
    {
      "cell_type": "markdown",
      "source": [
        "Методы пайплота, которые отвечают за текст на графиках ([см.тут](https://matplotlib.org/stable/api/text_api.html#matplotlib.text.Text))"
      ],
      "metadata": {
        "id": "0csX8zNAaiCG"
      }
    },
    {
      "cell_type": "markdown",
      "source": [
        "# Задание\n",
        "\n",
        "Постройте график для любых 2 субъектов (кроме Москвы, Санкт-Петербурга и Пермского края)\n",
        "\n",
        "Можно выбрать из датафрейма не январь\n",
        "\n",
        "У графика должны быть заголовок, подписи и названия осей"
      ],
      "metadata": {
        "id": "YgRTYNHkaqaI"
      }
    },
    {
      "cell_type": "code",
      "source": [],
      "metadata": {
        "id": "gMqTNQ3mapd9"
      },
      "execution_count": null,
      "outputs": []
    },
    {
      "cell_type": "markdown",
      "source": [
        "## Другие типы графиков matplotlib"
      ],
      "metadata": {
        "id": "bnuKRZUIgcOY"
      }
    },
    {
      "cell_type": "code",
      "source": [
        "plt.bar(x, y1) # бар-чарт, столбики\n",
        "plt.xticks(rotation=90)\n",
        "plt.show()"
      ],
      "metadata": {
        "id": "b40-V90ngbGI"
      },
      "execution_count": null,
      "outputs": []
    },
    {
      "cell_type": "code",
      "source": [
        "# с текстом тоже может быть интересно!\n",
        "\n",
        "from collections import Counter\n",
        "\n",
        "text = 'системный блок искать смысл как сделать тематический моделирование корпус текст тематический моделирование легкий способ понимать смысловой состав большой коллекция текст который невозможно быстро прочитывать глаз пользоваться инструмент тематический моделирование мочь каждый а научиться можно в тьюториал здесь вы находить пошаговый руководство с решение основной технический трудность как работать тематический моделирование тематический моделирование topic modeling это способ научить машина выделять в текст содержательный тема например проанализировать массив новостной и публицистический текст о протестный митинг машина мочь выделить там тема топик полицейский насилие география москва требование и лозунг и др естественно компьютер не мочь понимать смысл статья напрямую но если быть большой коллекция текст с разный тема то вероятность совместный употребление слово позволять мы выделять отдельный тематический пласт примерно как химик разделять нефть на фракция бензин керосин солярка мазут асфальт'\n",
        "freqs_list = Counter(text.split()).most_common(3)\n",
        "print(freqs_list)\n",
        "\n",
        "values = [pair[1] for pair in freqs_list] # создаем список с частотами\n",
        "labels = [pair[0] for pair in freqs_list] # создаем список слов в том же порядке\n",
        "\n",
        "plt.bar(labels, values) # передаем данные в отрисовщик бар-чартов\n",
        "plt.show()"
      ],
      "metadata": {
        "id": "uRuAzgYMAcq1"
      },
      "execution_count": null,
      "outputs": []
    },
    {
      "cell_type": "code",
      "source": [
        "plt.hist(y1) # гистограмма\n",
        "plt.show() "
      ],
      "metadata": {
        "id": "IysaHUKGjme0"
      },
      "execution_count": null,
      "outputs": []
    },
    {
      "cell_type": "code",
      "source": [
        "plt.hist(y1, bins=5) # количество столбцов (=диапазонов), можно задать bins = len(y1)\n",
        "plt.show() "
      ],
      "metadata": {
        "id": "DovXQxchhp67"
      },
      "execution_count": null,
      "outputs": []
    },
    {
      "cell_type": "code",
      "source": [
        "# pie - круговая диаграмма, на наших данных - полная ерунда\n",
        "plt.pie(y1, labels=x)\n",
        "plt.show()"
      ],
      "metadata": {
        "id": "y8zNiludg3rC"
      },
      "execution_count": null,
      "outputs": []
    },
    {
      "cell_type": "code",
      "source": [
        "# другой пример\n",
        "plt.pie([0.55, 0.20, 0.15, 0.05, 0.05], labels=['Chrome', 'Safari', 'Firefox', 'Edge', 'Other'])\n",
        "plt.show()"
      ],
      "metadata": {
        "id": "f-zDjF3LhN0o"
      },
      "execution_count": null,
      "outputs": []
    },
    {
      "cell_type": "markdown",
      "source": [
        "А теперь давайте попробуем рисовать при помощи функции scatter, которая работает несколько медленнее, но обладает большей функциональностью ([см. здесь](https://matplotlib.org/api/_as_gen/matplotlib.pyplot.scatter.html#matplotlib.pyplot.scatter)).\n",
        "\n",
        "Так как scatter по определению - это набор точек, которые не должны соединяться между собой, а просто бросаются на плоскость, то отрисовать линию с его помощью не получится.\n",
        "Также в scatter нельзя передать сразу цвет и вид точки/штриха, поэтому используем параметры color и marker.\n",
        "\n",
        "Параметр alpha можно применять почти везде. Он показывает степень прозрачности графика, легенды (0 = полностью прозрачен; 1 = абсолютно непрозрачен)\n",
        "\n",
        "Помимо этого для каждой из точек можно задавать размер маркера (параметр s, size) и его цвет (параметр c, colour)."
      ],
      "metadata": {
        "id": "Gt-EA77AkpIP"
      }
    },
    {
      "cell_type": "code",
      "source": [
        "x = [f'{i} янв' for i in range(1, 32)]\n",
        "y = covid['Москва'][660:691]\n",
        "\n",
        "c = 'green'\n",
        "\n",
        "s = [i * 0.1 for i in y] # 0.1 - просто чтобы красиво отобразить именно эти данные, у нас достаточно большие числа\n",
        "#s = 100 # размер можно сделать статичным\n",
        "\n",
        "plt.scatter(x, y, c = c, s = s, alpha = 0.3) # попробуйте поменять параметр alpha\n",
        "\n",
        "plt.xticks(rotation=90)\n",
        "plt.show()"
      ],
      "metadata": {
        "id": "6uTAGeGTkwwp"
      },
      "execution_count": null,
      "outputs": []
    },
    {
      "cell_type": "markdown",
      "source": [
        "Цвет графика можно задать при помощи цветовой карты. Для использования стандартных цветовых карт необходимо загрузить их из matplotlib:\n",
        "from matplotlib import cm\n",
        "\n",
        "Ту, что больше нравится, стоит присвоить в параметр cmap \n",
        "\n",
        "А здесь [ссылка с описанием и названиями цветовых карт](https://matplotlib.org/3.1.0/tutorials/colors/colormaps.html)"
      ],
      "metadata": {
        "id": "b3HQ6kLsmUWF"
      }
    },
    {
      "cell_type": "code",
      "source": [
        "from matplotlib import cm\n",
        "\n",
        "x = [f'{i} янв' for i in range(1, 32)]\n",
        "y = covid['Москва'][660:691]\n",
        "\n",
        "c = [i for i in y] # нужен список, чтобы для разных точек сгенерировать разные цвета!\n",
        "s = [i * 0.1 for i in y]\n",
        "\n",
        "plt.scatter(x, y, c = c, s = s, alpha=0.5, cmap=cm.magma)\n",
        "\n",
        "plt.xticks(rotation=90)\n",
        "plt.show()"
      ],
      "metadata": {
        "id": "LFiskDH-myoE"
      },
      "execution_count": null,
      "outputs": []
    },
    {
      "cell_type": "code",
      "source": [
        "# можно также строить облако точек для поиска зависимости между разными показателями\n",
        "plt.scatter(x = covid['Москва'][660:691], y = covid['Санкт-Петербург'][660:691])\n",
        "plt.show()\n",
        "# для наших данных - не очень интересно, хотя смысл все же есть:\n",
        "# заболеваемость в Москве и Петербурге связаны - общие волны ковида, очевидно, сильно прокатились по крупным городам"
      ],
      "metadata": {
        "id": "nxC-sVQry08e"
      },
      "execution_count": null,
      "outputs": []
    },
    {
      "cell_type": "markdown",
      "source": [
        "## А если наши данные - категориальные?"
      ],
      "metadata": {
        "id": "DyXAKz4Bo8nH"
      }
    },
    {
      "cell_type": "markdown",
      "source": [
        "Иногда мы имеем дело с данными, которые выражены не числами.\n",
        "\n",
        "Предположим, имя и возраст человека:"
      ],
      "metadata": {
        "id": "JJS49RXnpE0y"
      }
    },
    {
      "cell_type": "code",
      "source": [
        "data = {'Paul' : 68, 'Jane' : 25, \"Diana\" : 102} \n",
        "names = list(data.keys())\n",
        "values = list(data.values())\n",
        "\n",
        "fig, axs = plt.subplots(1,3, figsize=(10, 3)) # subplots - позволяет строить несколько графиков рядом, в т.ч. графики разных типов\n",
        "\n",
        "axs[0].plot(names, values, \"b--\")\n",
        "axs[1].scatter(names, values, s = [i * 10 for i in values], alpha=0.5, color = \"green\")\n",
        "axs[2].bar(names, values, color = \"pink\")\n",
        "\n",
        "fig.suptitle('Categorical Plotting')\n",
        "plt.show()"
      ],
      "metadata": {
        "id": "D0hYN1MIpAtH"
      },
      "execution_count": null,
      "outputs": []
    },
    {
      "cell_type": "markdown",
      "source": [
        "См.разные типы графиков [здесь](https://matplotlib.org/stable/plot_types/index.html)\n",
        "\n",
        "Также от моих коллег - подборка разных ресурсов для вдохновения:\n",
        "\n",
        "- https://www.data-to-viz.com/\n",
        "\n",
        "- https://datavizproject.com/\n",
        "\n",
        "- https://datavizcatalogue.com/RU/"
      ],
      "metadata": {
        "id": "fG16UlEZrn3g"
      }
    },
    {
      "cell_type": "markdown",
      "source": [
        "# Seaborn"
      ],
      "metadata": {
        "id": "DZ8R-J0_q_MX"
      }
    },
    {
      "cell_type": "markdown",
      "source": [
        "Простые графики можно строить в matplotlib (а еще он отлично интергрирован с pandas), но работать категориальными данными удобнее в seaborn\n",
        "\n",
        "Seaborn — это более новая надстройка над matplotlib, которая заметно проще и \"сразу делает красиво\". Документация [здесь](https://seaborn.pydata.org)\n"
      ],
      "metadata": {
        "id": "4-7-Crl8rLMF"
      }
    },
    {
      "cell_type": "code",
      "source": [
        "#!pip install seaborn"
      ],
      "metadata": {
        "id": "nWqFf0f4rDuu"
      },
      "execution_count": null,
      "outputs": []
    },
    {
      "cell_type": "code",
      "source": [
        "import seaborn as sns "
      ],
      "metadata": {
        "id": "yDkpivN1shtT"
      },
      "execution_count": 163,
      "outputs": []
    },
    {
      "cell_type": "code",
      "source": [
        "sns.lineplot(x, y1) \n",
        "plt.xticks(rotation=90) \n",
        "plt.show()\n",
        "# так делать можно - но seaborn ругается: ему больше нравятся столбцы датафрейма, чем оси x, y"
      ],
      "metadata": {
        "id": "ur-Xu425s11q"
      },
      "execution_count": null,
      "outputs": []
    },
    {
      "cell_type": "code",
      "source": [
        "city = covid[['Москва','Санкт-Петербург']] # возьмем все данные по ковиду в М и СПб\n",
        "city"
      ],
      "metadata": {
        "id": "vMg52NOct523"
      },
      "execution_count": null,
      "outputs": []
    },
    {
      "cell_type": "code",
      "source": [
        "sns.lineplot(data = city)\n",
        "plt.show()"
      ],
      "metadata": {
        "id": "4ghg6pBftH71"
      },
      "execution_count": null,
      "outputs": []
    },
    {
      "cell_type": "markdown",
      "source": [
        "В seaborn есть несколько датасетов от создателей библиотеки. Можно скачать [отсюда](https://github.com/mwaskom/seaborn-data), если не откроются через load_dataset(), встроенный в библиотеку"
      ],
      "metadata": {
        "id": "mX_h283iv7d0"
      }
    },
    {
      "cell_type": "code",
      "source": [
        "tips = sns.load_dataset(\"tips\")"
      ],
      "metadata": {
        "id": "Mt4Dchlfu64I"
      },
      "execution_count": 196,
      "outputs": []
    },
    {
      "cell_type": "code",
      "source": [
        "tips.head()\n",
        "# print(tips.head())"
      ],
      "metadata": {
        "id": "BEJz88fowMwQ"
      },
      "execution_count": null,
      "outputs": []
    },
    {
      "cell_type": "code",
      "source": [
        "# если команды выше не сработали\n",
        "# датасеты можно передать в pandas прямо с гитхаба по raw-ссылке:\n",
        "tips = pd.read_csv('https://raw.githubusercontent.com/mwaskom/seaborn-data/master/tips.csv')\n",
        "tips"
      ],
      "metadata": {
        "id": "OiYAySZUwb8r"
      },
      "execution_count": null,
      "outputs": []
    },
    {
      "cell_type": "markdown",
      "source": [
        "Давайте визуализируем распределения общего счета по дням недели. Для визуализации потребуется метод .catplot() Заголовки соответвующих ячеек присвоим аргументам x и y.\n",
        "\n",
        "Тип отображения (параметр kind)тоже можно менять (попробуйте \"point\", \"bar\", \"strip\", \"swarm\", \"box\", \"violin\" или \"boxen\")"
      ],
      "metadata": {
        "id": "Y2bX3IJTxek1"
      }
    },
    {
      "cell_type": "code",
      "source": [
        "sns.catplot(x = \"day\", y = \"total_bill\", kind= \"bar\", data = tips)\n",
        "plt.show()"
      ],
      "metadata": {
        "id": "hk734ZVFxeR5"
      },
      "execution_count": null,
      "outputs": []
    },
    {
      "cell_type": "markdown",
      "source": [
        "Можно достаточно легко и быстро отобразить на графике несколько показателей:\n",
        "\n",
        "Ниже - распределение значений итогового счета(ось y) в зависимости от пола (ось x). Дополнительно цветом (параметр hue) можно закодировать еще одно значение с помощью цвета. Например,является ли посетитель курильщиком"
      ],
      "metadata": {
        "id": "O1GUmMbTx0Vn"
      }
    },
    {
      "cell_type": "code",
      "source": [
        "sns.catplot(x = \"sex\", y = \"total_bill\", hue = \"smoker\", kind = \"bar\", data = tips)\n",
        "plt.show()"
      ],
      "metadata": {
        "id": "fLjqdFo9xUXV"
      },
      "execution_count": null,
      "outputs": []
    },
    {
      "cell_type": "code",
      "source": [
        "# так выглядит распределение размера счета и чаевых\n",
        "sns.catplot(x = \"total_bill\", y = \"tip\", kind = \"strip\", data=tips)\n",
        "plt.show()\n",
        "# не самая удачная визуализация, еще и долго строится - есть решение лучше"
      ],
      "metadata": {
        "id": "Cm3zurjxygXw"
      },
      "execution_count": null,
      "outputs": []
    },
    {
      "cell_type": "code",
      "source": [
        "# jointplot - показывает распределение по 2 переменным + в hue можно добавить категориальные данные\n",
        "sns.jointplot(x ='total_bill', y = 'tip', hue = 'sex', data = tips)\n",
        "plt.show()"
      ],
      "metadata": {
        "id": "JrWcG5AV7Jkb"
      },
      "execution_count": null,
      "outputs": []
    },
    {
      "cell_type": "code",
      "source": [
        "# можно строить линейную регрессию (для определения зависимости двух показателей, рассчитывается функция линейной зависимости)\n",
        "sns.lmplot(x ='total_bill', y = 'tip', data = tips)\n",
        "plt.show()"
      ],
      "metadata": {
        "id": "CN9b1PmI7-uy"
      },
      "execution_count": null,
      "outputs": []
    },
    {
      "cell_type": "code",
      "source": [
        "# заодно проверим, меняются ли счет / чаевые в связи со временем посещения - в обед или ужин\n",
        "sns.lmplot(x ='total_bill', y = 'tip', hue = 'time', data = tips)\n",
        "plt.show()"
      ],
      "metadata": {
        "id": "xuUK9Zvr817e"
      },
      "execution_count": null,
      "outputs": []
    },
    {
      "cell_type": "markdown",
      "source": [
        "### бонус: два графика, которые я очень люблю - но только для количественных данных"
      ],
      "metadata": {
        "id": "oSQJBxH-1jP5"
      }
    },
    {
      "cell_type": "code",
      "source": [
        "sns.heatmap(tips.corr(), xticklabels=tips.corr().columns, yticklabels=tips.corr().columns, cmap='RdYlGn', center=0, annot=True)\n",
        "plt.title('Correlogram', fontsize=22)\n",
        "plt.show()"
      ],
      "metadata": {
        "id": "T0sJWE0z1NLP"
      },
      "execution_count": null,
      "outputs": []
    },
    {
      "cell_type": "code",
      "source": [
        "sns.pairplot(tips)\n",
        "plt.show()"
      ],
      "metadata": {
        "id": "_xqrKedf09za"
      },
      "execution_count": null,
      "outputs": []
    },
    {
      "cell_type": "markdown",
      "source": [
        "### Доп. задание 1:\n",
        "\n",
        "Ниже - загрузка датасета по уровню счастья в мире\n",
        "\n",
        "Визуализируйте:\n",
        "\n",
        "- уровень счастья в мире в виде гистограммы\n",
        "- зависимость уровня счастья от любого другого показателя в датасете (облако точек, scatter)"
      ],
      "metadata": {
        "id": "78bD9Kr_20TO"
      }
    },
    {
      "cell_type": "code",
      "source": [
        "import pandas as pd\n",
        "data = pd.read_csv('https://raw.githubusercontent.com/AnnSenina/AnnSenina/main/2022.csv', decimal=',') # внимательно посмотрите на данные, в начале семинара аргумента decimal не было\n",
        "data.head()"
      ],
      "metadata": {
        "id": "oqIGK1nW222H"
      },
      "execution_count": null,
      "outputs": []
    },
    {
      "cell_type": "code",
      "source": [],
      "metadata": {
        "id": "-114miV63eiY"
      },
      "execution_count": null,
      "outputs": []
    },
    {
      "cell_type": "code",
      "source": [],
      "metadata": {
        "id": "YJ-jk3Qb3fSK"
      },
      "execution_count": null,
      "outputs": []
    },
    {
      "cell_type": "markdown",
      "source": [
        "Решение есть [здесь](https://colab.research.google.com/drive/1umwecXbNBmfZRW60XGBBo-ltw5bK6ac_?usp=sharing) (это был мой открытый мини-семинар по Python на 60 минут)\n",
        "\n",
        "Там еще много забавного: как к названиям стран быстро добавить географические координаты или (совсем бонус) как отредактировать изображение - на память))"
      ],
      "metadata": {
        "id": "PWW892Rf3fik"
      }
    },
    {
      "cell_type": "markdown",
      "source": [
        "### Доп. задание 2:\n",
        "\n",
        "Ниже - загрузка датасета про пингвинов из seaborn (можно найти на гитхабе создателей библиотеки или нашем гитхабе курса)\n",
        "\n",
        "Постройте:\n",
        "- catplot\n",
        "- jointplot\n",
        "- lmplot"
      ],
      "metadata": {
        "id": "hwEq1qXB6UBb"
      }
    },
    {
      "cell_type": "code",
      "source": [
        "peng_data = sns.load_dataset('penguins')\n",
        "peng_data"
      ],
      "metadata": {
        "id": "WFjamp9b6CKs"
      },
      "execution_count": null,
      "outputs": []
    },
    {
      "cell_type": "code",
      "source": [],
      "metadata": {
        "id": "6c1luUUK6zy8"
      },
      "execution_count": null,
      "outputs": []
    },
    {
      "cell_type": "code",
      "source": [],
      "metadata": {
        "id": "6PTg_2Nw60Kw"
      },
      "execution_count": null,
      "outputs": []
    },
    {
      "cell_type": "code",
      "source": [],
      "metadata": {
        "id": "BysrhgqG6zrp"
      },
      "execution_count": null,
      "outputs": []
    }
  ]
}