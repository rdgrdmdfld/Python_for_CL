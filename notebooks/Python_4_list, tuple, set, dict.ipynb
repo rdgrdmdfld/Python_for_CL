{
  "nbformat": 4,
  "nbformat_minor": 0,
  "metadata": {
    "colab": {
      "provenance": []
    },
    "kernelspec": {
      "name": "python3",
      "display_name": "Python 3"
    },
    "language_info": {
      "name": "python"
    }
  },
  "cells": [
    {
      "cell_type": "markdown",
      "source": [
        "#Списки и кортежи\n",
        "Эти объекты - контейнеры, хранят другие данные"
      ],
      "metadata": {
        "id": "i4yGfh1mMrc5"
      }
    },
    {
      "cell_type": "markdown",
      "source": [
        "##списки\n",
        "изменяемые итерируемые коллекции объектов произвольных типов. Записываются в квадратных скобках []"
      ],
      "metadata": {
        "id": "r2N9tbMJNJEt"
      }
    },
    {
      "cell_type": "code",
      "source": [
        "my_list = [5, 800.6, True, 'hello'] # в списке могут быть элементы разных типов\n",
        "print(my_list)\n",
        "print(len(my_list)) # длина списка, количество элементов\n",
        "print(type(my_list))"
      ],
      "metadata": {
        "id": "nW9m3zKKNEnN"
      },
      "execution_count": null,
      "outputs": []
    },
    {
      "cell_type": "code",
      "source": [
        "# как создать список?\n",
        "l = []\n",
        "print(l)"
      ],
      "metadata": {
        "id": "fT9UcrONNjPy"
      },
      "execution_count": null,
      "outputs": []
    },
    {
      "cell_type": "code",
      "source": [
        "# превратить итерируемый объект в список с помощью функции list()\n",
        "s = 'hello'\n",
        "print(list(s))"
      ],
      "metadata": {
        "id": "ZdxR8tBHNq6O"
      },
      "execution_count": null,
      "outputs": []
    },
    {
      "cell_type": "markdown",
      "source": [
        "###Методы списков\n",
        "Напишем программу, которая к списку книг books добавит книгу по вашей\n",
        "теме."
      ],
      "metadata": {
        "id": "t_jwjdNTM9N1"
      }
    },
    {
      "cell_type": "code",
      "execution_count": 1,
      "metadata": {
        "colab": {
          "base_uri": "https://localhost:8080/"
        },
        "id": "k5xXAc45Mi5Q",
        "outputId": "0a18ad45-7ac1-4514-87b4-7089c8b780aa"
      },
      "outputs": [
        {
          "output_type": "stream",
          "name": "stdout",
          "text": [
            "['Блок М. Короли-чудотворцы', 'Гинзбург К. Сыр и черви', 'Земон-Девис Н. Дамы на обочине']\n"
          ]
        }
      ],
      "source": [
        "books = ['Блок М. Короли-чудотворцы', 'Гинзбург К. Сыр и черви']\n",
        "books.append('Земон-Девис Н. Дамы на обочине') #добавить 1 эелмент в конец списка\n",
        "print(books)"
      ]
    },
    {
      "cell_type": "code",
      "source": [
        "books.extend([\"Веселовский. История земства за 40 лет\", \"Ле Руа Ладюри Э. Монтайю, окситанская деревня\"]) #расширить список, добавив в конец все элементы, написанные в скобках метода extend\n",
        "print(books)\n",
        "# аналогично books + [\"Веселовский. История земства за 40 лет\", \"Ле Руа Ладюри Э. Монтайю, окситанская деревня\"]"
      ],
      "metadata": {
        "id": "CB99f5OuOWEF"
      },
      "execution_count": null,
      "outputs": []
    },
    {
      "cell_type": "code",
      "source": [
        "books.insert(2, 'Арьес Ф. «Человек перед лицом смерти»')\n",
        "print(books)\n",
        "# списки можно перебирать по индексам\n",
        "print(books[2])"
      ],
      "metadata": {
        "id": "zPH5ipNPPIeQ"
      },
      "execution_count": null,
      "outputs": []
    },
    {
      "cell_type": "code",
      "source": [
        "books.remove('Блок М. Короли-чудотворцы') # удаление элемента из списка, если знаем его значение\n",
        "print(books)"
      ],
      "metadata": {
        "id": "NCZkQyAjPmPi"
      },
      "execution_count": null,
      "outputs": []
    },
    {
      "cell_type": "code",
      "source": [
        "del books[2] # удаляем второй (считая с нуля) элемент из списка\n",
        "print(books)"
      ],
      "metadata": {
        "id": "4Gxly7lpP2I5"
      },
      "execution_count": null,
      "outputs": []
    },
    {
      "cell_type": "code",
      "source": [
        "# доступ к индексу элемента по значению\n",
        "\n",
        "print(books)\n",
        "print(books.index(\"Веселовский. История земства за 40 лет\")) # посмотрим, на каком месте (считая от нуля) элемент \"Jane\"\n",
        "print(books.count(\"Веселовский. История земства за 40 лет\")) # посмотрим, сколько раз встречается нужный элемент в списке"
      ],
      "metadata": {
        "id": "L6MymXRBP_ud"
      },
      "execution_count": null,
      "outputs": []
    },
    {
      "cell_type": "code",
      "source": [
        "books.clear() # очистим список от всех элементов\n",
        "print(books, \"\\nдлина списка = \", len(books)) # напечатаем список и его длину"
      ],
      "metadata": {
        "id": "T2OOZ9gqRlfN"
      },
      "execution_count": null,
      "outputs": []
    },
    {
      "cell_type": "markdown",
      "source": [
        "##Кортеж (tuple)\n",
        "это неизменяемый список.\n",
        "\n",
        "Зачем нужны кортежи, если есть списки?\n",
        "\n",
        "1. Защита данных. Кортеж защищен от изменений, как намеренных (что плохо), так и случайных (что хорошо).\n",
        "2. Меньший размер. Вам нужно меньше памяти, чтобы хранить данные"
      ],
      "metadata": {
        "id": "VJvATKG-R9lb"
      }
    },
    {
      "cell_type": "code",
      "source": [
        "# сравним размеры в байтах\n",
        "\n",
        "a = (1, 2, 3, 4, 5, 6) # кортеж\n",
        "b = [1, 2, 3, 4, 5, 6] # лист/список\n",
        "\n",
        "print(\"Size of the tuple: \",a.__sizeof__(),\"\\nsize of the list: \",b.__sizeof__()) "
      ],
      "metadata": {
        "id": "oPaKUTdQSBrs"
      },
      "execution_count": null,
      "outputs": []
    },
    {
      "cell_type": "code",
      "source": [
        "# как создать кортеж\n",
        "a = tuple() \n",
        "\n",
        "print(a, \"\\n\",type(a))"
      ],
      "metadata": {
        "id": "kuxmOUEuSGDT"
      },
      "execution_count": null,
      "outputs": []
    },
    {
      "cell_type": "code",
      "source": [
        "# с помощью литерала кортежа ()\n",
        "b = ()\n",
        "print(b, \"\\n\",type(b))"
      ],
      "metadata": {
        "id": "ts6YO3fJSYuM"
      },
      "execution_count": null,
      "outputs": []
    },
    {
      "cell_type": "code",
      "source": [
        "# Создаем кортеж из одного элемента:\n",
        "a = ('apple', )\n",
        "print(a)\n",
        "b = 'apple', \n",
        "print(b)"
      ],
      "metadata": {
        "id": "U77LlkToSdMl"
      },
      "execution_count": null,
      "outputs": []
    },
    {
      "cell_type": "markdown",
      "source": [
        "кортежам доступны все операции над списками, не изменяющие список: сложение, умножение на число, методы index() и count(), можно работать с индексами и так далее.\n",
        "\n"
      ],
      "metadata": {
        "id": "nySFCY7vSu4t"
      }
    },
    {
      "cell_type": "code",
      "source": [
        "# проверим, что кортежи не изменяются:\n",
        "b[1] = 'banana'\n",
        "print(b)\n",
        "# ошибка - кортеж нельзя изменить"
      ],
      "metadata": {
        "id": "TaOAmAIqSweE"
      },
      "execution_count": null,
      "outputs": []
    },
    {
      "cell_type": "markdown",
      "source": [
        "#Множество (set)\n",
        "это тоже \"контейнер\" для данных, но в отличие от листа(списка), он содержит уникальные, не повторяющиеся элементы."
      ],
      "metadata": {
        "id": "wq7auSEsTC8g"
      }
    },
    {
      "cell_type": "code",
      "source": [
        "# создать множество с помощью функции set()\n",
        "print(set([34,78,\"banana\"]))\n",
        "\n",
        "print(set(\"hello there\"))\n",
        "\n",
        "tmp = \"hello hello there\"\n",
        "print(set(tmp.split()))"
      ],
      "metadata": {
        "id": "AzwvrVoISubp"
      },
      "execution_count": null,
      "outputs": []
    },
    {
      "cell_type": "code",
      "source": [
        "# множества удобно использовать для удаления повторяющихся элементов:\n",
        "\n",
        "fruits = [\"apples\", \"peaches\", \"cherries\", \"pears\", \"oranges\", \"persimmons\"]\n",
        "# задали список, сохранили в переменную\n",
        "\n",
        "fruits.append(\"peaches\")# добавим еще больше персиков\n",
        "\n",
        "# давайте изменим тип объекта на set с помощью функции set()\n",
        "fruits = set(fruits) #применили функцию, пересохранили переменную\n",
        "\n",
        "print(fruits)"
      ],
      "metadata": {
        "id": "x6rqNQcwXbuM"
      },
      "execution_count": null,
      "outputs": []
    },
    {
      "cell_type": "code",
      "source": [
        "new_set = {2}  # создали переменную, сложили в нее некоторые объекты\n",
        "# можем складывать в множество объекты разных типов: числовые, строковые, логические\n",
        "\n",
        "# давайте проверим, что new_set действительно множество\n",
        "print(new_set, type(new_set))"
      ],
      "metadata": {
        "id": "I7l0pjzLXi2-"
      },
      "execution_count": null,
      "outputs": []
    },
    {
      "cell_type": "code",
      "source": [
        "# Важно!!!! обратите внимание, что в отличие от листа, множество нельзя задать пустым литералом\n",
        "another_set = {} # создали пустое....\n",
        "\n",
        "# ....множество? Давайте проверим тип созданной переменной \n",
        "\n",
        "print(type(another_set)) "
      ],
      "metadata": {
        "id": "Z4LjFTi0XnXm"
      },
      "execution_count": null,
      "outputs": []
    },
    {
      "cell_type": "markdown",
      "source": [
        "###Операции со множествами\n"
      ],
      "metadata": {
        "id": "ZtkTEVoWXs68"
      }
    },
    {
      "cell_type": "code",
      "source": [
        "cars = [\"BMW\",\"Toyota\",\"Bentley\",\"Jeep\",\"Jeep\"]\n",
        "\n",
        "cars = set(cars)\n",
        "\n",
        "#число элементов в множестве (размер множества).\n",
        "len(cars)"
      ],
      "metadata": {
        "id": "HaWNVNz5Xuk6"
      },
      "execution_count": null,
      "outputs": []
    },
    {
      "cell_type": "code",
      "source": [
        "# принадлежит ли элемент множеству\n",
        "\n",
        "print(\"BMW\" in cars)\n",
        "print(\"Chevrolet\" in cars)"
      ],
      "metadata": {
        "id": "xYurLCNBXyj8"
      },
      "execution_count": null,
      "outputs": []
    },
    {
      "cell_type": "code",
      "source": [
        "#добавляем элемент в множество\n",
        "\n",
        "cars.add(789)\n",
        "print(cars)"
      ],
      "metadata": {
        "id": "Gk6t7MDzYIzX"
      },
      "execution_count": null,
      "outputs": []
    },
    {
      "cell_type": "code",
      "source": [
        "# добавляем множество во множество\n",
        "french_cars = {\"Peugeot\", \"Citroën\", \"Renault\"}\n",
        "cars.update(french_cars)\n",
        "print(cars, len(cars))"
      ],
      "metadata": {
        "id": "KkQhMuJEYMNS"
      },
      "execution_count": null,
      "outputs": []
    },
    {
      "cell_type": "code",
      "source": [
        "# удаляем элемент из множества. \n",
        "cars.remove(\"Jeep\")\n",
        "print(cars)\n",
        "# KeyError, если такого элемента не существует."
      ],
      "metadata": {
        "id": "--4p9n4rYRuB"
      },
      "execution_count": null,
      "outputs": []
    },
    {
      "cell_type": "code",
      "source": [
        "# Альтернативный вариант\n",
        "\n",
        "cars.discard(\"Lamborgini\") \n",
        "# удаляет элемент, если он находится в множестве.\n",
        "# Если элемента нет, не возвращает сообщение об ошибке"
      ],
      "metadata": {
        "id": "wgNCA6lBYnq1"
      },
      "execution_count": null,
      "outputs": []
    },
    {
      "cell_type": "code",
      "source": [
        "# удаляет первый элемент\n",
        "\n",
        "print(cars.pop())\n",
        "print(cars)\n",
        "# запустите несколько раз, посмотрите на результат"
      ],
      "metadata": {
        "id": "XVhoJSArYr3i"
      },
      "execution_count": null,
      "outputs": []
    },
    {
      "cell_type": "code",
      "source": [
        "# очищаем множество\n",
        "\n",
        "cars.clear()\n",
        "print(\"\\n\",cars)"
      ],
      "metadata": {
        "id": "Jkq2K3KuYvFs"
      },
      "execution_count": null,
      "outputs": []
    },
    {
      "cell_type": "markdown",
      "source": [
        "###Свойства множеств (логические операции)"
      ],
      "metadata": {
        "id": "GXp5enmeY9Bd"
      }
    },
    {
      "cell_type": "code",
      "source": [
        "fruits = {'apples', 'cherries', 'oranges', 'peaches', 'pears', 'persimmons'}\n",
        "berries = {\"strawberry\", \"red currant\"}\n",
        "\n",
        "# сравнение множеств\n",
        "fruits == berries\n",
        " # True если все элементы одного принадлежат второму"
      ],
      "metadata": {
        "id": "xDg6p5dCmXm0"
      },
      "execution_count": null,
      "outputs": []
    },
    {
      "cell_type": "code",
      "source": [
        "# является ли подмножеством\n",
        "\n",
        "berries.issubset(fruits) \n",
        "# print(berries <= fruits) \n",
        "\n",
        "# аналогично, но в обратную сторону\n",
        "# fruits.issuperset(berries) \n",
        "# print(berries >= fruits)"
      ],
      "metadata": {
        "id": "0uQkOEdsmuye"
      },
      "execution_count": null,
      "outputs": []
    },
    {
      "cell_type": "code",
      "source": [
        "# объединение нескольких множеств \n",
        "\n",
        "print(fruits.union(berries))\n",
        "#print(fruits | berries)"
      ],
      "metadata": {
        "id": "2NaZK0xFmyL-"
      },
      "execution_count": null,
      "outputs": []
    },
    {
      "cell_type": "code",
      "source": [
        "#  пересечение множеств (пустое, если нет общих элементов)\n",
        "\n",
        "print(fruits.intersection(berries))\n",
        "# print(fruits & berries)\n",
        "\n",
        "print(cars.intersection(french_cars))"
      ],
      "metadata": {
        "id": "xMnNzaV6nFlA"
      },
      "execution_count": null,
      "outputs": []
    },
    {
      "cell_type": "markdown",
      "source": [
        "###еще один вид множества - frozenset\n",
        "set изменяемый, frozenset - нет"
      ],
      "metadata": {
        "id": "W-U3GXfGnJTw"
      }
    },
    {
      "cell_type": "code",
      "source": [
        "a = set(\"random\") #'r', 'a', 'n'....\n",
        "b = frozenset('random')\n",
        "\n",
        "print(a == b) # давайте сравним множества"
      ],
      "metadata": {
        "id": "coh4_wibnNdI"
      },
      "execution_count": null,
      "outputs": []
    },
    {
      "cell_type": "code",
      "source": [
        "print(a.intersection(b))\n",
        "# print(a & b)"
      ],
      "metadata": {
        "id": "v0sueCdTnVfA"
      },
      "execution_count": null,
      "outputs": []
    },
    {
      "cell_type": "code",
      "source": [
        "a.add(1) # изменим первое множество\n",
        "a.remove(\"m\")\n",
        "print(a)\n",
        "print(a.intersection(b))"
      ],
      "metadata": {
        "id": "F85UiJcBniS8"
      },
      "execution_count": null,
      "outputs": []
    },
    {
      "cell_type": "code",
      "source": [
        "b.add(1)\n",
        "# мы не можем добавлять в frozenset"
      ],
      "metadata": {
        "id": "lUA2kGA9no4D"
      },
      "execution_count": null,
      "outputs": []
    },
    {
      "cell_type": "markdown",
      "source": [
        "#Словарь (dict)\n",
        "коллекции произвольных объектов, записанные в виде пары ключ : значение (ключи уникальные, значения могут повторяться)\n",
        "\n",
        "( словари =ассоциативные массивы = хеш-таблицы)\n",
        "\n",
        "Давайте создадим словарь:"
      ],
      "metadata": {
        "id": "xOC9zbhhntDy"
      }
    },
    {
      "cell_type": "code",
      "source": [
        "#  помощью литерала {}\n",
        "d = {}\n",
        "print(d, type(d))"
      ],
      "metadata": {
        "id": "zevt8I7Onvzp"
      },
      "execution_count": null,
      "outputs": []
    },
    {
      "cell_type": "code",
      "source": [
        "d_names = {\"Jane\": [\"London\", 35], 'Olga': [\"Moscow\", 40], \"Mike\": [\"Spb\", 26]} \n",
        "# Jane, Olga - это ключи, списки - значения\n",
        "print(d_names)"
      ],
      "metadata": {
        "id": "63Cfr2vnn5HU"
      },
      "execution_count": null,
      "outputs": []
    },
    {
      "cell_type": "code",
      "source": [
        "# с помощью функции dict()\n",
        "d = dict(A=67, B=903)\n",
        "print(d)"
      ],
      "metadata": {
        "id": "h9RnIMu-oDke"
      },
      "execution_count": null,
      "outputs": []
    },
    {
      "cell_type": "code",
      "source": [
        "a = [\"Jane\", \"Oleg\", \"Mia\"]\n",
        "b = [25, 27, 56]\n",
        "\n",
        "res = zip(a,b)\n",
        "\n",
        "print(list(res))"
      ],
      "metadata": {
        "id": "XlJCI8P6oVdG"
      },
      "execution_count": null,
      "outputs": []
    },
    {
      "cell_type": "code",
      "source": [
        "#с помощью метода .fromkeys()\n",
        "d = dict.fromkeys(['Jane'], [\"LA\", \"Atlanta\"])\n",
        "print(d)"
      ],
      "metadata": {
        "id": "mxgcDVaLod83"
      },
      "execution_count": null,
      "outputs": []
    },
    {
      "cell_type": "code",
      "source": [
        "d = dict.fromkeys(['a', 'b'], 100)\n",
        "print(d)"
      ],
      "metadata": {
        "id": "XyuT1fVdov2L"
      },
      "execution_count": null,
      "outputs": []
    },
    {
      "cell_type": "code",
      "source": [
        "# получить значение по ключу (аналогично индексам)\n",
        "d = {1: \"A\", 2: \"B\", 3: \"C\"}\n",
        "print(d[2]) # достаем значение по ключу 2"
      ],
      "metadata": {
        "id": "-KfTQA-Io0CI"
      },
      "execution_count": null,
      "outputs": []
    },
    {
      "cell_type": "code",
      "source": [
        "d[4] = \"D\" # добавляем пару, где ключ = 4, а значение = D\n",
        "print(d) # посмотрим на весь словарь"
      ],
      "metadata": {
        "id": "J-owDxIFo8Ea"
      },
      "execution_count": null,
      "outputs": []
    },
    {
      "cell_type": "code",
      "source": [
        "# аналогично добавим новую пару в словарь с именами\n",
        "\n",
        "d_names[\"Jack\"] = [\"Toronto\", 35]\n",
        "print(d_names[\"Jack\"])"
      ],
      "metadata": {
        "id": "lIvdktXWpCQP"
      },
      "execution_count": null,
      "outputs": []
    },
    {
      "cell_type": "code",
      "source": [
        "# перезапишем значение по ключу \n",
        "\n",
        "print(d[2])\n",
        "d[2] = \"W\"\n",
        "print(d[2])\n",
        "print(d)"
      ],
      "metadata": {
        "id": "f4Lpupr-pKsc"
      },
      "execution_count": null,
      "outputs": []
    },
    {
      "cell_type": "code",
      "source": [
        "# присвоение по новому ключу расширяет словарь;\n",
        "# присвоение по существующему ключу перезаписывает его значение;\n",
        "# попытка извлечения несуществующего ключа порождает исключение (KeyError)."
      ],
      "metadata": {
        "id": "IE617qSSpPHE"
      },
      "execution_count": null,
      "outputs": []
    },
    {
      "cell_type": "markdown",
      "source": [
        "###Методы словарей"
      ],
      "metadata": {
        "id": "zbzZCZvcpSk_"
      }
    },
    {
      "cell_type": "code",
      "source": [
        "d = {'Jane': \"London\", 'Olga': \"Moscow\", \"Paul\" : \"Paris\", \"Ivan\" : \"Minsk\", \"Anne\" : \"Copenhagen\"}\n",
        "print(d)"
      ],
      "metadata": {
        "id": "hMkf0eBepSKa"
      },
      "execution_count": null,
      "outputs": []
    },
    {
      "cell_type": "code",
      "source": [
        "# так можно посмотреть все значения всех ключей в словаре\n",
        "print(d.values())\n",
        "\n",
        "# так можно посмотреть все ключи в словаре\n",
        "print(d.keys())       "
      ],
      "metadata": {
        "id": "8fVukL-Mphqt"
      },
      "execution_count": null,
      "outputs": []
    },
    {
      "cell_type": "code",
      "source": [
        "# значения и ключи можно сохранить в отдельный лист\n",
        "d_values = list(d.values())  \n",
        "print(d_values)\n",
        "d_keys = list(d.keys()) \n",
        "print(d_keys)"
      ],
      "metadata": {
        "id": "l5JXAHIIpks-"
      },
      "execution_count": null,
      "outputs": []
    },
    {
      "cell_type": "code",
      "source": [
        "# длина словаря -- это количество ключей \n",
        "print(len(d.keys()))"
      ],
      "metadata": {
        "id": "uGm0IAKRprGv"
      },
      "execution_count": null,
      "outputs": []
    },
    {
      "cell_type": "code",
      "source": [
        "# так можно посмотреть пары (ключ, значение) в виде списка кортежей\n",
        "print(list(d.items()))"
      ],
      "metadata": {
        "id": "adBNuhtMptJP"
      },
      "execution_count": null,
      "outputs": []
    },
    {
      "cell_type": "code",
      "source": [
        "# расширение словаря\n",
        "new_dict = {\"Alexander\":\"Bonn\", \"Julia\":\"Madrid\"}\n",
        "\n",
        "d.update(new_dict) # обновляет словарь, добавляя пары (ключ, значение)\n",
        "print(d)"
      ],
      "metadata": {
        "id": "WOsE8kljp66f"
      },
      "execution_count": null,
      "outputs": []
    },
    {
      "cell_type": "code",
      "source": [
        "print(d.pop(\"Jane\")) # удаляет ключ и возвращает значение"
      ],
      "metadata": {
        "id": "gSBvZZOVp8ZO"
      },
      "execution_count": null,
      "outputs": []
    },
    {
      "cell_type": "code",
      "source": [
        "print(d.popitem()) # удаляет и возвращает пару (ключ, значение)"
      ],
      "metadata": {
        "id": "hC3hYxLgp_xG"
      },
      "execution_count": null,
      "outputs": []
    },
    {
      "cell_type": "code",
      "source": [
        "# а так очищаем словарь\n",
        "d.clear() \n",
        "print(d)"
      ],
      "metadata": {
        "id": "H1aJU8M5qL8-"
      },
      "execution_count": null,
      "outputs": []
    },
    {
      "cell_type": "markdown",
      "source": [
        "Все контейнеры можно перебирать циклами for и while"
      ],
      "metadata": {
        "id": "J1pEq04iqMdf"
      }
    }
  ]
}